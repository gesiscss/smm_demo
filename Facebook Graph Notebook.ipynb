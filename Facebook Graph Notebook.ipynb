{
 "cells": [
  {
   "cell_type": "markdown",
   "metadata": {},
   "source": [
    "# Social Media Monitoring\n",
    "\n",
    "\n",
    "The following table contains data on the politicians and their associated social acounts"
   ]
  },
  {
   "cell_type": "code",
   "execution_count": null,
   "metadata": {},
   "outputs": [],
   "source": [
    "import os\n",
    "from smm_wrapper import SMM\n",
    "import qgrid\n",
    "\n",
    "smm = SMM()\n",
    "\n",
    "politicians_df = smm.dv.politicians_df()\n",
    "\n",
    "qgrid.show_grid(politicians_df)"
   ]
  },
  {
   "cell_type": "markdown",
   "metadata": {},
   "source": [
    "Please choose the politician from the table above and input the politician_id in the field below:"
   ]
  },
  {
   "cell_type": "code",
   "execution_count": null,
   "metadata": {},
   "outputs": [],
   "source": [
    "politician_id = 1\n",
    "aggregation = 'month' #aggregation can be by day ('day'), week ('week') or month('month')"
   ]
  },
  {
   "cell_type": "code",
   "execution_count": null,
   "metadata": {},
   "outputs": [],
   "source": [
    "# using api to extract data\n",
    "posts = smm.api.posts_by(politician_id=politician_id, aggregate_by=aggregation)\n",
    "comments = smm.api.comments_by(politician_id=politician_id, aggregate_by=aggregation)"
   ]
  },
  {
   "cell_type": "code",
   "execution_count": null,
   "metadata": {},
   "outputs": [],
   "source": [
    "from bokeh.io import output_notebook, show\n",
    "from bokeh.plotting import figure\n",
    "#from datetime import datetime\n",
    "output_notebook()\n",
    "#tweets['labels'] = [datetime.strptime(item, '%Y-%m-%d') for item in tweets['labels']]\n",
    "#replies['labels'] = [datetime.strptime(item, '%Y-%m-%d') for item in replies['labels']]\n",
    "#creating plots\n",
    "\n",
    "#facebook posts plot\n",
    "p = figure(title=\"Aggregated facebook posts by Politician ID\", x_axis_type='datetime',\n",
    "           plot_height=400, plot_width=700,\n",
    "           background_fill_color='#efefef', x_axis_label='Date', y_axis_label='Facebook posts')\n",
    "p.line(posts['labels'], posts['values'], legend=\"number of posts\", line_width=2, line_color=\"blue\")\n",
    "\n",
    "#facebook comments plot\n",
    "c = figure(title=\"Aggregated facebook comments by Politician ID\", x_axis_type='datetime',\n",
    "           plot_height=400, plot_width=700,\n",
    "           background_fill_color='#efefef', x_axis_label='Date', y_axis_label='Facebook comments')\n",
    "c.line(comments['labels'], comments['values'], legend=\"number of comments\", line_width=2, line_color=\"green\")\n",
    "\n",
    "show(p)\n",
    "show(c)"
   ]
  },
  {
   "cell_type": "code",
   "execution_count": null,
   "metadata": {},
   "outputs": [],
   "source": [
    "import plotly\n",
    "from plotly import graph_objs\n",
    "trace1 = [graph_objs.Scatter(x=posts['labels'], y=posts['values'], mode='lines+markers', name='Facebook posts', marker=dict(color='blue'))]\n",
    "trace2 = [graph_objs.Scatter(x=comments['labels'], y=comments['values'], mode='lines+markers', name='Facebook comments', marker=dict(color='green'))]\n",
    "\n",
    "layout = graph_objs.Layout(hovermode='closest', xaxis=dict(title='Date'), yaxis=dict(title='Aggregated number'), showlegend=True)\n",
    "\n",
    "plotly.offline.init_notebook_mode(connected=True)\n",
    "plotly.offline.iplot({\"data\": trace1, \"layout\": layout})\n",
    "plotly.offline.iplot({\"data\": trace2, \"layout\": layout})"
   ]
  },
  {
   "cell_type": "code",
   "execution_count": null,
   "metadata": {},
   "outputs": [],
   "source": []
  }
 ],
 "metadata": {
  "kernelspec": {
   "display_name": "Python 3",
   "language": "python",
   "name": "python3"
  },
  "language_info": {
   "codemirror_mode": {
    "name": "ipython",
    "version": 3
   },
   "file_extension": ".py",
   "mimetype": "text/x-python",
   "name": "python",
   "nbconvert_exporter": "python",
   "pygments_lexer": "ipython3",
   "version": "3.6.7"
  }
 },
 "nbformat": 4,
 "nbformat_minor": 2
}
