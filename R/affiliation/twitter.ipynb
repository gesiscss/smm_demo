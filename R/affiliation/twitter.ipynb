{
 "cells": [
  {
   "cell_type": "code",
   "execution_count": null,
   "metadata": {},
   "outputs": [],
   "source": [
    "library(\"httr\")\n",
    "library(\"jsonlite\")\n",
    "library(\"ggplot2\")\n",
    "library('RJSplot')\n",
    "library('dplyr')"
   ]
  },
  {
   "cell_type": "code",
   "execution_count": null,
   "metadata": {},
   "outputs": [],
   "source": [
    "base <- \"193.175.238.88:8080/api/politicians/\"\n",
    "call1 <- paste(base,\"all/\", sep=\"\")\n",
    "get_politicians_df <- as.data.frame(fromJSON(content(GET(call1), \"text\", encoding=\"UTF-8\"), flatten = TRUE))\n",
    "# In the table 'get_politicians_df' you can see all the extracted politicians with respected twitter, facebook and wikipedia ids.\n",
    "\n",
    "tables_rjs(get_politicians_df, jupyter = TRUE)"
   ]
  },
  {
   "cell_type": "code",
   "execution_count": null,
   "metadata": {},
   "outputs": [],
   "source": [
    "# Please choose a party from the table above and input the `party` and `aggregation` variables below:\n",
    "party <- \"CDU\"\n",
    "aggregation <- \"month\" # aggregation can be by day ('day'), week ('week') or month('month')\n",
    "\n",
    "party_df <- get_politicians_df[grepl(party, get_politicians_df$affiliation, fixed=TRUE) & !is.null(get_politicians_df$tw_ids) ,]\n",
    "tweets <- data.frame()\n",
    "replies <- data.frame()\n",
    "for (tw_id in party_df$tw_ids) {\n",
    "    for (tw in tw_id) {\n",
    "        call_tweets <- paste(base,\"twitter/tweets_by/politicians/user_id/\", tw, \"/?aggregate_by=\", aggregation, sep=\"\")\n",
    "        call_replies <- paste(base,\"twitter/replies_to/politicians/user_id/\", tw, \"/?aggregate_by=\", aggregation, sep=\"\")\n",
    "        if (length(fromJSON(content(GET(call_tweets), \"text\", encoding=\"UTF-8\"), flatten = TRUE)$values) != 0)  {\n",
    "            tweets_unique <- as.data.frame(fromJSON(content(GET(call_tweets), \"text\", encoding=\"UTF-8\"), flatten = TRUE))\n",
    "            tweets_unique$twitter_user_id = tw\n",
    "            tweets <- rbind(tweets, tweets_unique)\n",
    "            }\n",
    "        if (length(fromJSON(content(GET(call_replies), \"text\", encoding=\"UTF-8\"), flatten = TRUE)$values) != 0)  {\n",
    "            replies_unique <- as.data.frame(fromJSON(content(GET(call_replies), \"text\", encoding=\"UTF-8\"), flatten = TRUE))\n",
    "            replies_unique$twitter_user_id = tw\n",
    "            replies <- rbind(replies, replies_unique)\n",
    "            }\n",
    "    }\n",
    "}\n",
    "tweets <- summarise(group_by(tweets, labels), tweets = sum(values), response_type = aggregation)\n",
    "replies <- summarise(group_by(replies, labels), replies = sum(values), response_type = aggregation)\n",
    "merged <- merge(tweets, replies, by='labels')"
   ]
  },
  {
   "cell_type": "code",
   "execution_count": null,
   "metadata": {},
   "outputs": [],
   "source": [
    "#plotting\n",
    "options(repr.plot.width=8, repr.plot.height=4)\n",
    "ggplot(data = merged, mapping = aes(labels)) +\n",
    "  geom_line(aes(y = tweets, color=\"Tweets\", group=response_type.x)) +\n",
    "  geom_line(aes(y = replies, color=\"Replies\", group=response_type.y)) +\n",
    "  labs(title = \"The number of aggregated tweets for an affiliated party\", x = \"Date\", y = \"N\") +\n",
    "  theme(axis.text.x = element_text( size = 7, angle = 60, hjust = 0.5, vjust = 0.5),\n",
    "        axis.text.y = element_text( size = 7), legend.title = element_blank(), plot.title = element_text(size=10))"
   ]
  },
  {
   "cell_type": "code",
   "execution_count": null,
   "metadata": {},
   "outputs": [],
   "source": []
  }
 ],
 "metadata": {
  "kernelspec": {
   "display_name": "R",
   "language": "R",
   "name": "ir"
  },
  "language_info": {
   "codemirror_mode": "r",
   "file_extension": ".r",
   "mimetype": "text/x-r-source",
   "name": "R",
   "pygments_lexer": "r",
   "version": "3.6.0"
  }
 },
 "nbformat": 4,
 "nbformat_minor": 2
}
