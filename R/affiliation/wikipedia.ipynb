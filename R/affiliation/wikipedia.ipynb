{
 "cells": [
  {
   "cell_type": "code",
   "execution_count": null,
   "metadata": {},
   "outputs": [],
   "source": [
    "install.packages(\"httr\")\n",
    "install.packages(\"jsonlite\")\n",
    "install.packages(\"ggplot2\")\n",
    "install.packages('RJSplot')\n",
    "install.packages('dplyr')"
   ]
  },
  {
   "cell_type": "code",
   "execution_count": null,
   "metadata": {},
   "outputs": [],
   "source": [
    "require(\"httr\")\n",
    "require(\"jsonlite\")\n",
    "base <- \"193.175.238.88:8080/api/politicians/\"\n",
    "call1 <- paste(base,\"all/\", sep=\"\")\n",
    "get_politicians_df <- as.data.frame(fromJSON(content(GET(call1), \"text\", encoding=\"UTF-8\"), flatten = TRUE))\n",
    "# In the table 'get_politicians_df' you can see all the extracted politicians with respected twitter, facebook and wikipedia ids.\n",
    "\n",
    "require(\"RJSplot\")\n",
    "tables_rjs(get_politicians_df, jupyter = TRUE)"
   ]
  },
  {
   "cell_type": "code",
   "execution_count": null,
   "metadata": {},
   "outputs": [],
   "source": [
    "# Please choose a party from the table above and input the `party` and `aggregation` variables below:\n",
    "party <- \"CDU\"\n",
    "aggregation <- \"month\" # aggregation can be by day ('day'), week ('week') or month('month')\n",
    "\n",
    "party_df <- get_politicians_df[get_politicians_df$affiliation == party & !is.null(get_politicians_df$wp_ids) ,]\n",
    "chobs <- data.frame()\n",
    "for (wp_id in party_df$wp_ids) {\n",
    "    for (wp in wp_id) {\n",
    "        call_chobs <- paste(base,\"wikipedia/posts_by/politicians/user_id/\", toString(fb), \"/?aggregate_by=\", aggregation, sep=\"\")\n",
    "        if (length(fromJSON(content(GET(call_posts), \"text\", encoding=\"UTF-8\"), flatten = TRUE)$values) != 0)  {\n",
    "            posts_unique <- as.data.frame(fromJSON(content(GET(call_posts), \"text\", encoding=\"UTF-8\"), flatten = TRUE))\n",
    "            posts_unique$fb_user_id = fb\n",
    "            posts <- rbind(posts, posts_unique)\n",
    "            }"
   ]
  }
 ],
 "metadata": {
  "kernelspec": {
   "display_name": "R",
   "language": "R",
   "name": "ir"
  },
  "language_info": {
   "codemirror_mode": "r",
   "file_extension": ".r",
   "mimetype": "text/x-r-source",
   "name": "R",
   "pygments_lexer": "r",
   "version": "3.6.0"
  }
 },
 "nbformat": 4,
 "nbformat_minor": 2
}
