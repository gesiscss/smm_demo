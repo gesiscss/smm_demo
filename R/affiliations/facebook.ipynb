{
 "cells": [
  {
   "cell_type": "markdown",
   "metadata": {},
   "source": [
    "# Politician Activity on Facebook by Political Affiliation\n",
    "\n",
    "The parameters in the cell below can be adjusted to explore other political affiliations and time frames.\n",
    "\n",
    "### How to explore other political affiliation?\n",
    "The ***affiliation*** parameter can be use to aggregate politicians by their political affiliations. The column `affiliation` in this [this other notebook](../politicians.ipynb?autorun=true) show the politicians that belong each political affiliation.\n",
    "\n",
    "***Alternatively***, you can direcly use the [politicians API](http://mediamonitoring.gesis.org/api/politicians/swagger/), or access it with the [SMM Wrapper](https://pypi.org/project/smm-wrapper/).\n",
    "\n",
    "## A. Set Up parameters"
   ]
  },
  {
   "cell_type": "code",
   "execution_count": null,
   "metadata": {},
   "outputs": [],
   "source": [
    "# Parameters: \n",
    "affiliation = 'AfD'\n",
    "from_date = '2017-09-01'\n",
    "to_date = '2018-12-31'\n",
    "aggregation = 'week'"
   ]
  },
  {
   "cell_type": "markdown",
   "metadata": {},
   "source": [
    "## B. Using the SMM Politician API"
   ]
  },
  {
   "cell_type": "code",
   "execution_count": null,
   "metadata": {},
   "outputs": [],
   "source": [
    "library(\"httr\")\n",
    "library(\"jsonlite\")\n",
    "library('dplyr', warn.conflicts = FALSE)\n",
    "\n",
    "# prepare urls\n",
    "base <- \"http://mediamonitoring.gesis.org/api/politicians/\"\n",
    "url_all <- paste(base,\"all/\", sep=\"\")\n",
    "url_posts <- paste(base, \"facebook/posts_by/politicians/\", sep=\"\")\n",
    "url_comments <- paste(base, \"facebook/comments_by/politicians/\", sep=\"\")\n",
    "\n",
    "# prepare parameters\n",
    "params = list(\n",
    "    from_date=from_date,\n",
    "    to_date=to_date,\n",
    "    aggregate_by=aggregation\n",
    ")\n",
    "\n",
    "# use the api to get the politicians and filter the parties\n",
    "orgs <- as.data.frame(fromJSON(content(GET(url_all), \"text\", encoding=\"UTF-8\"), flatten = TRUE))\n",
    "party_df <- orgs[orgs$affiliation == affiliation & !is.null(orgs$fb_ids) ,]\n",
    "\n",
    "\n",
    "# query the Social Media Monitoring API for posts and comments\n",
    "posts <- data.frame()\n",
    "comments <- data.frame()\n",
    "for (politician_id in party_df$politician_id) {\n",
    "    json_posts <- fromJSON(content(GET(paste(url_posts, politician_id, \"/?\", sep=\"\"),query=params), \"text\", encoding=\"UTF-8\"), flatten = TRUE)\n",
    "    json_comments <- fromJSON(content(GET(paste(url_comments, politician_id, \"/?\", sep=\"\"), query=params), \"text\", encoding=\"UTF-8\"), flatten = TRUE)\n",
    "\n",
    "    # concatenate\n",
    "    if (length(json_posts$values) != 0) {\n",
    "        posts <- rbind(posts, as.data.frame(json_posts))\n",
    "    }    \n",
    "    if (length(json_comments$values) != 0) {\n",
    "        comments <- rbind(comments, as.data.frame(json_comments))\n",
    "    }\n",
    "}\n",
    "\n",
    "# group by day, week, or month, and then merge\n",
    "posts <- summarise(group_by(posts, labels), posts = sum(values), shares = sum(shares), replies = sum(replies), reactions = sum(reactions), likes = sum(likes), response_type = aggregation)\n",
    "comments <- summarise(group_by(comments, labels), comments = sum(values), replies = sum(replies), likes = sum(likes), response_type = aggregation)\n",
    "merged <- merge(posts, comments, by='labels')"
   ]
  },
  {
   "cell_type": "markdown",
   "metadata": {},
   "source": [
    "## C. Plotting\n",
    "### C.1 Plot Facebook Post Activity"
   ]
  },
  {
   "cell_type": "code",
   "execution_count": null,
   "metadata": {},
   "outputs": [],
   "source": [
    "library(\"ggplot2\")\n",
    "options(repr.plot.width=8, repr.plot.height=4)\n",
    "\n",
    "#plotting facebook posts\n",
    "ggplot(data = merged, mapping = aes(as.Date(labels))) +\n",
    "  geom_line(aes(y = posts, color=\"Posts\", group=response_type.x)) +\n",
    "  geom_line(aes(y = replies.x, color=\"Replies\", group=response_type.x)) +\n",
    "  geom_line(aes(y = shares, color=\"Shares\", group=response_type.x)) +\n",
    "  geom_line(aes(y = reactions, color=\"Reactions\", group=response_type.x)) +\n",
    "  geom_line(aes(y = likes.x, color=\"Likes\", group=response_type.x)) +\n",
    "  labs(title = \"Facebook (Posts Activity)\", y = \"Posts\") +\n",
    "  theme(axis.text.x = element_text(angle = 60, hjust = 0.5, vjust = 0.5),\n",
    "        axis.title.x = element_blank(), legend.title = element_blank()) +\n",
    "  scale_x_date(date_breaks = \"1 weeks\") "
   ]
  },
  {
   "cell_type": "markdown",
   "metadata": {},
   "source": [
    "### C.2 Plot Facebook Comment Activity"
   ]
  },
  {
   "cell_type": "code",
   "execution_count": null,
   "metadata": {},
   "outputs": [],
   "source": [
    "#plotting facebook comments\n",
    "ggplot(data = merged, mapping = aes(as.Date(labels))) +\n",
    "  geom_line(aes(y = comments, color=\"Comments\", group=response_type.y)) +\n",
    "  geom_line(aes(y = replies.y, color=\"Replies\", group=response_type.y)) +\n",
    "  geom_line(aes(y = likes.y, color=\"Likes\", group=response_type.x)) +\n",
    "  labs(title = \"Facebook (Comments Activity)\", y = \"Comments\") +\n",
    "  theme(axis.text.x = element_text(angle = 60, hjust = 0.5, vjust = 0.5),\n",
    "        axis.title.x = element_blank(), legend.title = element_blank()) +\n",
    "scale_x_date(date_breaks = \"1 weeks\") "
   ]
  }
 ],
 "metadata": {
  "kernelspec": {
   "display_name": "R",
   "language": "R",
   "name": "ir"
  },
  "language_info": {
   "codemirror_mode": "r",
   "file_extension": ".r",
   "mimetype": "text/x-r-source",
   "name": "R",
   "pygments_lexer": "r",
   "version": "3.6.0"
  }
 },
 "nbformat": 4,
 "nbformat_minor": 2
}
