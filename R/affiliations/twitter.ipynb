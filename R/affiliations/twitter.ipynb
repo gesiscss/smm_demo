{
 "cells": [
  {
   "cell_type": "markdown",
   "metadata": {},
   "source": [
    "# Politician Activity on Twitter by Political Affiliation\n",
    "\n",
    "The parameters in the cell below can be adjusted to explore other political affiliations and time frames.\n",
    "\n",
    "### How to explore other political affiliation?\n",
    "The ***affiliation*** parameter can be use to aggregate politicians by their political affiliations. The column `affiliation` in this [this other notebook](../politicians.ipynb?autorun=true) show the politicians that belong each political affiliation.\n",
    "\n",
    "***Alternatively***, you can direcly use the [politicians API](http://mediamonitoring.gesis.org/api/politicians/swagger/), or access it with the [SMM Wrapper](https://pypi.org/project/smm-wrapper/).\n",
    "\n",
    "## A. Set Up parameters"
   ]
  },
  {
   "cell_type": "code",
   "execution_count": null,
   "metadata": {},
   "outputs": [],
   "source": [
    "# Parameters: \n",
    "affiliation = 'CSU'\n",
    "from_date = '2017-09-01'\n",
    "to_date = '2018-12-31'\n",
    "aggregation = 'week'"
   ]
  },
  {
   "cell_type": "markdown",
   "metadata": {},
   "source": [
    "## B. Using the SMM Politician API"
   ]
  },
  {
   "cell_type": "code",
   "execution_count": null,
   "metadata": {},
   "outputs": [],
   "source": [
    "library(\"httr\")\n",
    "library(\"jsonlite\")\n",
    "library('dplyr', warn.conflicts = FALSE)\n",
    "\n",
    "# prepare urls\n",
    "base <- \"http://mediamonitoring.gesis.org/api/politicians/\"\n",
    "url_all <- paste(base,\"all/\", sep=\"\")\n",
    "url_tweets <- paste(base, \"twitter/tweets_by/politicians/\", sep=\"\")\n",
    "url_replies <- paste(base, \"twitter/replies_to/politicians/\", sep=\"\")\n",
    "\n",
    "# prepare parameters\n",
    "params = list(\n",
    "    from_date=from_date,\n",
    "    to_date=to_date,\n",
    "    aggregate_by=aggregation\n",
    ")\n",
    "\n",
    "# use the api to get the politicians and filter the parties\n",
    "orgs <- as.data.frame(fromJSON(content(GET(url_all), \"text\", encoding=\"UTF-8\"), flatten = TRUE))\n",
    "party_df <- orgs[grepl(affiliation, orgs$affiliation, fixed=TRUE) & !is.null(orgs$tw_ids) ,]\n",
    "\n",
    "# query the Social Media Monitoring API for tweets and replies\n",
    "tweets <- data.frame()\n",
    "replies <- data.frame()\n",
    "for (politician_id in party_df$politician_id) {\n",
    "    json_tweets <- fromJSON(content(GET(paste(url_tweets, politician_id, \"/?\", sep=\"\"),query=params), \"text\", encoding=\"UTF-8\"), flatten = TRUE)\n",
    "    json_replies <- fromJSON(content(GET(paste(url_replies, politician_id, \"/?\", sep=\"\"), query=params), \"text\", encoding=\"UTF-8\"), flatten = TRUE)\n",
    "\n",
    "    # concatenate\n",
    "    if (length(json_tweets$values) != 0) {\n",
    "        tweets <- rbind(tweets, as.data.frame(json_tweets))\n",
    "    }    \n",
    "    if (length(json_replies$values) != 0) {\n",
    "        replies <- rbind(replies, as.data.frame(json_replies))\n",
    "    }\n",
    "}\n",
    "\n",
    "# group by day, week, or month, and then merge\n",
    "tweets <- summarise(group_by(tweets, labels), tweets = sum(values), response_type = aggregation)\n",
    "replies <- summarise(group_by(replies, labels), replies = sum(values), response_type = aggregation)\n",
    "merged <- merge(tweets, replies, by='labels')"
   ]
  },
  {
   "cell_type": "markdown",
   "metadata": {},
   "source": [
    "## C. Plotting"
   ]
  },
  {
   "cell_type": "code",
   "execution_count": null,
   "metadata": {},
   "outputs": [],
   "source": [
    "library(\"ggplot2\")\n",
    "\n",
    "#plotting\n",
    "options(repr.plot.width=8, repr.plot.height=4)\n",
    "ggplot(data = merged, mapping = aes(as.Date(labels))) +\n",
    "  geom_line(aes(y = tweets, color=\"Tweets\", group=response_type.x)) +\n",
    "  geom_line(aes(y = replies, color=\"Replies\", group=response_type.y)) +\n",
    "  labs(title = \"Twitter (tweets)\", x = \"\", y = \"Tweets\") +\n",
    "  theme(axis.text.x = element_text( size = 7, angle = 60, hjust = 0.5, vjust = 0.5),\n",
    "        axis.text.y = element_text( size = 7), legend.title = element_blank(), plot.title = element_text(size=10)) +\n",
    "scale_x_date(date_breaks = \"2 weeks\") + scale_y_continuous(labels = scales::number_format(big.mark = \"\"))"
   ]
  }
 ],
 "metadata": {
  "kernelspec": {
   "display_name": "R",
   "language": "R",
   "name": "ir"
  },
  "language_info": {
   "codemirror_mode": "r",
   "file_extension": ".r",
   "mimetype": "text/x-r-source",
   "name": "R",
   "pygments_lexer": "r"
  }
 },
 "nbformat": 4,
 "nbformat_minor": 2
}
