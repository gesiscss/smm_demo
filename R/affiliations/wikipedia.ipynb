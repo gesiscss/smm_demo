{
 "cells": [
  {
   "cell_type": "markdown",
   "metadata": {},
   "source": [
    "# Politician Activity on Wikipedia by Political Affiliation\n",
    "\n",
    "The parameters in the cell below can be adjusted to explore other political affiliations and time frames.\n",
    "\n",
    "### How to explore other political affiliation?\n",
    "The ***affiliation*** parameter can be use to aggregate politicians by their political affiliations. The column `affiliation` in this [this other notebook](../politicians.ipynb?autorun=true) show the politicians that belong each political affiliation.\n",
    "\n",
    "***Alternatively***, you can direcly use the [politicians API](http://mediamonitoring.gesis.org/api/politicians/swagger/), or access it with the [SMM Wrapper](https://pypi.org/project/smm-wrapper/)."
   ]
  },
  {
   "cell_type": "code",
   "execution_count": null,
   "metadata": {},
   "outputs": [],
   "source": [
    "# Parameters: \n",
    "affiliation = 'CSU'\n",
    "aggregation = 'week' # aggregation can be by day ('day'), week ('week') or month('month')\n",
    "from_date <-'2017-09-01'\n",
    "to_date <-'2018-12-31'"
   ]
  },
  {
   "cell_type": "code",
   "execution_count": null,
   "metadata": {},
   "outputs": [],
   "source": [
    "library(\"httr\")\n",
    "library(\"jsonlite\")\n",
    "library(\"ggplot2\")\n",
    "library('RJSplot')\n",
    "library('dplyr')"
   ]
  },
  {
   "cell_type": "markdown",
   "metadata": {},
   "source": [
    "## Using API"
   ]
  },
  {
   "cell_type": "code",
   "execution_count": null,
   "metadata": {},
   "outputs": [],
   "source": [
    "base <- \"193.175.238.88/api/politicians/\"\n",
    "call1 <- paste(base,\"all/\", sep=\"\")\n",
    "get_politicians_df <- as.data.frame(fromJSON(content(GET(call1), \"text\", encoding=\"UTF-8\"), flatten = TRUE))\n",
    "party_df <- get_politicians_df[get_politicians_df$affiliation == affiliation & !is.null(get_politicians_df$wp_ids) ,]"
   ]
  },
  {
   "cell_type": "code",
   "execution_count": null,
   "metadata": {},
   "outputs": [],
   "source": [
    "base_ww <- \"https://www.wikiwho.net/de/edit_persistence/v1.0.0-beta/page/\"\n",
    "base_ch <- paste(base, \"wikipedia/chobs/politicians/page_id/\",sep=\"\")\n",
    "chobs <- data.frame()\n",
    "wikiwho <- data.frame()\n",
    "for (wp_id in party_df$wp_ids) {\n",
    "    for (wp in wp_id) {\n",
    "        call_chobs <- paste(base_ch, toString(wp), \"/?from_date=\",from_date,\"&to_date=\",to_date,\"&aggregate_by=\", aggregation, sep=\"\")\n",
    "        json_chobs <- fromJSON(content(GET(call_chobs), \"text\", encoding=\"UTF-8\"))\n",
    "        if (length(json_chobs$values) != 0)  {\n",
    "            chobs_unique <- as.data.frame(fromJSON(content(GET(call_chobs), \"text\", encoding=\"UTF-8\"), flatten = TRUE))\n",
    "            chobs_unique$wp_user_id = wp\n",
    "            chobs <- rbind(chobs, chobs_unique)\n",
    "        }\n",
    "        call_wikiwho <- paste(base_ww, wp ,\"/?start=\",from_date,\"&end=\",to_date,sep=\"\")\n",
    "        json_wikiwho <- fromJSON(content(GET(call_wikiwho), \"text\", encoding=\"UTF-8\"))\n",
    "        wikiwho <- rbind(wikiwho, json_wikiwho$editions)\n",
    "    }\n",
    "}\n",
    "\n",
    "wikiwho$undos <- wikiwho$dels + wikiwho$reins\n",
    "wikiwho <- summarise(group_by(wikiwho, year_month), undos = sum(undos),revisions = sum(revisions), conflict = sum(conflict), elegibles= sum(elegibles))\n",
    "wikiwho$conflict_score <- wikiwho$conflict/ wikiwho$elegibles\n",
    "chobs <- summarise(group_by(chobs, labels), values = sum(values))\n",
    "wikiwho[is.na(wikiwho)] <- 0"
   ]
  },
  {
   "cell_type": "code",
   "execution_count": null,
   "metadata": {},
   "outputs": [],
   "source": [
    "appended_views = list()\n",
    "for (wp_title in party_df$wp_titles) {\n",
    "    for (wp in wp_title) {       \n",
    "        \n",
    "        x <- tryCatch(\n",
    "            {\n",
    "                call_views <- paste(\"https://wikimedia.org/api/rest_v1/metrics/pageviews/per-article/de.wikipedia.org/all-access/user/\", wp,\"/\", \"daily/\",gsub(\"-\", \"\", from_date),\"/\",gsub(\"-\", \"\", to_date), sep=\"\")\n",
    "                view = as.data.frame(fromJSON(content(GET(call_views), \"text\", encoding=\"UTF-8\"), flatten = TRUE))\n",
    "                appended_views <- append(appended_views, list(view))\n",
    "            },\n",
    "   error = function(e) e )\n",
    "\n",
    "    }\n",
    "}\n",
    "views  <- dplyr::bind_rows(appended_views)\n",
    "views<-views[c(\"items.timestamp\", \"items.views\")]\n",
    "views$items.timestamp<-as.POSIXct(strptime(views[[\"items.timestamp\"]], format='%Y%m%d%H'),tz = 'GMT')\n",
    "\n",
    "if (aggregation  == 'day'){\n",
    "    views<-summarise(group_by(views, time = cut(items.timestamp, \"day\")), items.views = sum(items.views))\n",
    "    }\n",
    "if (aggregation  == 'week'){\n",
    "    views<-summarise(group_by(views, time = cut(items.timestamp, \"week\")), items.views = sum(items.views))\n",
    "    }\n",
    "if (aggregation  == 'month'){  \n",
    "    views<-summarise(group_by(views, time = cut(items.timestamp, \"month\")), items.views = sum(items.views))\n",
    "    }\n"
   ]
  },
  {
   "cell_type": "code",
   "execution_count": null,
   "metadata": {},
   "outputs": [],
   "source": [
    "#plotting\n",
    "options(repr.plot.width=8, repr.plot.height=4)\n",
    "ggplot(data = chobs, mapping = aes(as.Date(labels))) +\n",
    "  geom_line(aes(y = values, color=\"Changes\")) + \n",
    "  labs(title = \"Wikipedia Activity\", x = \"\", y = \"Changes\") +\n",
    "  theme(axis.text.x = element_text( size = 7, angle = 60, hjust = 0.5, vjust = 0.5),\n",
    "        axis.text.y = element_text( size = 7), legend.title = element_blank(), legend.position=\"none\") +\n",
    "  scale_x_date(date_breaks = \"1 month\")\n",
    "\n",
    "options(repr.plot.width=8, repr.plot.height=4)\n",
    "ggplot(data = views, mapping = aes(as.Date(time))) +\n",
    "  geom_line(aes(y = items.views, color=\"Views\"))  + \n",
    "  labs(title = \"\", x = \"Date\", y = \"Views\") +\n",
    "  theme(axis.text.x = element_text( size = 7, angle = 60, hjust = 0.5, vjust = 0.5),\n",
    "        axis.text.y = element_text( size = 7), legend.title = element_blank(), legend.position=\"none\") +\n",
    "  scale_x_date(date_breaks = \"1 month\")"
   ]
  },
  {
   "cell_type": "code",
   "execution_count": null,
   "metadata": {},
   "outputs": [],
   "source": [
    "options(repr.plot.width=8, repr.plot.height=4)\n",
    "ggplot(data = wikiwho, mapping = aes(as.Date(year_month))) +\n",
    "  geom_line(aes(y = undos, color=\"Undos\")) +  \n",
    "  labs(title = \"Wikipedia Disagreements\", x = \"\", y = \"Undos\") +\n",
    "  theme(axis.text.x = element_text( size = 7, angle = 60, hjust = 0.5, vjust = 0.5),\n",
    "        axis.text.y = element_text( size = 7), legend.title = element_blank()) +\n",
    "  scale_x_date(date_breaks = \"1 month\") \n",
    "\n",
    "options(repr.plot.width=8, repr.plot.height=4)\n",
    "ggplot(data = wikiwho, mapping = aes(as.Date(year_month))) +  \n",
    "  geom_line(aes(y = conflict_score, color=\"Conflict\")) +\n",
    "  labs( x = \"Date\", y = \"Conflict\") +\n",
    "  theme(axis.text.x = element_text( size = 7, angle = 60, hjust = 0.5, vjust = 0.5),\n",
    "        axis.text.y = element_text( size = 7), legend.title = element_blank()) +\n",
    "  scale_x_date(date_breaks = \"1 month\") + expand_limits(y = 0)\n"
   ]
  }
 ],
 "metadata": {
  "kernelspec": {
   "display_name": "R",
   "language": "R",
   "name": "ir"
  },
  "language_info": {
   "codemirror_mode": "r",
   "file_extension": ".r",
   "mimetype": "text/x-r-source",
   "name": "R",
   "pygments_lexer": "r",
   "version": "3.6.0"
  }
 },
 "nbformat": 4,
 "nbformat_minor": 2
}
