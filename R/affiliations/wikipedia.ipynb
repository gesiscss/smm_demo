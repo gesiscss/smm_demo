{
 "cells": [
  {
   "cell_type": "code",
   "execution_count": null,
   "metadata": {},
   "outputs": [],
   "source": [
    "# Parameters: \n",
    "affiliation = 'CSU'\n",
    "aggregation = 'week' # aggregation can be by day ('day'), week ('week') or month('month')\n",
    "from_date <-'2017-09-01'\n",
    "to_date <-'2018-12-31'"
   ]
  },
  {
   "cell_type": "code",
   "execution_count": null,
   "metadata": {},
   "outputs": [],
   "source": [
    "library(\"httr\")\n",
    "library(\"jsonlite\")\n",
    "library(\"ggplot2\")\n",
    "library('RJSplot')\n",
    "library('dplyr')"
   ]
  },
  {
   "cell_type": "markdown",
   "metadata": {},
   "source": [
    "## Using API"
   ]
  },
  {
   "cell_type": "code",
   "execution_count": null,
   "metadata": {},
   "outputs": [],
   "source": [
    "base <- \"193.175.238.88:8080/api/politicians/\"\n",
    "call1 <- paste(base,\"all/\", sep=\"\")\n",
    "get_politicians_df <- as.data.frame(fromJSON(content(GET(call1), \"text\", encoding=\"UTF-8\"), flatten = TRUE))\n",
    "party_df <- get_politicians_df[get_politicians_df$affiliation == affiliation & !is.null(get_politicians_df$wp_ids) ,]"
   ]
  },
  {
   "cell_type": "code",
   "execution_count": null,
   "metadata": {},
   "outputs": [],
   "source": [
    "base_ww <- \"https://www.wikiwho.net/de/edit_persistence/v1.0.0-beta/page/\"\n",
    "base_ch <- paste(base, \"wikipedia/chobs/politicians/page_id/\",sep=\"\")\n",
    "chobs <- data.frame()\n",
    "wikiwho <- data.frame()\n",
    "for (wp_id in party_df$wp_ids) {\n",
    "    for (wp in wp_id) {\n",
    "        call_chobs <- paste(base_ch, toString(wp), \"/?from_date=\",from_date,\"&to_date=\",to_date,\"&aggregate_by=\", aggregation, sep=\"\")\n",
    "        json_chobs <- fromJSON(content(GET(call_chobs), \"text\", encoding=\"UTF-8\"))\n",
    "        if (length(json_chobs$values) != 0)  {\n",
    "            chobs_unique <- as.data.frame(fromJSON(content(GET(call_chobs), \"text\", encoding=\"UTF-8\"), flatten = TRUE))\n",
    "            chobs_unique$wp_user_id = wp\n",
    "            chobs <- rbind(chobs, chobs_unique)\n",
    "        }\n",
    "        call_wikiwho <- paste(base_ww, wp ,\"/?start=\",from_date,\"&end=\",to_date,sep=\"\")\n",
    "        json_wikiwho <- fromJSON(content(GET(call_wikiwho), \"text\", encoding=\"UTF-8\"))\n",
    "        wikiwho <- rbind(wikiwho, json_wikiwho$editions)\n",
    "    }\n",
    "}\n",
    "\n",
    "wikiwho$undos <- wikiwho$dels + wikiwho$reins\n",
    "wikiwho <- summarise(group_by(wikiwho, year_month), undos = sum(undos),revisions = sum(revisions), conflicts = sum(conflicts))\n",
    "chobs <- summarise(group_by(chobs, labels), values = sum(values))"
   ]
  },
  {
   "cell_type": "code",
   "execution_count": null,
   "metadata": {},
   "outputs": [],
   "source": [
    "#plotting\n",
    "options(repr.plot.width=8, repr.plot.height=4)\n",
    "ggplot(data = chobs, mapping = aes(as.Date(labels))) +\n",
    "  geom_line(aes(y = values, color=\"Change objects\")) + \n",
    "  labs(title = \"Wikipedia Activity\", x = \"\", y = \"Change Objects\") +\n",
    "  theme(axis.text.x = element_text( size = 7, angle = 60, hjust = 0.5, vjust = 0.5),\n",
    "        axis.text.y = element_text( size = 7), legend.title = element_blank(), legend.position=\"none\") +\n",
    "  scale_x_date(date_breaks = \"1 month\")+ scale_y_continuous(labels = scales::number_format(big.mark = \"\"))\n",
    "\n",
    "options(repr.plot.width=8, repr.plot.height=4)\n",
    "ggplot(data = wikiwho, mapping = aes(as.Date(year_month))) +\n",
    "  geom_line(aes(y = revisions, color=\"Revisions\"))  + \n",
    "  labs(title = \"\", x = \"Date\", y = \"Revisions\") +\n",
    "  theme(axis.text.x = element_text( size = 7, angle = 60, hjust = 0.5, vjust = 0.5),\n",
    "        axis.text.y = element_text( size = 7), legend.title = element_blank(), legend.position=\"none\") +\n",
    "  scale_x_date(date_breaks = \"1 month\")+ scale_y_continuous(labels = scales::number_format(big.mark = \"\"))"
   ]
  },
  {
   "cell_type": "code",
   "execution_count": null,
   "metadata": {},
   "outputs": [],
   "source": [
    "options(repr.plot.width=8, repr.plot.height=4)\n",
    "ggplot(data = wikiwho, mapping = aes(as.Date(year_month))) +\n",
    "  geom_line(aes(y = undos, color=\"Undos\")) +\n",
    "  geom_line(aes(y = conflicts, color=\"Conflicts\")) +\n",
    "  labs(title = \"Wikipedia Conflicts\", x = \"Date\", y = \"Undos and Conflicts\") +\n",
    "  theme(axis.text.x = element_text( size = 7, angle = 60, hjust = 0.5, vjust = 0.5),\n",
    "        axis.text.y = element_text( size = 7), legend.title = element_blank()) +\n",
    "  scale_x_date(date_breaks = \"1 month\") + scale_y_continuous(labels = scales::number_format(big.mark = \"\"))"
   ]
  }
 ],
 "metadata": {
  "kernelspec": {
   "display_name": "R",
   "language": "R",
   "name": "ir"
  },
  "language_info": {
   "codemirror_mode": "r",
   "file_extension": ".r",
   "mimetype": "text/x-r-source",
   "name": "R",
   "pygments_lexer": "r",
   "version": "3.6.0"
  }
 },
 "nbformat": 4,
 "nbformat_minor": 2
}
