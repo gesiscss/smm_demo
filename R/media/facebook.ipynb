{
 "cells": [
  {
   "cell_type": "code",
   "execution_count": null,
   "metadata": {},
   "outputs": [],
   "source": [
    "# Parameters: \n",
    "media = 'Newspaper'\n",
    "aggregation = 'week' # aggregation can be by day ('day'), week ('week') or month('month')\n",
    "from_date <-'2017-09-01'\n",
    "to_date <-'2018-12-31'"
   ]
  },
  {
   "cell_type": "code",
   "execution_count": null,
   "metadata": {},
   "outputs": [],
   "source": [
    "library(\"httr\")\n",
    "library(\"jsonlite\")\n",
    "library(\"ggplot2\")\n",
    "library('RJSplot')\n",
    "library('dplyr')"
   ]
  },
  {
   "cell_type": "markdown",
   "metadata": {},
   "source": [
    "## Using API"
   ]
  },
  {
   "cell_type": "code",
   "execution_count": null,
   "metadata": {},
   "outputs": [],
   "source": [
    "base <- \"193.175.238.88:8080/api/organizations/\"\n",
    "call1 <- paste(base,\"all/\", sep=\"\")\n",
    "get_organizations_df <- as.data.frame(fromJSON(content(GET(call1), \"text\", encoding=\"UTF-8\"), flatten = TRUE))\n",
    "media_df <- get_organizations_df[grepl(media, get_organizations_df$subcategory, fixed=TRUE) & !is.null(get_organizations_df$fb_ids) ,]\n",
    "\n",
    "posts <- data.frame()\n",
    "comments <- data.frame()\n",
    "# make sure that accounts are not repeated, e.g. Die Zeit (Online) and Die Zeit (Allgemeine) could\n",
    "# share an account if facebook but not in twitter\n",
    "\n",
    "all_ids = c()\n",
    "# query the Social Media Monitoring API\n",
    "for (fb_id in media_df$fb_ids){\n",
    "    for (fb in fb_id) {\n",
    "        if (!fb %in% all_ids){\n",
    "            call_posts <- paste(base,\"facebook/posts_by/organizations/user_id/\", toString(fb), \"/?from_date=\",from_date,\"&to_date=\",to_date,\"&aggregate_by=\", aggregation, sep=\"\")\n",
    "            call_comments <- paste(base,\"facebook/comments_by/organizations/user_id/\", toString(fb), \"/?from_date=\",from_date,\"&to_date=\",to_date,\"&aggregate_by=\", aggregation, sep=\"\")\n",
    "            if (length(fromJSON(content(GET(call_posts), \"text\", encoding=\"UTF-8\"), flatten = TRUE)$values) != 0)  {\n",
    "                posts_unique <- as.data.frame(fromJSON(content(GET(call_posts), \"text\", encoding=\"UTF-8\"), flatten = TRUE))\n",
    "                posts_unique$fb_user_id = fb\n",
    "                posts <- rbind(posts, posts_unique)\n",
    "            }\n",
    "            if (length(fromJSON(content(GET(call_comments), \"text\", encoding=\"UTF-8\"), flatten = TRUE)$values) != 0)  {\n",
    "                comments_unique <- as.data.frame(fromJSON(content(GET(call_comments), \"text\", encoding=\"UTF-8\"), flatten = TRUE))\n",
    "                comments_unique$fb_user_id = fb\n",
    "                comments <- rbind(comments, comments_unique)\n",
    "            }\n",
    "            all_ids <- append(all_ids, fb)\n",
    "        }\n",
    "    }\n",
    "}\n",
    "posts <- summarise(group_by(posts, labels), posts = sum(values), shares = sum(shares), replies = sum(replies), reactions = sum(reactions), likes = sum(likes), response_type = aggregation)\n",
    "comments <- summarise(group_by(comments, labels), comments = sum(values), replies = sum(replies), likes = sum(likes), response_type = aggregation)\n",
    "merged <- merge(posts, comments, by='labels')"
   ]
  },
  {
   "cell_type": "code",
   "execution_count": null,
   "metadata": {},
   "outputs": [],
   "source": [
    "#plotting facebook posts\n",
    "options(repr.plot.width=8, repr.plot.height=4)\n",
    "ggplot(data = merged, mapping = aes(as.Date(labels))) +\n",
    "  stat_smooth(aes(y = posts, color=\"Posts\", group=response_type.x), se = F, method = \"lm\", formula = y ~ poly(x, 8)) +\n",
    "  stat_smooth(aes(y = replies.x, color=\"Replies\", group=response_type.x), se = F, method = \"lm\", formula = y ~ poly(x, 8)) +\n",
    "  stat_smooth(aes(y = shares, color=\"Shares\", group=response_type.x), se = F, method = \"lm\", formula = y ~ poly(x, 8)) +\n",
    "  stat_smooth(aes(y = reactions, color=\"Reactions\", group=response_type.x), se = F, method = \"lm\", formula = y ~ poly(x, 8)) +\n",
    "  stat_smooth(aes(y = likes.x, color=\"Likes\", group=response_type.x), se = F, method = \"lm\", formula = y ~ poly(x, 8)) +\n",
    "  labs(title = \"Facebook (Post Activity)\", x = \"\", y = \"Posts\") +\n",
    "  theme(axis.text.x = element_text( size = 7, angle = 60, hjust = 0.5, vjust = 0.5),\n",
    "        axis.text.y = element_text( size = 7), legend.title = element_blank(), plot.title = element_text(size=10)) +\n",
    "  scale_x_date(date_breaks = \"1 week\")+ scale_y_continuous(labels = scales::number_format(big.mark = \"\"))\n"
   ]
  },
  {
   "cell_type": "code",
   "execution_count": null,
   "metadata": {},
   "outputs": [],
   "source": [
    "#plotting facebook comments\n",
    "options(repr.plot.width=8, repr.plot.height=4)\n",
    "ggplot(data = merged, mapping = aes(as.Date(labels))) +\n",
    "  stat_smooth(aes(y = comments, color=\"Comments\", group=response_type.y), se = F, method = \"lm\", formula = y ~ poly(x, 8)) +\n",
    "  stat_smooth(aes(y = replies.y, color=\"Replies\", group=response_type.y), se = F, method = \"lm\", formula = y ~ poly(x, 8)) +\n",
    "  stat_smooth(aes(y = likes.y, color=\"Likes\", group=response_type.x), se = F, method = \"lm\", formula = y ~ poly(x, 8)) +\n",
    "  labs(title = \"Facebook (Comments Activity)\", x = \"\", y = \"Comments\") +\n",
    "  theme(axis.text.x = element_text( size = 7, angle = 60, hjust = 0.5, vjust = 0.5),\n",
    "        axis.text.y = element_text( size = 7), legend.title = element_blank(), plot.title = element_text(size=10)) +\n",
    "  scale_x_date(date_breaks = \"1 week\")+ scale_y_continuous(labels = scales::number_format(big.mark = \"\"))\n"
   ]
  }
 ],
 "metadata": {
  "kernelspec": {
   "display_name": "R",
   "language": "R",
   "name": "ir"
  },
  "language_info": {
   "codemirror_mode": "r",
   "file_extension": ".r",
   "mimetype": "text/x-r-source",
   "name": "R",
   "pygments_lexer": "r",
   "version": "3.6.0"
  }
 },
 "nbformat": 4,
 "nbformat_minor": 2
}
