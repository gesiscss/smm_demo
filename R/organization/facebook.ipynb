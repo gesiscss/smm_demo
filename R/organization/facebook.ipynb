{
 "cells": [
  {
   "cell_type": "markdown",
   "metadata": {},
   "source": [
    "# Organization Activity on Facebook\n",
    "\n",
    "The parameters in the cell below can be adjusted to explore other politicians and time frames.\n",
    "\n",
    "### How to explore other organizations?\n",
    "The ***organization_id*** is an internal identifier that connects the different social media accounts. You can [use this other notebook](../organizations.ipynb?autorun=true) to get other the identifiers of other organizations.\n",
    "\n",
    "***Alternatively***, you can direcly use the [organizations API](http://mediamonitoring.gesis.org/api/organizations/swagger/), or access it with the [SMM Wrapper](https://pypi.org/project/smm-wrapper/).\n",
    "\n",
    "## A. Set Up parameters"
   ]
  },
  {
   "cell_type": "code",
   "execution_count": null,
   "metadata": {},
   "outputs": [],
   "source": [
    "# Parameters: \n",
    "politician_id = 1928\n",
    "from_date = '2017-09-01'\n",
    "to_date = '2018-12-31'\n",
    "aggregation = 'week'"
   ]
  },
  {
   "cell_type": "markdown",
   "metadata": {},
   "source": [
    "## B. Using the SMM Organization API"
   ]
  },
  {
   "cell_type": "code",
   "execution_count": null,
   "metadata": {},
   "outputs": [],
   "source": [
    "library(\"httr\")\n",
    "library(\"jsonlite\")\n",
    "\n",
    "#prepare urls\n",
    "base <- \"http://mediamonitoring.gesis.org/api/organizations/\"\n",
    "url_posts <- paste(base,\"facebook/posts_by/organizations/\", organization_id, \"/?\", sep=\"\")\n",
    "url_comments <- paste(base,\"facebook/comments_by/organizations/\", organization_id, \"/?\", sep=\"\")\n",
    "\n",
    "#prepare parameters\n",
    "params = list(\n",
    "    from_date=from_date,\n",
    "    to_date=to_date,\n",
    "    aggregate_by=aggregation\n",
    ")\n",
    "\n",
    "# using the api to get the posts and comments\n",
    "posts_by <- tryCatch({\n",
    "    as.data.frame(fromJSON(content(GET(url_posts, query=params), \"text\", encoding=\"UTF-8\"), flatten = TRUE))\n",
    "}, error = function(e) NULL)\n",
    "                   \n",
    "comments_by <- tryCatch({\n",
    "    as.data.frame(fromJSON(content(GET(url_comments, query=params), \n",
    "                                   \"text\", encoding=\"UTF-8\"), flatten = TRUE))\n",
    "}, error = function(e)  NULL)"
   ]
  },
  {
   "cell_type": "markdown",
   "metadata": {},
   "source": [
    "## C. Plotting\n",
    "### C.1 Plot Facebook Post Activity"
   ]
  },
  {
   "cell_type": "code",
   "execution_count": null,
   "metadata": {},
   "outputs": [],
   "source": [
    "library(\"ggplot2\")\n",
    "options(repr.plot.width=8, repr.plot.height=4)\n",
    "\n",
    "#plotting facebook posts\n",
    "if (is.null(posts_by)){\n",
    "    print(\"No facebook posts were found\")\n",
    "} else {\n",
    "    ggplot(data = posts_by, mapping = aes(as.Date(labels))) +\n",
    "      geom_line(aes(y = values, color=\"Posts\", group=response_type)) +\n",
    "      geom_line(aes(y = replies, color=\"Replies\", group=response_type)) +\n",
    "      geom_line(aes(y = shares, color=\"Shares\", group=response_type)) +\n",
    "      geom_line(aes(y = reactions, color=\"Reactions\", group=response_type)) +\n",
    "      geom_line(aes(y = likes, color=\"Likes\", group=response_type)) +\n",
    "      labs(title = \"Facebook (Posts Activity)\", y = \"Posts\") +\n",
    "      theme(axis.text.x = element_text(angle = 60, hjust = 0.5, vjust = 0.5),\n",
    "            axis.title = element_blank(), legend.title = element_blank()) +\n",
    "      scale_x_date(date_breaks = \"1 weeks\") \n",
    "}"
   ]
  },
  {
   "cell_type": "markdown",
   "metadata": {},
   "source": [
    "### C.2 Plot Facebook Comment Activity"
   ]
  },
  {
   "cell_type": "code",
   "execution_count": null,
   "metadata": {},
   "outputs": [],
   "source": [
    "#plotting facebook comments\n",
    "if (is.null(comments_by)){\n",
    "    print(\"No facebook comments were found\")\n",
    "} else {\n",
    "    ggplot(data = comments_by, mapping = aes(as.Date(labels))) +\n",
    "      geom_line(aes(y = values, color=\"Comments\", group=response_type)) +\n",
    "      geom_line(aes(y = replies, color=\"Replies\", group=response_type)) +\n",
    "      geom_line(aes(y = likes, color=\"Likes\", group=response_type)) +\n",
    "      labs(title = \"Facebook (Comments Activity)\", y = \"Comments\") +\n",
    "      theme(axis.text.x = element_text(angle = 60, hjust = 0.5, vjust = 0.5),\n",
    "            axis.title = element_blank(), legend.title = element_blank()) +\n",
    "    scale_x_date(date_breaks = \"1 weeks\") \n",
    "}"
   ]
  }
 ],
 "metadata": {
  "kernelspec": {
   "display_name": "R",
   "language": "R",
   "name": "ir"
  },
  "language_info": {
   "codemirror_mode": "r",
   "file_extension": ".r",
   "mimetype": "text/x-r-source",
   "name": "R",
   "pygments_lexer": "r"
  }
 },
 "nbformat": 4,
 "nbformat_minor": 2
}
