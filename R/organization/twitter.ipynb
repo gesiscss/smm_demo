{
 "cells": [
  {
   "cell_type": "code",
   "execution_count": null,
   "metadata": {},
   "outputs": [],
   "source": [
    "install.packages(\"httr\")\n",
    "install.packages(\"jsonlite\")\n",
    "install.packages(\"ggplot2\")\n",
    "install.packages('RJSplot')"
   ]
  },
  {
   "cell_type": "code",
   "execution_count": null,
   "metadata": {},
   "outputs": [],
   "source": [
    "require(\"httr\")\n",
    "require(\"jsonlite\")\n",
    "base <- \"193.175.238.88:8080/api/organizations/\"\n",
    "call1 <- paste(base,\"all/\", sep=\"\")\n",
    "get_organizations_df <- as.data.frame(fromJSON(content(GET(call1), \"text\", encoding=\"UTF-8\"), flatten = TRUE))\n",
    "# In the table 'get_organizations_df' you can see all the extracted organizations with respected twitter, facebook and wikipedia ids.\n",
    "\n",
    "require(\"RJSplot\")\n",
    "tables_rjs(get_organizations_df, jupyter = TRUE)"
   ]
  },
  {
   "cell_type": "code",
   "execution_count": null,
   "metadata": {},
   "outputs": [],
   "source": [
    "# Please choose an organization from the table above and input the `organization_id` and `aggregation` variables below:\n",
    "organization_id <- \"27\"\n",
    "aggregation <- \"month\" # aggregation can be by day ('day'), week ('week') or month('month')\n",
    "\n",
    "call_tweets <- paste(base,\"twitter/tweets_by/organizations/\", organization_id, \"/?aggregate_by=\", aggregation, sep=\"\")\n",
    "call_replies <- paste(base,\"twitter/replies_to/organizations/\", organization_id, \"/?aggregate_by=\", aggregation, sep=\"\")\n",
    "tweets_by = as.data.frame(fromJSON(content(GET(call_tweets), \"text\", encoding=\"UTF-8\"), flatten = TRUE))\n",
    "replies_to = as.data.frame(fromJSON(content(GET(call_replies), \"text\", encoding=\"UTF-8\"), flatten = TRUE))\n",
    "merged = merge(tweets_by, replies_to, by='labels')"
   ]
  },
  {
   "cell_type": "code",
   "execution_count": null,
   "metadata": {},
   "outputs": [],
   "source": [
    "#plotting\n",
    "require(\"ggplot2\")\n",
    "options(repr.plot.width=6, repr.plot.height=4)\n",
    "ggplot(data = merged, mapping = aes(labels)) +\n",
    "  geom_line(aes(y = values.x, color=\"Tweets\", group=response_type.x)) +\n",
    "  geom_line(aes(y = values.y, color=\"Replies\", group=response_type.y)) +\n",
    "  labs(title = \"The number of aggregated tweets for an organization\", x = \"Date\", y = \"N\") +\n",
    "  theme(axis.text.x = element_text( size = 7, angle = 60, hjust = 0.5, vjust = 0.5),\n",
    "        axis.text.y = element_text( size = 7), legend.title = element_blank())"
   ]
  },
  {
   "cell_type": "code",
   "execution_count": null,
   "metadata": {},
   "outputs": [],
   "source": []
  }
 ],
 "metadata": {
  "kernelspec": {
   "display_name": "R",
   "language": "R",
   "name": "ir"
  },
  "language_info": {
   "codemirror_mode": "r",
   "file_extension": ".r",
   "mimetype": "text/x-r-source",
   "name": "R",
   "pygments_lexer": "r",
   "version": "3.6.0"
  }
 },
 "nbformat": 4,
 "nbformat_minor": 2
}
