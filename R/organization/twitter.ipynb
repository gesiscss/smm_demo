{
 "cells": [
  {
   "cell_type": "code",
   "execution_count": null,
   "metadata": {},
   "outputs": [],
   "source": [
    "# Parameters: \n",
    "organization_id <- \"440\"\n",
    "aggregation <- \"week\" # aggregation can be by day ('day'), week ('week') or month('month')\n",
    "from_date <-'2017-09-01'\n",
    "to_date <-'2018-12-31'"
   ]
  },
  {
   "cell_type": "code",
   "execution_count": null,
   "metadata": {},
   "outputs": [],
   "source": [
    "library(\"httr\")\n",
    "library(\"jsonlite\")\n",
    "library(\"ggplot2\")\n",
    "library('RJSplot')"
   ]
  },
  {
   "cell_type": "markdown",
   "metadata": {},
   "source": [
    "## Using API"
   ]
  },
  {
   "cell_type": "code",
   "execution_count": null,
   "metadata": {},
   "outputs": [],
   "source": [
    "base <- \"193.175.238.88:8080/api/organizations/\"\n",
    "call1 <- paste(base,\"all/\", sep=\"\")\n",
    "get_organizations_df <- as.data.frame(fromJSON(content(GET(call1), \"text\", encoding=\"UTF-8\"), flatten = TRUE))\n",
    "call_tweets <- paste(base,\"twitter/tweets_by/organizations/\", organization_id, \"/?from_date=\",from_date,\"&to_date=\",to_date,\"&aggregate_by=\", aggregation, sep=\"\")\n",
    "call_replies <- paste(base,\"twitter/replies_to/organizations/\", organization_id, \"/?from_date=\",from_date,\"&to_date=\",to_date,\"&aggregate_by=\", aggregation, sep=\"\")\n",
    "tweets_by = as.data.frame(fromJSON(content(GET(call_tweets), \"text\", encoding=\"UTF-8\"), flatten = TRUE))\n",
    "replies_to = as.data.frame(fromJSON(content(GET(call_replies), \"text\", encoding=\"UTF-8\"), flatten = TRUE))\n",
    "merged = merge(tweets_by, replies_to, by='labels')"
   ]
  },
  {
   "cell_type": "code",
   "execution_count": null,
   "metadata": {},
   "outputs": [],
   "source": [
    "#plotting\n",
    "options(repr.plot.width=8, repr.plot.height=4)\n",
    "ggplot(data = merged, mapping = aes(as.Date(labels))) +\n",
    "  stat_smooth(aes(y = values.x, color=\"Tweets\", group=response_type.x), se = F, method = \"lm\", formula = y ~ poly(x, 8)) +\n",
    "  stat_smooth(aes(y = values.y, color=\"Replies\", group=response_type.y), se = F, method = \"lm\", formula = y ~ poly(x, 8)) +\n",
    "  labs(title = \"Twitter (tweets)\", x = \"\", y = \"Tweets\") +\n",
    "  theme(axis.text.x = element_text( size = 7, angle = 60, hjust = 0.5, vjust = 0.5),\n",
    "        axis.text.y = element_text( size = 7), legend.title = element_blank())  + scale_y_continuous(labels = scales::number_format(big.mark = \"\")) +\n",
    "scale_x_date(date_breaks = \"2 weeks\")"
   ]
  }
 ],
 "metadata": {
  "kernelspec": {
   "display_name": "R",
   "language": "R",
   "name": "ir"
  },
  "language_info": {
   "codemirror_mode": "r",
   "file_extension": ".r",
   "mimetype": "text/x-r-source",
   "name": "R",
   "pygments_lexer": "r",
   "version": "3.6.0"
  }
 },
 "nbformat": 4,
 "nbformat_minor": 2
}
