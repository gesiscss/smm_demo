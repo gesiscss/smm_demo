{
 "cells": [
  {
   "cell_type": "markdown",
   "metadata": {},
   "source": [
    "# Organization Activity on Twitter\n",
    "\n",
    "The parameters in the cell below can be adjusted to explore other politicians and time frames.\n",
    "\n",
    "### How to explore other organizations?\n",
    "The ***organization_id*** is an internal identifier that connects the different social media accounts. You can [use this other notebook](../organizations.ipynb?autorun=true) to get other the identifiers of other politicians.\n",
    "\n",
    "***Alternatively***, you can direcly use the [organizations API](http://mediamonitoring.gesis.org/api/organizations/swagger/), or access it with the [SMM Wrapper](https://pypi.org/project/smm-wrapper/).\n",
    "\n",
    "## A. Set Up parameters"
   ]
  },
  {
   "cell_type": "code",
   "execution_count": null,
   "metadata": {},
   "outputs": [],
   "source": [
    "# Parameters: \n",
    "organization_id = 219\n",
    "from_date = '2017-09-01'\n",
    "to_date = '2018-12-31'\n",
    "aggregation = 'week'"
   ]
  },
  {
   "cell_type": "markdown",
   "metadata": {},
   "source": [
    "## B. Using the SMM Organization API"
   ]
  },
  {
   "cell_type": "code",
   "execution_count": null,
   "metadata": {},
   "outputs": [],
   "source": [
    "library(\"httr\")\n",
    "library(\"jsonlite\")\n",
    "\n",
    "#prepare urls\n",
    "base <- \"http://mediamonitoring.gesis.org/api/organizations/\"\n",
    "url_tweets <- paste(base,\"twitter/tweets_by/organizations/\", organization_id, \"/?\", sep=\"\")\n",
    "url_replies <- paste(base,\"twitter/replies_to/organizations/\", organization_id, \"/?\", sep=\"\")\n",
    "\n",
    "#prepare parameters\n",
    "params = list(\n",
    "    from_date=from_date,\n",
    "    to_date=to_date,\n",
    "    aggregate_by=aggregation\n",
    ")\n",
    "\n",
    "# using the api to get the tweets and replies\n",
    "tweets_by = as.data.frame(fromJSON(content(GET(url_tweets, query=params), \"text\", encoding=\"UTF-8\"), flatten = TRUE))\n",
    "replies_to = as.data.frame(fromJSON(content(GET(url_replies, query=params), \"text\", encoding=\"UTF-8\"), flatten = TRUE))\n",
    "merged = merge(tweets_by, replies_to, by='labels')"
   ]
  },
  {
   "cell_type": "markdown",
   "metadata": {},
   "source": [
    "## C. Plotting"
   ]
  },
  {
   "cell_type": "code",
   "execution_count": null,
   "metadata": {},
   "outputs": [],
   "source": [
    "library(\"ggplot2\")\n",
    "options(repr.plot.width=8, repr.plot.height=4)\n",
    "\n",
    "# plotting tweets and replies\n",
    "ggplot(data = merged, mapping = aes(as.Date(labels))) +\n",
    "  geom_line(aes(y = values.x, color=\"Tweets\", group=response_type.x)) +\n",
    "  geom_line(aes(y = values.y, color=\"Replies\", group=response_type.y)) +\n",
    "  labs(title = \"Twitter (Tweets and Replies)\", y = \"N\") +\n",
    "  theme(axis.text.x = element_text( angle = 60, hjust = 0.5, vjust = 0.5),\n",
    "        axis.title.x = element_blank(), legend.title = element_blank()) +\n",
    "  scale_x_date(date_breaks = \"1 month\") "
   ]
  }
 ],
 "metadata": {
  "kernelspec": {
   "display_name": "R",
   "language": "R",
   "name": "ir"
  },
  "language_info": {
   "codemirror_mode": "r",
   "file_extension": ".r",
   "mimetype": "text/x-r-source",
   "name": "R",
   "pygments_lexer": "r"
  }
 },
 "nbformat": 4,
 "nbformat_minor": 2
}
