{
 "cells": [
  {
   "cell_type": "markdown",
   "metadata": {},
   "source": [
    "# Organization Activity on Wikipedia\n",
    "\n",
    "The parameters in the cell below can be adjusted to explore other politicians and time frames.\n",
    "\n",
    "### How to explore other organizations?\n",
    "The ***organization_id*** is an internal identifier that connects the different social media accounts. You can [use this other notebook](../organizations.ipynb?autorun=true) to get other the identifiers of other politicians.\n",
    "\n",
    "***Alternatively***, you can direcly use the [organizations API](http://mediamonitoring.gesis.org/api/organizations/swagger/), or access it with the [SMM Wrapper](https://pypi.org/project/smm-wrapper/).\n",
    "\n",
    "## A. Set Up parameters"
   ]
  },
  {
   "cell_type": "code",
   "execution_count": null,
   "metadata": {},
   "outputs": [],
   "source": [
    "# Parameters: \n",
    "organization_id = 219\n",
    "from_date = '2017-09-01'\n",
    "to_date = '2018-12-31'\n",
    "aggregation = 'week'"
   ]
  },
  {
   "cell_type": "markdown",
   "metadata": {},
   "source": [
    "## B. Using APIs\n",
    "### B.1 Using the SMM Organization API"
   ]
  },
  {
   "cell_type": "code",
   "execution_count": null,
   "metadata": {},
   "outputs": [],
   "source": [
    "library(\"httr\")\n",
    "library(\"jsonlite\")\n",
    "\n",
    "# prepare urls\n",
    "base <- \"http://mediamonitoring.gesis.org/api/organizations/\"\n",
    "url_chobs <- paste(base,\"wikipedia/chobs/organizations/\", organization_id, \"/?\", sep=\"\")\n",
    "url_organization <- paste(base,\"all/\", organization_id, \"/\", sep=\"\")\n",
    "\n",
    "# prepare parameters\n",
    "params = list(\n",
    "    from_date=from_date,\n",
    "    to_date=to_date,\n",
    "    aggregate_by=aggregation\n",
    ")\n",
    "\n",
    "# using the api to get the organization info and change objects\n",
    "organization <- fromJSON(content(GET(url_organization), \"text\", encoding=\"UTF-8\"), flatten = TRUE)\n",
    "chobs = as.data.frame(fromJSON(content(GET(url_chobs, query=params), \"text\", encoding=\"UTF-8\"), flatten = TRUE))"
   ]
  },
  {
   "cell_type": "markdown",
   "metadata": {},
   "source": [
    "### B.2 Using the Wikiwho API"
   ]
  },
  {
   "cell_type": "code",
   "execution_count": null,
   "metadata": {},
   "outputs": [],
   "source": [
    "# dplyr contains the summarise function\n",
    "library('dplyr', warn.conflicts = FALSE)\n",
    "\n",
    "#prepare urls\n",
    "base_ww <- \"https://www.wikiwho.net/de/edit_persistence/v1.0.0-beta/page/\"\n",
    "\n",
    "#prepare parameters\n",
    "params = list(\n",
    "    start=from_date,\n",
    "    end=to_date \n",
    ")\n",
    "\n",
    "# query the Wikiwho API for Wikipedia actions (edit_persistance)\n",
    "wiki <- data.frame()\n",
    "for (wp_id in organization$wp_ids) {\n",
    "    json_wiki <- fromJSON(content(GET(paste(base_ww, wp_id ,\"/?\",sep=\"\"), query=params), \"text\", encoding=\"UTF-8\"))\n",
    "    wiki <- rbind(wiki, json_wiki$editions)\n",
    "}\n",
    "\n",
    "# calculate undos\n",
    "wiki$undos <- wiki$dels + wiki$reins\n",
    "\n",
    "# calculate conflict score\n",
    "wiki <- summarise(group_by(wiki, year_month),undos = sum(undos),\n",
    "                  conflict = sum(conflict), elegibles = sum(elegibles))\n",
    "wiki$conflict_score <- wiki$conflict/ wiki$elegibles\n",
    "\n",
    "# format the dates\n",
    "wiki$year_month<-as.POSIXct(strptime(wiki[[\"year_month\"]], \n",
    "                                              format='%Y-%m-%d'),tz = 'GMT')\n",
    "\n",
    "# replace missing with 0\n",
    "wiki[is.na(wiki)] <- 0"
   ]
  },
  {
   "cell_type": "markdown",
   "metadata": {},
   "source": [
    "### B.3 Using the Wikimedia API"
   ]
  },
  {
   "cell_type": "code",
   "execution_count": null,
   "metadata": {},
   "outputs": [],
   "source": [
    "# prepare the urls\n",
    "pre <- \"https://wikimedia.org/api/rest_v1/metrics/pageviews/per-article/de.wikipedia.org/all-access/user/\"\n",
    "post <- paste(\"/daily/\", gsub(\"-\", \"\", from_date),\"/\", gsub(\"-\", \"\", to_date), sep=\"\")\n",
    "\n",
    "# get the data throught the Wikimedia API\n",
    "appended_views = list()\n",
    "for (wp_title in organization$wp_titles) {\n",
    "    x <- tryCatch({\n",
    "        view = as.data.frame(fromJSON(content(GET(\n",
    "            paste(pre, URLencode(wp_title, reserved=TRUE), post, sep=\"\")), \"text\", \n",
    "            encoding=\"UTF-8\"), flatten = TRUE))\n",
    "        appended_views <- append(appended_views, list(view))\n",
    "    }, error = function(e) e )\n",
    "}\n",
    "views  <- dplyr::bind_rows(appended_views)\n",
    "\n",
    "# prepare the dates in the right format\n",
    "views$items.timestamp<-as.POSIXct(strptime(views[[\"items.timestamp\"]], \n",
    "                                           format='%Y%m%d%H'),tz = 'GMT')\n",
    "\n",
    "# daily, weekly or monthly aggregation of the daa\n",
    "views<-summarise(group_by(views, time = cut(items.timestamp, aggregation)), \n",
    "                 items.views = sum(items.views))"
   ]
  },
  {
   "cell_type": "markdown",
   "metadata": {},
   "source": [
    "## C. Plotting\n",
    "### C.1 Plot Wikipedia Activity"
   ]
  },
  {
   "cell_type": "code",
   "execution_count": null,
   "metadata": {},
   "outputs": [],
   "source": [
    "library(\"ggplot2\")\n",
    "options(repr.plot.width=8, repr.plot.height=3)\n",
    "\n",
    "# merge data so that the x scales are equal\n",
    "wiki_data = merge( views, chobs, by.x='time', by.y='labels', all.x = TRUE)\n",
    "\n",
    "#plotting wikipedia changes\n",
    "ggplot(data = wiki_data, mapping = aes(as.Date(time))) +\n",
    "  geom_line(aes(y = values), na.rm=TRUE) + \n",
    "  labs(title = \"Wikipedia Activity\", y = \"Changes\") +\n",
    "  theme(axis.text.x = element_blank(), axis.title.x = element_blank()) +\n",
    "  scale_x_date(date_breaks = \"1 month\")\n",
    "\n",
    "#plotting wikipedia views\n",
    "ggplot(data = wiki_data, mapping = aes(as.Date(time))) +\n",
    "  geom_line(aes(y = items.views)) +   \n",
    "  labs(y = \"Views\") +\n",
    "  theme(axis.text.x = element_text(angle = 60, hjust = 0.5, vjust = 0.5),\n",
    "        axis.title.x = element_blank()) +\n",
    "  scale_x_date(date_breaks = \"1 month\")"
   ]
  },
  {
   "cell_type": "markdown",
   "metadata": {},
   "source": [
    "### C.2 Plot Wikipedia Disagreement"
   ]
  },
  {
   "cell_type": "code",
   "execution_count": null,
   "metadata": {},
   "outputs": [],
   "source": [
    "# plotting wikipedia undo actions\n",
    "ggplot(data = wiki, mapping = aes(as.Date(year_month))) +\n",
    "  geom_line(aes(y = undos)) +\n",
    "  labs(title = \"Wikipedia Disagreements\", y = \"Undos\") +\n",
    "  theme(axis.text.x = element_blank(), axis.title.x = element_blank()) +\n",
    "  scale_x_date(date_breaks = \"1 month\")\n",
    "\n",
    "# plotting conflict\n",
    "ggplot(data = wiki, mapping = aes(as.Date(year_month))) +\n",
    "  geom_line(aes(y = conflict_score)) +\n",
    "  labs(y = \"Conflict\") +\n",
    "  theme(axis.text.x = element_text(angle = 60, hjust = 0.5, vjust = 0.5),\n",
    "        axis.title.x = element_blank()) +\n",
    "  scale_x_date(date_breaks = \"1 month\")"
   ]
  }
 ],
 "metadata": {
  "kernelspec": {
   "display_name": "R",
   "language": "R",
   "name": "ir"
  },
  "language_info": {
   "codemirror_mode": "r",
   "file_extension": ".r",
   "mimetype": "text/x-r-source",
   "name": "R",
   "pygments_lexer": "r"
  }
 },
 "nbformat": 4,
 "nbformat_minor": 2
}
