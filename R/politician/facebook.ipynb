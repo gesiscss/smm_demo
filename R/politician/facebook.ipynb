{
 "cells": [
  {
   "cell_type": "markdown",
   "metadata": {},
   "source": [
    "# Politician Activity on Facebook\n",
    "\n",
    "The parameters in the cell below can be adjusted to explore other Politicians and time frames.\n",
    "\n",
    "### How to explore other politicians?\n",
    "The ***politician_id*** is an internal identifier that connects the different social media accounts. You can [use this other notebook](../Politicians.ipynb?autorun=true) to get other the identifiers of other Politicians.\n",
    "\n",
    "***Alternatively***, you can direcly use the [Politicians API](http://mediamonitoring.gesis.org/api/Politicians/swagger/), or access it with the [SMM Wrapper](https://pypi.org/project/smm-wrapper/).\n",
    "\n",
    "## A. Set Up parameters"
   ]
  },
  {
   "cell_type": "code",
   "execution_count": null,
   "metadata": {},
   "outputs": [],
   "source": [
    "# Parameters: \n",
    "politician_id = 240#1928 #240\n",
    "from_date = '2017-09-01'\n",
    "to_date = '2018-12-31'\n",
    "aggregation = 'week'"
   ]
  },
  {
   "cell_type": "markdown",
   "metadata": {},
   "source": [
    "## B. Using the SMM Politician API"
   ]
  },
  {
   "cell_type": "code",
   "execution_count": null,
   "metadata": {},
   "outputs": [],
   "source": [
    "library(\"httr\")\n",
    "library(\"jsonlite\")\n",
    "\n",
    "#prepare urls\n",
    "base <- \"http://mediamonitoring.gesis.org/api/politicians/\"\n",
    "url_posts <- paste(base,\"facebook/posts_by/politicians/\", politician_id, \"/?\", sep=\"\")\n",
    "url_comments <- paste(base,\"facebook/comments_by/politicians/\", politician_id, \"/?\", sep=\"\")\n",
    "\n",
    "#prepare parameters\n",
    "params = list(\n",
    "    from_date=from_date,\n",
    "    to_date=to_date,\n",
    "    aggregate_by=aggregation\n",
    ")\n",
    "\n",
    "# using the api to get the posts and comments\n",
    "posts_by = as.data.frame(fromJSON(content(GET(url_posts, query=params), \"text\", encoding=\"UTF-8\"), flatten = TRUE))\n",
    "comments_by = as.data.frame(fromJSON(content(GET(url_comments, query=params), \"text\", encoding=\"UTF-8\"), flatten = TRUE))\n",
    "merged = merge(posts_by, comments_by, by='labels')"
   ]
  },
  {
   "cell_type": "markdown",
   "metadata": {},
   "source": [
    "## C. Plotting\n",
    "### C.1 Plot Facebook Post Activity"
   ]
  },
  {
   "cell_type": "code",
   "execution_count": null,
   "metadata": {},
   "outputs": [],
   "source": [
    "library(\"ggplot2\")\n",
    "options(repr.plot.width=8, repr.plot.height=4)\n",
    "\n",
    "#plotting facebook posts\n",
    "ggplot(data = merged, mapping = aes(as.Date(labels))) +\n",
    "  geom_line(aes(y = values.x, color=\"Posts\", group=response_type.x)) +\n",
    "  geom_line(aes(y = replies.x, color=\"Replies\", group=response_type.x)) +\n",
    "  geom_line(aes(y = shares, color=\"Shares\", group=response_type.x)) +\n",
    "  geom_line(aes(y = reactions, color=\"Reactions\", group=response_type.x)) +\n",
    "  geom_line(aes(y = likes.x, color=\"Likes\", group=response_type.x)) +\n",
    "  labs(title = \"Facebook (Posts Activity)\", y = \"Posts\") +\n",
    "  theme(axis.text.x = element_text(angle = 60, hjust = 0.5, vjust = 0.5),\n",
    "        axis.title.x = element_blank(), legend.title = element_blank()) +\n",
    "  scale_x_date(date_breaks = \"1 weeks\") "
   ]
  },
  {
   "cell_type": "markdown",
   "metadata": {},
   "source": [
    "### C.2 Plot Facebook Comment Activity"
   ]
  },
  {
   "cell_type": "code",
   "execution_count": null,
   "metadata": {},
   "outputs": [],
   "source": [
    "#plotting facebook comments\n",
    "ggplot(data = merged, mapping = aes(as.Date(labels))) +\n",
    "  geom_line(aes(y = values.y, color=\"Comments\", group=response_type.y)) +\n",
    "  geom_line(aes(y = replies.y, color=\"Replies\", group=response_type.y)) +\n",
    "  geom_line(aes(y = likes.y, color=\"Likes\", group=response_type.x)) +\n",
    "  labs(title = \"Facebook (Comments Activity)\", y = \"Comments\") +\n",
    "  theme(axis.text.x = element_text(angle = 60, hjust = 0.5, vjust = 0.5),\n",
    "        axis.title.x = element_blank(), legend.title = element_blank()) +\n",
    "scale_x_date(date_breaks = \"1 weeks\") "
   ]
  }
 ],
 "metadata": {
  "kernelspec": {
   "display_name": "R",
   "language": "R",
   "name": "ir"
  },
  "language_info": {
   "codemirror_mode": "r",
   "file_extension": ".r",
   "mimetype": "text/x-r-source",
   "name": "R",
   "pygments_lexer": "r"
  }
 },
 "nbformat": 4,
 "nbformat_minor": 2
}
