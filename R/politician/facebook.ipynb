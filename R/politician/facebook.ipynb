{
 "cells": [
  {
   "cell_type": "code",
   "execution_count": null,
   "metadata": {},
   "outputs": [],
   "source": [
    "library(\"httr\")\n",
    "library(\"jsonlite\")\n",
    "library(\"ggplot2\")\n",
    "library('RJSplot')"
   ]
  },
  {
   "cell_type": "code",
   "execution_count": null,
   "metadata": {},
   "outputs": [],
   "source": [
    "base <- \"193.175.238.88:8080/api/politicians/\"\n",
    "call1 <- paste(base,\"all/\", sep=\"\")\n",
    "get_politicians_df <- as.data.frame(fromJSON(content(GET(call1), \"text\", encoding=\"UTF-8\"), flatten = TRUE))\n",
    "# In the table 'get_politicians_df' you can see all the extracted politicians with respected twitter, facebook and wikipedia ids.\n",
    "\n",
    "tables_rjs(get_politicians_df, jupyter = TRUE)"
   ]
  },
  {
   "cell_type": "code",
   "execution_count": null,
   "metadata": {},
   "outputs": [],
   "source": [
    "# Please choose a politician from the table above and input the `politician_id` and `aggregation` variables below:\n",
    "politician_id <- \"27\"\n",
    "aggregation <- \"month\" # aggregation can be by day ('day'), week ('week') or month('month')\n",
    "\n",
    "call_posts <- paste(base,\"facebook/posts_by/politicians/\", politician_id, \"/?aggregate_by=\", aggregation, sep=\"\")\n",
    "call_comments <- paste(base,\"facebook/comments_by/politicians/\", politician_id, \"/?aggregate_by=\", aggregation, sep=\"\")\n",
    "posts_by = as.data.frame(fromJSON(content(GET(call_posts), \"text\", encoding=\"UTF-8\"), flatten = TRUE))\n",
    "comments_by = as.data.frame(fromJSON(content(GET(call_comments), \"text\", encoding=\"UTF-8\"), flatten = TRUE))\n",
    "merged = merge(posts_by, comments_by, by='labels')"
   ]
  },
  {
   "cell_type": "code",
   "execution_count": null,
   "metadata": {},
   "outputs": [],
   "source": [
    "#plotting facebook posts\n",
    "options(repr.plot.width=8, repr.plot.height=4)\n",
    "ggplot(data = merged, mapping = aes(labels)) +\n",
    "  geom_line(aes(y = values.x, color=\"Posts\", group=response_type.x)) +\n",
    "  geom_line(aes(y = replies.x, color=\"Replies\", group=response_type.x)) +\n",
    "  geom_line(aes(y = shares, color=\"Shares\", group=response_type.x)) +\n",
    "  geom_line(aes(y = reactions, color=\"Reactions\", group=response_type.x)) +\n",
    "  geom_line(aes(y = likes.x, color=\"Likes\", group=response_type.x)) +\n",
    "  labs(title = \"The number of aggregated facebook posts for a politician\", x = \"Date\", y = \"N\") +\n",
    "  theme(axis.text.x = element_text( size = 7, angle = 60, hjust = 0.5, vjust = 0.5),\n",
    "        axis.text.y = element_text( size = 7), legend.title = element_blank(), plot.title = element_text(size=10))"
   ]
  },
  {
   "cell_type": "code",
   "execution_count": null,
   "metadata": {},
   "outputs": [],
   "source": [
    "#plotting facebook comments\n",
    "options(repr.plot.width=8, repr.plot.height=4)\n",
    "ggplot(data = merged, mapping = aes(labels)) +\n",
    "  geom_line(aes(y = values.y, color=\"Comments\", group=response_type.y)) +\n",
    "  geom_line(aes(y = replies.y, color=\"Replies\", group=response_type.y)) +\n",
    "  geom_line(aes(y = likes.y, color=\"Likes\", group=response_type.x)) +\n",
    "  labs(title = \"The number of aggregated facebook comments for a politician\", x = \"Date\", y = \"N\") +\n",
    "  theme(axis.text.x = element_text( size = 7, angle = 60, hjust = 0.5, vjust = 0.5),\n",
    "        axis.text.y = element_text( size = 7), legend.title = element_blank(), plot.title = element_text(size=10))"
   ]
  }
 ],
 "metadata": {
  "kernelspec": {
   "display_name": "R",
   "language": "R",
   "name": "ir"
  },
  "language_info": {
   "codemirror_mode": "r",
   "file_extension": ".r",
   "mimetype": "text/x-r-source",
   "name": "R",
   "pygments_lexer": "r",
   "version": "3.6.0"
  }
 },
 "nbformat": 4,
 "nbformat_minor": 2
}
