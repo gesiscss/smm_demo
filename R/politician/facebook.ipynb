{
 "cells": [
  {
   "cell_type": "code",
   "execution_count": null,
   "metadata": {},
   "outputs": [],
   "source": [
    "# Parameters: \n",
    "politician_id <- \"240\"\n",
    "aggregation <- \"week\" # aggregation can be by day ('day'), week ('week') or month('month')\n",
    "from_date <-'2017-09-01'\n",
    "to_date <-'2018-12-31'"
   ]
  },
  {
   "cell_type": "code",
   "execution_count": null,
   "metadata": {},
   "outputs": [],
   "source": [
    "library(\"httr\")\n",
    "library(\"jsonlite\")\n",
    "library(\"ggplot2\")\n",
    "library('RJSplot')"
   ]
  },
  {
   "cell_type": "markdown",
   "metadata": {},
   "source": [
    "## Using API"
   ]
  },
  {
   "cell_type": "code",
   "execution_count": null,
   "metadata": {},
   "outputs": [],
   "source": [
    "base <- \"193.175.238.88:8080/api/politicians/\"\n",
    "call1 <- paste(base,\"all/\", sep=\"\")\n",
    "get_politicians_df <- as.data.frame(fromJSON(content(GET(call1), \"text\", encoding=\"UTF-8\"), flatten = TRUE))\n",
    "call_posts <- paste(base,\"facebook/posts_by/politicians/\", politician_id, \"/?from_date=\",from_date,\"&to_date=\",to_date,\"&aggregate_by=\", aggregation, sep=\"\")\n",
    "call_comments <- paste(base,\"facebook/comments_by/politicians/\", politician_id, \"/?from_date=\",from_date,\"&to_date=\",to_date,\"&aggregate_by=\", aggregation, sep=\"\")\n",
    "posts_by = as.data.frame(fromJSON(content(GET(call_posts), \"text\", encoding=\"UTF-8\"), flatten = TRUE))\n",
    "comments_by = as.data.frame(fromJSON(content(GET(call_comments), \"text\", encoding=\"UTF-8\"), flatten = TRUE))\n",
    "merged = merge(posts_by, comments_by, by='labels')"
   ]
  },
  {
   "cell_type": "code",
   "execution_count": null,
   "metadata": {},
   "outputs": [],
   "source": [
    "#plotting facebook posts\n",
    "options(repr.plot.width=8, repr.plot.height=4)\n",
    "ggplot(data = merged, mapping = aes(as.Date(labels))) +\n",
    "  geom_line(aes(y = values.x, color=\"Posts\", group=response_type.x)) +\n",
    "  geom_line(aes(y = replies.x, color=\"Replies\", group=response_type.x)) +\n",
    "  geom_line(aes(y = shares, color=\"Shares\", group=response_type.x)) +\n",
    "  geom_line(aes(y = reactions, color=\"Reactions\", group=response_type.x)) +\n",
    "  geom_line(aes(y = likes.x, color=\"Likes\", group=response_type.x)) +\n",
    "  labs(title = \"Facebook (Posts Activity)\", x = \"\", y = \"posts\") +\n",
    "  theme(axis.text.x = element_text( size = 7, angle = 60, hjust = 0.5, vjust = 0.5),\n",
    "        axis.text.y = element_text( size = 7), legend.title = element_blank(), plot.title = element_text(size=10))+\n",
    "scale_x_date(date_breaks = \"1 weeks\") "
   ]
  },
  {
   "cell_type": "code",
   "execution_count": null,
   "metadata": {},
   "outputs": [],
   "source": [
    "#plotting facebook comments\n",
    "options(repr.plot.width=8, repr.plot.height=4)\n",
    "ggplot(data = merged, mapping = aes(as.Date(labels))) +\n",
    "  geom_line(aes(y = values.y, color=\"Comments\", group=response_type.y)) +\n",
    "  geom_line(aes(y = replies.y, color=\"Replies\", group=response_type.y)) +\n",
    "  geom_line(aes(y = likes.y, color=\"Likes\", group=response_type.x)) +\n",
    "  labs(title = \"Facebook (Comments Activity)\", x = \"\", y = \"Comments\") +\n",
    "  theme(axis.text.x = element_text( size = 7, angle = 60, hjust = 0.5, vjust = 0.5),\n",
    "        axis.text.y = element_text( size = 7), legend.title = element_blank(), plot.title = element_text(size=10)) +\n",
    "scale_x_date(date_breaks = \"1 weeks\") "
   ]
  }
 ],
 "metadata": {
  "kernelspec": {
   "display_name": "R",
   "language": "R",
   "name": "ir"
  },
  "language_info": {
   "codemirror_mode": "r",
   "file_extension": ".r",
   "mimetype": "text/x-r-source",
   "name": "R",
   "pygments_lexer": "r",
   "version": "3.6.0"
  }
 },
 "nbformat": 4,
 "nbformat_minor": 2
}
