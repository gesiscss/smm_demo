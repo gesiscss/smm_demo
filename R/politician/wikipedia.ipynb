{
 "cells": [
  {
   "cell_type": "code",
   "execution_count": null,
   "metadata": {},
   "outputs": [],
   "source": [
    "# Parameters: \n",
    "politician_id <- \"240\"\n",
    "aggregation <- \"day\" # aggregation can be by day ('day'), week ('week') or month('month')\n",
    "from_date <-'2017-09-01'\n",
    "to_date <-'2018-12-31'"
   ]
  },
  {
   "cell_type": "code",
   "execution_count": null,
   "metadata": {},
   "outputs": [],
   "source": [
    "library(\"httr\")\n",
    "library(\"jsonlite\")\n",
    "library(\"ggplot2\")\n",
    "library('RJSplot')\n",
    "library('dplyr')"
   ]
  },
  {
   "cell_type": "markdown",
   "metadata": {},
   "source": [
    "## Using API"
   ]
  },
  {
   "cell_type": "code",
   "execution_count": null,
   "metadata": {},
   "outputs": [],
   "source": [
    "base <- \"193.175.238.88:8080/api/politicians/\"\n",
    "call1 <- paste(base,\"all/\", sep=\"\")\n",
    "get_politicians_df <- as.data.frame(fromJSON(content(GET(call1), \"text\", encoding=\"UTF-8\"), flatten = TRUE))\n",
    "call_chobs <- paste(base,\"wikipedia/chobs/politicians/\", politician_id, \"/?from_date=\",from_date,\"&to_date=\",to_date,\"&aggregate_by=\", aggregation, sep=\"\")\n",
    "chobs = as.data.frame(fromJSON(content(GET(call_chobs), \"text\", encoding=\"UTF-8\"), flatten = TRUE))\n",
    "\n",
    "#extracting revisions, conflicts and undos via wikiwho API\n",
    "base_ww <- \"https://www.wikiwho.net/de/edit_persistence/v1.0.0-beta/page/\"\n",
    "wiki_id <- get_politicians_df$wp_ids[get_politicians_df$politician_id == politician_id]\n",
    "wiki = as.data.frame(fromJSON(content(GET(paste(base_ww, wiki_id, \"/?start=\",from_date,\"&end=\",to_date , sep=\"\")), \"text\", encoding=\"UTF-8\"), flatten = TRUE))\n",
    "wiki$undos <- wiki$editions.dels + wiki$editions.reins\n",
    "wiki <- summarise(group_by(wiki, editions.year_month), undos = sum(undos),revisions = sum(editions.revisions), conflicts = sum(editions.conflicts))\n",
    "\n"
   ]
  },
  {
   "cell_type": "code",
   "execution_count": null,
   "metadata": {},
   "outputs": [],
   "source": [
    "page_id<-get_politicians_df[politician_id,c('wp_ids')]\n",
    "call_page<-paste(\"https://de.wikipedia.org/w/api.php?action=query&prop=info&pageids=\",page_id,\"&inprop=url&format=json\", sep=\"\")\n",
    "page = as.data.frame(fromJSON(content(GET(call_page), \"text\", encoding=\"UTF-8\"), flatten = TRUE))\n",
    "wiki$editions.year_month<-as.POSIXct(strptime(wiki[[\"editions.year_month\"]], format='%Y-%m-%d'),tz = 'GMT')\n",
    "wiki_title=page[, 4]\n",
    "call_views <- paste(\"https://wikimedia.org/api/rest_v1/metrics/pageviews/per-article/de.wikipedia.org/all-access/user/\", wiki_title,\"/\", \"daily/\",gsub(\"-\", \"\", from_date),\"/\",gsub(\"-\", \"\", to_date), sep=\"\")\n",
    "views = as.data.frame(fromJSON(content(GET(call_views), \"text\", encoding=\"UTF-8\"), flatten = TRUE))\n",
    "views<-views[c(\"items.timestamp\", \"items.views\")]\n",
    "views$items.timestamp<-as.POSIXct(strptime(views[[\"items.timestamp\"]], format='%Y%m%d%H'),tz = 'GMT')\n",
    "\n",
    "if (aggregation  == 'day'){\n",
    "    views<-summarise(group_by(views, time = cut(items.timestamp, \"day\")), items.views = sum(items.views))\n",
    "    }\n",
    "if (aggregation  == 'week'){\n",
    "    views<-summarise(group_by(views, time = cut(items.timestamp, \"week\")), items.views = sum(items.views))\n",
    "    }\n",
    "if (aggregation  == 'month'){  \n",
    "    views<-summarise(group_by(views, time = cut(items.timestamp, \"month\")), items.views = sum(items.views))\n",
    "    }\n",
    "\n",
    "wiki_data = merge( views, chobs, by.x='time', by.y='labels', all.x = TRUE)"
   ]
  },
  {
   "cell_type": "code",
   "execution_count": null,
   "metadata": {},
   "outputs": [],
   "source": [
    "#plotting\n",
    "options(repr.plot.width=8, repr.plot.height=4)\n",
    "ggplot(data = wiki_data, mapping = aes(as.Date(time))) +\n",
    "geom_line(aes(y = values, color=\"Change objects\")) +\n",
    "  geom_line(aes(y = items.views/100, color=\"Views\")) +    \n",
    "   labs(title = \"Wikipedia Activity\", x = \"\", y = \"Change Objects\") +\n",
    "  theme(axis.text.x = element_text( size = 7, angle = 60, hjust = 0.5, vjust = 0.5),\n",
    "        axis.text.y = element_text( size = 7), legend.title = element_blank()) +\n",
    "  scale_x_date(date_breaks = \"1 month\") + scale_y_continuous(sec.axis = sec_axis(~ . *100, name = \"Views\"))\n",
    "#plotting\n",
    "options(repr.plot.width=8, repr.plot.height=4)\n",
    "ggplot(data = wiki, mapping = aes(as.Date(editions.year_month))) +\n",
    "  geom_line(aes(y = revisions, color=\"Revisions\")) +  \n",
    "   labs(title = \"Wikipedia Activity\", x = \"\", y = \"Revisions\") +\n",
    "  theme(axis.text.x = element_text( size = 7, angle = 60, hjust = 0.5, vjust = 0.5),\n",
    "        axis.text.y = element_text( size = 7), legend.title = element_blank()) +\n",
    "  scale_x_date(date_breaks = \"1 month\")"
   ]
  },
  {
   "cell_type": "code",
   "execution_count": null,
   "metadata": {},
   "outputs": [],
   "source": [
    "#plotting\n",
    "options(repr.plot.width=8, repr.plot.height=4)\n",
    "ggplot(data = wiki, mapping = aes(as.Date(editions.year_month))) +\n",
    "  geom_line(aes(y = undos, color=\"Undos\")) +\n",
    "  geom_line(aes(y = conflicts, color=\"Conflicts\")) +\n",
    "  labs(title = \"Wikipedia conflicts\", x = \"\", y = \"Undos and Conflicts\") +\n",
    "  theme(axis.text.x = element_text( size = 7, angle = 60, hjust = 0.5, vjust = 0.5),\n",
    "        axis.text.y = element_text( size = 7), legend.title = element_blank()) +\n",
    "  scale_x_date(date_breaks = \"1 month\")\n"
   ]
  }
 ],
 "metadata": {
  "kernelspec": {
   "display_name": "R",
   "language": "R",
   "name": "ir"
  },
  "language_info": {
   "codemirror_mode": "r",
   "file_extension": ".r",
   "mimetype": "text/x-r-source",
   "name": "R",
   "pygments_lexer": "r",
   "version": "3.6.0"
  }
 },
 "nbformat": 4,
 "nbformat_minor": 2
}
