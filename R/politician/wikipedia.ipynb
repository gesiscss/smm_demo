{
 "cells": [
  {
   "cell_type": "code",
   "execution_count": null,
   "metadata": {},
   "outputs": [],
   "source": [
    "# Parameters: \n",
    "politician_id <- \"240\"\n",
    "aggregation <- \"month\" # aggregation can be by day ('day'), week ('week') or month('month')\n",
    "from_date <-'2017-09-01'\n",
    "to_date <-'2018-12-31'"
   ]
  },
  {
   "cell_type": "code",
   "execution_count": null,
   "metadata": {},
   "outputs": [],
   "source": [
    "library(\"httr\")\n",
    "library(\"jsonlite\")\n",
    "library(\"ggplot2\")\n",
    "library('RJSplot')\n",
    "library('dplyr')"
   ]
  },
  {
   "cell_type": "markdown",
   "metadata": {},
   "source": [
    "## Using API"
   ]
  },
  {
   "cell_type": "code",
   "execution_count": null,
   "metadata": {},
   "outputs": [],
   "source": [
    "base <- \"193.175.238.88:8080/api/politicians/\"\n",
    "call1 <- paste(base,\"all/\", sep=\"\")\n",
    "get_politicians_df <- as.data.frame(fromJSON(content(GET(call1), \"text\", encoding=\"UTF-8\"), flatten = TRUE))\n",
    "call_chobs <- paste(base,\"wikipedia/chobs/politicians/\", politician_id, \"/?from_date=\",from_date,\"&to_date=\",to_date,\"&aggregate_by=\", aggregation, sep=\"\")\n",
    "chobs = as.data.frame(fromJSON(content(GET(call_chobs), \"text\", encoding=\"UTF-8\"), flatten = TRUE))\n",
    "\n",
    "#extracting revisions, conflicts and undos via wikiwho API\n",
    "base_ww <- \"https://www.wikiwho.net/de/edit_persistence/v1.0.0-beta/page/\"\n",
    "wiki_id <- get_politicians_df$wp_ids[get_politicians_df$politician_id == politician_id]\n",
    "wiki = as.data.frame(fromJSON(content(GET(paste(base_ww, wiki_id, \"/\", sep=\"\")), \"text\", encoding=\"UTF-8\"), flatten = TRUE))\n",
    "wiki$undos <- wiki$editions.dels + wiki$editions.reins\n",
    "wiki <- summarise(group_by(wiki, editions.year_month), undos = sum(undos),revisions = sum(editions.revisions), conflicts = sum(editions.conflicts))\n",
    "\n",
    "#merged = merge(chobs, wiki, by.x='labels', by.y='editions.year_month')"
   ]
  },
  {
   "cell_type": "code",
   "execution_count": null,
   "metadata": {},
   "outputs": [],
   "source": [
    "page_id<-get_politicians_df[politician_id,c('wp_ids')]\n",
    "call_page<-paste(\"https://de.wikipedia.org/w/api.php?action=query&prop=info&pageids=\",page_id,\"&inprop=url&format=json\", sep=\"\")\n",
    "page = as.data.frame(fromJSON(content(GET(call_page), \"text\", encoding=\"UTF-8\"), flatten = TRUE))"
   ]
  },
  {
   "cell_type": "code",
   "execution_count": null,
   "metadata": {},
   "outputs": [],
   "source": [
    "wiki_title=page[, 4]\n",
    "call_views <- paste(\"https://wikimedia.org/api/rest_v1/metrics/pageviews/per-article/de.wikipedia.org/all-access/all-agents/\", wiki_title,\"/\", aggregation,\"ly/20171101/20181101\", sep=\"\")\n",
    "views = as.data.frame(fromJSON(content(GET(call_views), \"text\", encoding=\"UTF-8\"), flatten = TRUE))"
   ]
  },
  {
   "cell_type": "code",
   "execution_count": null,
   "metadata": {},
   "outputs": [],
   "source": [
    "views<-views[c(\"items.timestamp\", \"items.views\")]\n",
    "views$items.timestamp<-as.POSIXct(strptime(views[[\"items.timestamp\"]], format='%Y%m%d%H'),tz = 'GMT')\n",
    "wiki$editions.year_month<-as.POSIXct(strptime(wiki[[\"editions.year_month\"]], format='%Y-%m-%d'),tz = 'GMT')\n",
    "chobs$labels<-as.POSIXct(chobs[[\"labels\"]],tz = 'GMT')"
   ]
  },
  {
   "cell_type": "code",
   "execution_count": null,
   "metadata": {},
   "outputs": [],
   "source": [
    "wiki_data = merge( views, wiki, by.y='editions.year_month', by.x='items.timestamp', all.x = TRUE)\n",
    "merged = merge(chobs, wiki_data, by.x='labels', by.y='items.timestamp', all.x = TRUE)"
   ]
  },
  {
   "cell_type": "code",
   "execution_count": null,
   "metadata": {},
   "outputs": [],
   "source": [
    "#plotting\n",
    "options(repr.plot.width=8, repr.plot.height=4)\n",
    "ggplot(data = merged, mapping = aes(as.Date(labels))) +\n",
    "  stat_smooth(aes(y = values, color=\"Change Objects\", group=response_type), se = F, method = \"lm\", formula = y ~ poly(x, 8)) +\n",
    "  stat_smooth(aes(y = revisions, color=\"Revisions\", group=response_type), se = F, method = \"lm\", formula = y ~ poly(x, 8)) +\n",
    "   stat_smooth(aes(y = items.views/1000, color=\"Views\", group=response_type), se = F, method = \"lm\", formula = y ~ poly(x, 8))+\n",
    "    scale_y_continuous(sec.axis = sec_axis(~.*1,name = \"Views\",labels = function(b) { paste0(b, \"K\")}))+\n",
    "  labs(title = \"Wikipedia Activity\", x = \"\", y = \"Change Objects and Revisions\") +\n",
    "  theme(axis.text.x = element_text( size = 7, angle = 60, hjust = 0.5, vjust = 0.5),\n",
    "        axis.text.y = element_text( size = 7), legend.title = element_blank()) +\n",
    "  scale_x_date(date_breaks = \"1 month\")"
   ]
  },
  {
   "cell_type": "code",
   "execution_count": null,
   "metadata": {},
   "outputs": [],
   "source": [
    "#plotting\n",
    "options(repr.plot.width=8, repr.plot.height=4)\n",
    "ggplot(data = merged, mapping = aes(as.Date(labels))) +\n",
    "  stat_smooth(aes(y = undos, color=\"Undos\", group=response_type), se = F, method = \"lm\", formula = y ~ poly(x, 8)) +\n",
    "  stat_smooth(aes(y = conflicts, color=\"Conflicts\", group=response_type), se = F, method = \"lm\", formula = y ~ poly(x, 8)) +\n",
    "  labs(title = \"Wikipedia Conflicts\", x = \"\", y = \"undos and conflicts\") +\n",
    "  theme(axis.text.x = element_text( size = 7, angle = 60, hjust = 0.5, vjust = 0.5),\n",
    "        axis.text.y = element_text( size = 7), legend.title = element_blank()) +\n",
    "  scale_x_date(date_breaks = \"1 month\")+ scale_y_continuous(labels = scales::number_format(big.mark = \"\"))"
   ]
  }
 ],
 "metadata": {
  "kernelspec": {
   "display_name": "R",
   "language": "R",
   "name": "ir"
  },
  "language_info": {
   "codemirror_mode": "r",
   "file_extension": ".r",
   "mimetype": "text/x-r-source",
   "name": "R",
   "pygments_lexer": "r",
   "version": "3.6.0"
  }
 },
 "nbformat": 4,
 "nbformat_minor": 2
}
