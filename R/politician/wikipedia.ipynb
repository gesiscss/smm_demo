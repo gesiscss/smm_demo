{
 "cells": [
  {
   "cell_type": "code",
   "execution_count": null,
   "metadata": {},
   "outputs": [],
   "source": [
    "library(\"httr\")\n",
    "library(\"jsonlite\")\n",
    "library(\"ggplot2\")\n",
    "library('RJSplot')\n",
    "library('dplyr')"
   ]
  },
  {
   "cell_type": "code",
   "execution_count": null,
   "metadata": {},
   "outputs": [],
   "source": [
    "base <- \"193.175.238.88:8080/api/politicians/\"\n",
    "call1 <- paste(base,\"all/\", sep=\"\")\n",
    "get_politicians_df <- as.data.frame(fromJSON(content(GET(call1), \"text\", encoding=\"UTF-8\"), flatten = TRUE))\n",
    "# In the table 'get_politicians_df' you can see all the extracted politicians with respected twitter, facebook and wikipedia ids.\n",
    "\n",
    "tables_rjs(get_politicians_df, jupyter = TRUE)"
   ]
  },
  {
   "cell_type": "code",
   "execution_count": null,
   "metadata": {},
   "outputs": [],
   "source": [
    "# Please choose a politician from the table above and input the `politician_id` and `aggregation` variables below:\n",
    "politician_id <- \"27\"\n",
    "aggregation <- \"month\" # aggregation can be by day ('day'), week ('week') or month('month')\n",
    "\n",
    "call_chobs <- paste(base,\"wikipedia/chobs/politicians/\", politician_id, \"/?aggregate_by=\", aggregation, sep=\"\")\n",
    "chobs = as.data.frame(fromJSON(content(GET(call_chobs), \"text\", encoding=\"UTF-8\"), flatten = TRUE))\n",
    "\n",
    "#extracting revisions, conflicts and undos via wikiwho API\n",
    "base_ww <- \"https://www.wikiwho.net/de/edit_persistence/v1.0.0-beta/page/\"\n",
    "wiki_id <- get_politicians_df$wp_ids[get_politicians_df$politician_id == politician_id]\n",
    "wiki = as.data.frame(fromJSON(content(GET(paste(base_ww, wiki_id, \"/\", sep=\"\")), \"text\", encoding=\"UTF-8\"), flatten = TRUE))\n",
    "wiki$undos <- wiki$editions.dels + wiki$editions.reins\n",
    "wiki <- summarise(group_by(wiki, editions.year_month), undos = sum(undos),revisions = sum(editions.revisions), conflicts = sum(editions.conflicts))\n",
    "\n",
    "merged = merge(chobs, wiki, by.x='labels', by.y='editions.year_month')"
   ]
  },
  {
   "cell_type": "code",
   "execution_count": null,
   "metadata": {},
   "outputs": [],
   "source": [
    "#plotting\n",
    "options(repr.plot.width=8, repr.plot.height=4)\n",
    "ggplot(data = merged, mapping = aes(as.Date(labels))) +\n",
    "  geom_line(aes(y = values, color=\"Change objects\", group=response_type)) +\n",
    "  geom_line(aes(y = revisions, color=\"Revisions\", group=response_type)) +\n",
    "  labs(title = \"Wikipedia (chobs and revisions)\", x = \"Date\", y = \"N\") +\n",
    "  theme(axis.text.x = element_text( size = 7, angle = 60, hjust = 0.5, vjust = 0.5),\n",
    "        axis.text.y = element_text( size = 7), legend.title = element_blank()) +\n",
    "  scale_x_date(date_breaks = \"1 year\")"
   ]
  },
  {
   "cell_type": "code",
   "execution_count": null,
   "metadata": {},
   "outputs": [],
   "source": [
    "#plotting\n",
    "options(repr.plot.width=8, repr.plot.height=4)\n",
    "ggplot(data = merged, mapping = aes(as.Date(labels))) +\n",
    "  geom_line(aes(y = undos, color=\"Undos\", group=response_type)) +\n",
    "  geom_line(aes(y = conflicts, color=\"Conflicts\", group=response_type)) +\n",
    "  labs(title = \"Wikipedia (undos and conflicts)\", x = \"Date\", y = \"N\") +\n",
    "  theme(axis.text.x = element_text( size = 7, angle = 60, hjust = 0.5, vjust = 0.5),\n",
    "        axis.text.y = element_text( size = 7), legend.title = element_blank()) +\n",
    "  scale_x_date(date_breaks = \"1 year\")"
   ]
  }
 ],
 "metadata": {
  "kernelspec": {
   "display_name": "R",
   "language": "R",
   "name": "ir"
  },
  "language_info": {
   "codemirror_mode": "r",
   "file_extension": ".r",
   "mimetype": "text/x-r-source",
   "name": "R",
   "pygments_lexer": "r",
   "version": "3.6.0"
  }
 },
 "nbformat": 4,
 "nbformat_minor": 2
}
