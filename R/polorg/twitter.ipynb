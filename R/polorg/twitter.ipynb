{
 "cells": [
  {
   "cell_type": "markdown",
   "metadata": {},
   "source": [
    "# Organizations Activity on Twitter by party\n",
    "\n",
    "The parameters in the cell below can be adjusted to explore other political organization and time frames.\n",
    "\n",
    "### How to explore other  political organization?\n",
    "The ***organization*** parameter can be use to aggregate organizations by their paraty. The column `subcategory` in this [this other notebook](../political_organizations.ipynb?autorun=true) show the organizations that belong each party.\n",
    "\n",
    "***Alternatively***, you can direcly use the [organizations API](http://mediamonitoring.gesis.org/api/organizations/swagger/), or access it with the [SMM Wrapper](https://pypi.org/project/smm-wrapper/)."
   ]
  },
  {
   "cell_type": "code",
   "execution_count": null,
   "metadata": {},
   "outputs": [],
   "source": [
    "# Parameters: \n",
    "organization <- \"spd\"\n",
    "aggregation <- \"week\" # aggregation can be by day ('day'), week ('week') or month('month')\n",
    "from_date <-'2017-09-01'\n",
    "to_date <-'2018-12-31'"
   ]
  },
  {
   "cell_type": "code",
   "execution_count": null,
   "metadata": {},
   "outputs": [],
   "source": [
    "library(\"httr\")\n",
    "library(\"jsonlite\")\n",
    "library(\"ggplot2\")\n",
    "library('RJSplot')\n",
    "library('dplyr')"
   ]
  },
  {
   "cell_type": "markdown",
   "metadata": {},
   "source": [
    "## Using API"
   ]
  },
  {
   "cell_type": "code",
   "execution_count": null,
   "metadata": {},
   "outputs": [],
   "source": [
    "base <- \"193.175.238.88/api/organizations/\"\n",
    "call1 <- paste(base,\"all/\", sep=\"\")\n",
    "get_organizations_df <- as.data.frame(fromJSON(content(GET(call1), \"text\", encoding=\"UTF-8\"), flatten = TRUE))\n",
    "party_df <- get_organizations_df[get_organizations_df$subcategory == organization & !is.null(get_organizations_df$tw_ids) ,]\n",
    "tweets <- data.frame()\n",
    "replies <- data.frame()\n",
    "for (tw_id in party_df$tw_ids) {\n",
    "    for (tw in tw_id) {\n",
    "        call_tweets <- paste(base,\"twitter/tweets_by/organizations/user_id/\", tw, \"/?from_date=\",from_date,\"&to_date=\",to_date,\"&aggregate_by=\", aggregation, sep=\"\")\n",
    "        call_replies <- paste(base,\"twitter/replies_to/organizations/user_id/\", tw, \"/?from_date=\",from_date,\"&to_date=\",to_date,\"&aggregate_by=\", aggregation, sep=\"\")\n",
    "        if (length(fromJSON(content(GET(call_tweets), \"text\", encoding=\"UTF-8\"), flatten = TRUE)$values) != 0)  {\n",
    "            tweets_unique <- as.data.frame(fromJSON(content(GET(call_tweets), \"text\", encoding=\"UTF-8\"), flatten = TRUE))\n",
    "            tweets_unique$twitter_user_id = tw\n",
    "            tweets <- rbind(tweets, tweets_unique)\n",
    "            }\n",
    "        if (length(fromJSON(content(GET(call_replies), \"text\", encoding=\"UTF-8\"), flatten = TRUE)$values) != 0)  {\n",
    "            replies_unique <- as.data.frame(fromJSON(content(GET(call_replies), \"text\", encoding=\"UTF-8\"), flatten = TRUE))\n",
    "            replies_unique$twitter_user_id = tw\n",
    "            replies <- rbind(replies, replies_unique)\n",
    "            }\n",
    "    }\n",
    "}\n",
    "\n",
    "tweets <- summarise(group_by(tweets, labels), tweets = sum(values), response_type = aggregation)\n",
    "replies <- summarise(group_by(replies, labels), replies = sum(values), response_type = aggregation)\n",
    "merged <- merge(tweets, replies, by='labels')"
   ]
  },
  {
   "cell_type": "code",
   "execution_count": null,
   "metadata": {},
   "outputs": [],
   "source": [
    "#plotting\n",
    "options(repr.plot.width=8, repr.plot.height=4)\n",
    "ggplot(data = merged, mapping = aes(as.Date(labels))) +\n",
    "  geom_line(aes(y = tweets, color=\"Tweets\", group=response_type.x)) +\n",
    "  geom_line(aes(y = replies, color=\"Replies\", group=response_type.y)) +\n",
    "  labs(title = \"Twitter (tweets)\", x = \"\", y = \"Tweets\") +\n",
    "  theme(axis.text.x = element_text( size = 7, angle = 60, hjust = 0.5, vjust = 0.5),\n",
    "        axis.text.y = element_text( size = 7), legend.title = element_blank(), plot.title = element_text(size=10)) +\n",
    "scale_x_date(date_breaks = \"2 weeks\") + scale_y_continuous(labels = scales::number_format(big.mark = \"\"))"
   ]
  }
 ],
 "metadata": {
  "kernelspec": {
   "display_name": "R",
   "language": "R",
   "name": "ir"
  },
  "language_info": {
   "codemirror_mode": "r",
   "file_extension": ".r",
   "mimetype": "text/x-r-source",
   "name": "R",
   "pygments_lexer": "r",
   "version": "3.6.0"
  }
 },
 "nbformat": 4,
 "nbformat_minor": 2
}
