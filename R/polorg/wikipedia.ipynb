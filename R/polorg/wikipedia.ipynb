{
 "cells": [
  {
   "cell_type": "markdown",
   "metadata": {},
   "source": [
    "# Political Organizations Activity on Wikipedia aggregated by Party\n",
    "\n",
    "The parameters in the cell below can be adjusted to explore other political parties and time frames.\n",
    "\n",
    "### How to explore other political parties?\n",
    "The ***organization*** parameter can be use to aggregate organizations by their party. The column `subcategory` in this [this other notebook](../political_organizations.ipynb?autorun=true) show the organizations that belong each party.\n",
    "\n",
    "***Alternatively***, you can direcly use the [organizations API](http://mediamonitoring.gesis.org/api/organizations/swagger/), or access it with the [SMM Wrapper](https://pypi.org/project/smm-wrapper/).\n",
    "\n",
    "## A. Set Up parameters"
   ]
  },
  {
   "cell_type": "code",
   "execution_count": null,
   "metadata": {},
   "outputs": [],
   "source": [
    "# Parameters: \n",
    "organization = 'afd'\n",
    "from_date = '2017-09-01'\n",
    "to_date = '2018-12-31'\n",
    "aggregation = 'week'"
   ]
  },
  {
   "cell_type": "markdown",
   "metadata": {},
   "source": [
    "## B. Using APIs\n",
    "### B.1 Using the SMM Organization API"
   ]
  },
  {
   "cell_type": "code",
   "execution_count": null,
   "metadata": {},
   "outputs": [],
   "source": [
    "library(\"httr\")\n",
    "library(\"jsonlite\")\n",
    "library('dplyr', warn.conflicts = FALSE)\n",
    "\n",
    "# prepare urls\n",
    "base <- \"http://mediamonitoring.gesis.org/api/organizations/\"\n",
    "url_all <- paste(base, \"all/\", sep=\"\")\n",
    "url_chobs <- paste(base, \"wikipedia/chobs/organizations/\", sep=\"\")\n",
    "\n",
    "# prepare parameters\n",
    "params = list(\n",
    "    from_date=from_date,\n",
    "    to_date=to_date,\n",
    "    aggregate_by=aggregation\n",
    ")\n",
    "\n",
    "# use the api to get the organizations and filter the parties\n",
    "orgs <- as.data.frame(fromJSON(content(GET(url_all), \"text\", encoding=\"UTF-8\"), flatten = TRUE))\n",
    "party_df <- orgs[orgs$subcategory == organization & !is.null(orgs$wp_ids),]\n",
    "\n",
    "# query the Social Media Monitoring API for Wikipedia changes \n",
    "chobs <- data.frame()\n",
    "for (organization_id in party_df$organization_id) {\n",
    "    json_chobs <- fromJSON(content(GET(paste(url_chobs, organization_id, \"/?\", sep=\"\"),query=params), \"text\", encoding=\"UTF-8\"), flatten = TRUE)\n",
    "\n",
    "    # concatenate\n",
    "    if (length(json_chobs$values) != 0) {\n",
    "        chobs <- rbind(chobs, as.data.frame(json_chobs))\n",
    "    }    \n",
    "}\n",
    "\n",
    "# group by day, week, or month, and then merge\n",
    "chobs <- summarise(group_by(chobs, labels), values = sum(values))\n",
    "\n",
    "\n",
    "# replace missing with 0\n",
    "chobs[is.na(chobs)] <- 0"
   ]
  },
  {
   "cell_type": "markdown",
   "metadata": {},
   "source": [
    "### B.2 Using the Wikiwho API"
   ]
  },
  {
   "cell_type": "code",
   "execution_count": null,
   "metadata": {},
   "outputs": [],
   "source": [
    "#prepare urls\n",
    "base_ww <- \"https://www.wikiwho.net/de/edit_persistence/v1.0.0-beta/page/\"\n",
    "                   \n",
    "#prepare parameters\n",
    "params = list(\n",
    "    start=from_date,\n",
    "    end=to_date \n",
    ")\n",
    "\n",
    "# query the Wikiwho API for Wikipedia actions (edit_persistance)\n",
    "wikiwho <- data.frame()\n",
    "for (wp_ids in party_df$wp_ids) {\n",
    "    for (wp_id in wp_ids) {\n",
    "        ### B.3 Using the Wikimedia API\n",
    "        json_wikiwho <- fromJSON(content(GET(paste(base_ww, wp_id ,\"/?\",sep=\"\"), query=params), \"text\", encoding=\"UTF-8\"))\n",
    "        wikiwho <- rbind(wikiwho, json_wikiwho$editions)\n",
    "    }\n",
    "}\n",
    "\n",
    "# calculate undos\n",
    "wikiwho$undos <- wikiwho$dels + wikiwho$reins\n",
    "\n",
    "# calculate conflict score\n",
    "wikiwho <- summarise(group_by(wikiwho, year_month), undos = sum(undos),\n",
    "                     conflict = sum(conflict), elegibles= sum(elegibles))\n",
    "\n",
    "# format the dates\n",
    "wikiwho$conflict_score <- wikiwho$conflict / wikiwho$elegibles\n",
    "\n",
    "# replace missing with 0\n",
    "wikiwho[is.na(wikiwho)] <- 0"
   ]
  },
  {
   "cell_type": "markdown",
   "metadata": {},
   "source": [
    "### B.3 Using the Wikimedia API"
   ]
  },
  {
   "cell_type": "code",
   "execution_count": null,
   "metadata": {},
   "outputs": [],
   "source": [
    "library('forcats')\n",
    "\n",
    "# prepare the urls\n",
    "pre <- \"https://wikimedia.org/api/rest_v1/metrics/pageviews/per-article/de.wikipedia.org/all-access/user/\"\n",
    "post <- paste(\"/daily/\", gsub(\"-\", \"\", from_date),\"/\", gsub(\"-\", \"\", to_date), sep=\"\")\n",
    "\n",
    "# get the data throught the Wikimedia API\n",
    "appended_views = list()\n",
    "for (wp_titles in party_df$wp_titles) {\n",
    "    for (wp_title in wp_titles) {       \n",
    "        x <- tryCatch({\n",
    "            view = as.data.frame(fromJSON(content(GET(\n",
    "                paste(pre, URLencode(wp_title, reserved=TRUE), post, sep=\"\")), \"text\", \n",
    "                encoding=\"UTF-8\"), flatten = TRUE))\n",
    "            appended_views <- append(appended_views, list(view))\n",
    "        }, error = function(e) e )\n",
    "    }\n",
    "}\n",
    "views  <- dplyr::bind_rows(appended_views)\n",
    "\n",
    "# prepare the dates in the right format\n",
    "views$items.timestamp<-as.POSIXct(strptime(views[[\"items.timestamp\"]], \n",
    "                                           format='%Y%m%d%H'),tz = 'GMT')\n",
    "\n",
    "# # daily, weekly or monthly aggregation of the data\n",
    "views<-summarise(group_by(views, time = forcats::fct_explicit_na(cut(items.timestamp, aggregation))), \n",
    "                 items.views = sum(items.views))\n",
    "\n",
    "# replace missing with 0\n",
    "views[is.na(views)] <- 0"
   ]
  },
  {
   "cell_type": "markdown",
   "metadata": {},
   "source": [
    "## C. Plotting\n",
    "### C.1 Plot Wikipedia Activity"
   ]
  },
  {
   "cell_type": "code",
   "execution_count": null,
   "metadata": {},
   "outputs": [],
   "source": [
    "library(\"ggplot2\")\n",
    "options(repr.plot.width=8, repr.plot.height=3)\n",
    "\n",
    "# merge data so that the x scales are equal\n",
    "wiki_data = merge( views, chobs, by.x='time', by.y='labels', all.x = TRUE)\n",
    "\n",
    "#plotting wikipedia changes\n",
    "ggplot(data = wiki_data, mapping = aes(as.Date(time))) +\n",
    "  geom_line(aes(y = values), na.rm=TRUE) + \n",
    "  labs(title = \"Wikipedia Activity\", y = \"Changes\") +\n",
    "  theme(axis.text.x = element_blank(), axis.title.x = element_blank()) +\n",
    "  scale_x_date(date_breaks = \"1 month\")\n",
    "\n",
    "#plotting wikipedia views\n",
    "ggplot(data = wiki_data, mapping = aes(as.Date(time))) +\n",
    "  geom_line(aes(y = items.views)) +   \n",
    "  labs(y = \"Views\") +\n",
    "  theme(axis.text.x = element_text(angle = 60, hjust = 0.5, vjust = 0.5),\n",
    "        axis.title.x = element_blank()) +\n",
    "  scale_x_date(date_breaks = \"1 month\")"
   ]
  },
  {
   "cell_type": "markdown",
   "metadata": {},
   "source": [
    "### C.2 Plot Wikipedia Disagreement"
   ]
  },
  {
   "cell_type": "code",
   "execution_count": null,
   "metadata": {},
   "outputs": [],
   "source": [
    "# plotting wikipedia undo actions\n",
    "ggplot(data = wikiwho, mapping = aes(as.Date(year_month))) +\n",
    "  geom_line(aes(y = undos)) +\n",
    "  labs(title = \"Wikipedia Disagreements\", y = \"Undos\") +\n",
    "  theme(axis.text.x = element_blank(), axis.title.x = element_blank()) +\n",
    "  scale_x_date(date_breaks = \"1 month\")\n",
    "\n",
    "# plotting conflict\n",
    "ggplot(data = wikiwho, mapping = aes(as.Date(year_month))) +\n",
    "  geom_line(aes(y = conflict_score)) +\n",
    "  labs(y = \"Conflict\") +\n",
    "  theme(axis.text.x = element_text(angle = 60, hjust = 0.5, vjust = 0.5),\n",
    "        axis.title.x = element_blank()) +\n",
    "  scale_x_date(date_breaks = \"1 month\")"
   ]
  }
 ],
 "metadata": {
  "kernelspec": {
   "display_name": "R",
   "language": "R",
   "name": "ir"
  },
  "language_info": {
   "codemirror_mode": "r",
   "file_extension": ".r",
   "mimetype": "text/x-r-source",
   "name": "R",
   "pygments_lexer": "r",
   "version": "3.6.0"
  }
 },
 "nbformat": 4,
 "nbformat_minor": 2
}
