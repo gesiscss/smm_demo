{
 "cells": [
  {
   "cell_type": "code",
   "execution_count": null,
   "metadata": {},
   "outputs": [],
   "source": [
    "library(\"httr\")\n",
    "library(\"jsonlite\")\n",
    "library(\"ggplot2\")\n",
    "library('RJSplot')\n",
    "library('dplyr')"
   ]
  },
  {
   "cell_type": "code",
   "execution_count": null,
   "metadata": {},
   "outputs": [],
   "source": [
    "base <- \"193.175.238.88:8080/api/organizations/\"\n",
    "call1 <- paste(base,\"all/\", sep=\"\")\n",
    "get_organizations_df <- as.data.frame(fromJSON(content(GET(call1), \"text\", encoding=\"UTF-8\"), flatten = TRUE))\n",
    "# In the table 'get_organizations_df' you can see all the extracted organizations with respected twitter, facebook and wikipedia ids.\n",
    "\n",
    "tables_rjs(get_organizations_df[get_organizations_df$category == 'political',], jupyter = TRUE)"
   ]
  },
  {
   "cell_type": "code",
   "execution_count": null,
   "metadata": {},
   "outputs": [],
   "source": [
    "# Please choose a subcategory from the table above and input the `party` and `aggregation` variables below:\n",
    "party <- \"spd\"\n",
    "aggregation <- \"month\" # aggregation can be by day ('day'), week ('week') or month('month')\n",
    "\n",
    "base_ww <- \"https://www.wikiwho.net/de/edit_persistence/v1.0.0-beta/page/\"\n",
    "party_df <- get_organizations_df[get_organizations_df$subcategory == party & !is.null(get_organizations_df$wp_ids) ,]\n",
    "chobs <- data.frame()\n",
    "wikiwho <- data.frame()\n",
    "for (wp_id in party_df$wp_ids) {\n",
    "    for (wp in wp_id) {\n",
    "        call_chobs <- paste(base,\"wikipedia/chobs/organizations/page_id/\", toString(wp), \"/?aggregate_by=\", aggregation, sep=\"\")\n",
    "        wikiwho <- rbind(wikiwho, as.data.frame(fromJSON(content(GET(paste(base_ww, wp, \"/\", sep=\"\")), \"text\", encoding=\"UTF-8\"), flatten = TRUE)))\n",
    "        if (length(fromJSON(content(GET(call_chobs), \"text\", encoding=\"UTF-8\"), flatten = TRUE)$values) != 0)  {\n",
    "            chobs_unique <- as.data.frame(fromJSON(content(GET(call_chobs), \"text\", encoding=\"UTF-8\"), flatten = TRUE))\n",
    "            chobs_unique$wp_user_id = wp\n",
    "            chobs <- rbind(chobs, chobs_unique)\n",
    "            }\n",
    "    }\n",
    "}\n",
    "wikiwho$undos <- wikiwho$editions.dels + wikiwho$editions.reins\n",
    "wikiwho <- summarise(group_by(wikiwho, editions.year_month), undos = sum(undos),revisions = sum(editions.revisions), conflicts = sum(editions.conflicts))\n",
    "chobs <- summarise(group_by(chobs, labels), values = sum(values), response_type = aggregation)\n",
    "merged = merge(chobs, wikiwho, by.x='labels', by.y='editions.year_month')"
   ]
  },
  {
   "cell_type": "code",
   "execution_count": null,
   "metadata": {},
   "outputs": [],
   "source": [
    "#plotting\n",
    "options(repr.plot.width=6, repr.plot.height=4)\n",
    "ggplot(data = merged, mapping = aes(as.Date(labels))) +\n",
    "  geom_line(aes(y = values, color=\"Change objects\", group=response_type)) +\n",
    "  geom_line(aes(y = revisions, color=\"Revisions\", group=response_type)) +\n",
    "  labs(title = \"Wikipedia (chobs and revisions)\", x = \"Date\", y = \"N\") +\n",
    "  theme(axis.text.x = element_text( size = 7, angle = 60, hjust = 0.5, vjust = 0.5),\n",
    "        axis.text.y = element_text( size = 7), legend.title = element_blank()) +\n",
    "  scale_x_date(date_breaks = \"1 year\")"
   ]
  },
  {
   "cell_type": "code",
   "execution_count": null,
   "metadata": {},
   "outputs": [],
   "source": [
    "#plotting\n",
    "options(repr.plot.width=6, repr.plot.height=4)\n",
    "ggplot(data = merged, mapping = aes(as.Date(labels))) +\n",
    "  geom_line(aes(y = undos, color=\"Undos\", group=response_type)) +\n",
    "  geom_line(aes(y = conflicts, color=\"Conflicts\", group=response_type)) +\n",
    "  labs(title = \"Wikipedia (undos and conflicts)\", x = \"Date\", y = \"N\") +\n",
    "  theme(axis.text.x = element_text( size = 7, angle = 60, hjust = 0.5, vjust = 0.5),\n",
    "        axis.text.y = element_text( size = 7), legend.title = element_blank()) +\n",
    "  scale_x_date(date_breaks = \"1 year\")"
   ]
  },
  {
   "cell_type": "code",
   "execution_count": null,
   "metadata": {},
   "outputs": [],
   "source": []
  }
 ],
 "metadata": {
  "kernelspec": {
   "display_name": "R",
   "language": "R",
   "name": "ir"
  },
  "language_info": {
   "codemirror_mode": "r",
   "file_extension": ".r",
   "mimetype": "text/x-r-source",
   "name": "R",
   "pygments_lexer": "r",
   "version": "3.6.0"
  }
 },
 "nbformat": 4,
 "nbformat_minor": 2
}
