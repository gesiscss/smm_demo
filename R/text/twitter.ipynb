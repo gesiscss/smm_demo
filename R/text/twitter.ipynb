{
 "cells": [
  {
   "cell_type": "code",
   "execution_count": null,
   "metadata": {},
   "outputs": [],
   "source": [
    "library(\"httr\")\n",
    "library(\"jsonlite\")\n",
    "library(\"ggplot2\")\n",
    "library('RJSplot')"
   ]
  },
  {
   "cell_type": "code",
   "execution_count": null,
   "metadata": {},
   "outputs": [],
   "source": [
    "# Please input the text which you would like to search by in the field `contained_text` below and choose `aggregation`:\n",
    "contained_text <- \"wahlen\"\n",
    "aggregation <- \"month\" # aggregation can be by day ('day'), week ('week') or month('month')\n",
    "\n",
    "base <- \"193.175.238.88:8080/api/\"\n",
    "call_politicians <- paste(base,\"politicians/twitter/tweets_by/politicians/?text_contains=\", contained_text, \"/?from_date=2017-09-01&to_date=2018-12-31&aggregate_by=\", aggregation, sep=\"\")\n",
    "politicians = as.data.frame(fromJSON(content(GET(call_politicians), \"text\", encoding=\"UTF-8\"), flatten = TRUE))\n",
    "call_organizations <- paste(base,\"organizations/twitter/tweets_by/organizations/?text_contains=\", contained_text, \"&aggregate_by=\", aggregation, sep=\"\")\n",
    "organizations = as.data.frame(fromJSON(content(GET(call_organizations), \"text\", encoding=\"UTF-8\"), flatten = TRUE))\n",
    "call_general <- paste(base,\"organizations/twitter/general_population/?text_contains=\", contained_text, \"&aggregate_by=\", aggregation, sep=\"\")\n",
    "general = as.data.frame(fromJSON(content(GET(call_general), \"text\", encoding=\"UTF-8\"), flatten = TRUE))\n",
    "merged <- Reduce(function(x,y) merge(x = x, y = y, by = \"labels\"), \n",
    "       list(politicians, organizations, general))"
   ]
  },
  {
   "cell_type": "code",
   "execution_count": null,
   "metadata": {},
   "outputs": [],
   "source": [
    "#plotting\n",
    "options(repr.plot.width=8, repr.plot.height=4)\n",
    "ggplot(data = merged, mapping = aes(labels)) +\n",
    "  geom_line(aes(y = values.x, color=\"Politicians\", group=response_type.x)) +\n",
    "  geom_line(aes(y = values.y, color=\"Organizations\", group=response_type.y)) +\n",
    "  geom_line(aes(y = values, color=\"General political tweets\", group=response_type)) +\n",
    "  labs(title = \"Twitter (Tweets)\", x = \"\", y = \"Tweets\") +\n",
    "  theme(axis.text.x = element_text( size = 7, angle = 60, hjust = 0.5, vjust = 0.5),\n",
    "        axis.text.y = element_text( size = 7), legend.title = element_blank())+ scale_y_continuous(labels = scales::number_format(big.mark = \"\"))"
   ]
  }
 ],
 "metadata": {
  "kernelspec": {
   "display_name": "R",
   "language": "R",
   "name": "ir"
  },
  "language_info": {
   "codemirror_mode": "r",
   "file_extension": ".r",
   "mimetype": "text/x-r-source",
   "name": "R",
   "pygments_lexer": "r",
   "version": "3.6.0"
  }
 },
 "nbformat": 4,
 "nbformat_minor": 2
}
