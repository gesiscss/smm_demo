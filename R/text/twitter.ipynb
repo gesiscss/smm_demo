{
 "cells": [
  {
   "cell_type": "markdown",
   "metadata": {},
   "source": [
    "# Full text search on Twitter\n",
    "\n",
    "The parameters in the cell below can be adjusted to search for other texts and time frames. \n",
    "\n",
    "### How to further explore the text?\n",
    "\n",
    " You an use the symbols `+` (i.e. *AND*), `|` (i.e. *OR*), `-`  (*NOT*), `()` (to aggregate operators) and `\"\"` (to search for consecutive tokens). For example, `\"deutschland ist\" + (afd | csu) -die` would search for all texts containing (1) *deutschland ist*, (2) either *afd* or *csu*, but not  *die*.\n",
    "\n",
    "***Alternatively***, you can direcly use the [politicians API](http://mediamonitoring.gesis.org/api/politicians/swagger/) or [organizations API](http://mediamonitoring.gesis.org/api/organizations/swagger/), or access them with the [SMM Wrapper](https://pypi.org/project/smm-wrapper/).\n",
    "\n",
    "## A. Set Up parameters"
   ]
  },
  {
   "cell_type": "code",
   "execution_count": null,
   "metadata": {},
   "outputs": [],
   "source": [
    "# Parameters: \n",
    "search_text = 'steuer'\n",
    "from_date = '2017-09-01'\n",
    "to_date = '2018-12-31'\n",
    "aggregation = 'week'"
   ]
  },
  {
   "cell_type": "markdown",
   "metadata": {},
   "source": [
    "## B. Using the SMM API (Politicians and Organizations)"
   ]
  },
  {
   "cell_type": "code",
   "execution_count": null,
   "metadata": {},
   "outputs": [],
   "source": [
    "library(\"httr\")\n",
    "library(\"jsonlite\")\n",
    "\n",
    "#prepare URLs\n",
    "base <- \"http://mediamonitoring.gesis.org/api/\"\n",
    "url_politicians <- paste(base,\"politicians/twitter/tweets_by/politicians/?\", sep=\"\")\n",
    "url_organizations <- paste(base,\"organizations/twitter/tweets_by/organizations/?\", sep=\"\")\n",
    "url_general <- paste(base,\"organizations/twitter/general_population/?\", sep=\"\")\n",
    "\n",
    "#prepare parameters\n",
    "params = list(\n",
    "    text_contains=search_text,\n",
    "    from_date=from_date,\n",
    "    to_date=to_date,\n",
    "    aggregate_by=aggregation\n",
    ")\n",
    "\n",
    "# using the api to get the data\n",
    "politicians = as.data.frame(fromJSON(content(GET(url_politicians, query=params), \"text\", encoding=\"UTF-8\"), flatten = TRUE))\n",
    "organizations = as.data.frame(fromJSON(content(GET(url_organizations, query=params), \"text\", encoding=\"UTF-8\"), flatten = TRUE))\n",
    "general = as.data.frame(fromJSON(content(GET(url_general, query=params), \"text\", encoding=\"UTF-8\"), flatten = TRUE))\n",
    "\n",
    "# merge the data\n",
    "merged <- Reduce(function(x,y) merge(x = x, y = y, by = \"labels\"), \n",
    "       list(politicians, organizations, general))"
   ]
  },
  {
   "cell_type": "markdown",
   "metadata": {},
   "source": [
    "## C. Plotting"
   ]
  },
  {
   "cell_type": "code",
   "execution_count": null,
   "metadata": {},
   "outputs": [],
   "source": [
    "library(\"ggplot2\")\n",
    "options(repr.plot.width=8, repr.plot.height=4)\n",
    "\n",
    "ggplot(data = merged, mapping = aes(as.Date(labels))) +\n",
    "  geom_line(aes(y = values.x, color=\"Politicians\", group=response_type.x)) +\n",
    "  geom_line(aes(y = values.y, color=\"Organizations\", group=response_type.y)) +\n",
    "  geom_line(aes(y = values, color=\"General political tweets\", group=response_type)) +\n",
    "  labs(title = \"Twitter (Tweets)\", y = \"Tweets\") +\n",
    "  theme(axis.text.x = element_text(angle = 60, hjust = 0.5, vjust = 0.5),\n",
    "        axis.title.x = element_blank(), legend.title = element_blank()) +\n",
    "scale_x_date(date_breaks = \"1 month\")"
   ]
  }
 ],
 "metadata": {
  "kernelspec": {
   "display_name": "R",
   "language": "R",
   "name": "ir"
  },
  "language_info": {
   "codemirror_mode": "r",
   "file_extension": ".r",
   "mimetype": "text/x-r-source",
   "name": "R",
   "pygments_lexer": "r"
  }
 },
 "nbformat": 4,
 "nbformat_minor": 2
}
