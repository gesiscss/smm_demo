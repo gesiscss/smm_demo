{
 "cells": [
  {
   "cell_type": "code",
   "execution_count": null,
   "metadata": {},
   "outputs": [],
   "source": [
    "# Parameters: \n",
    "search_text <- \"wahlen\"\n",
    "aggregation <- \"week\" # aggregation can be by day ('day'), week ('week') or month('month')\n",
    "from_date <-'2017-09-01'\n",
    "to_date <-'2018-12-31'"
   ]
  },
  {
   "cell_type": "code",
   "execution_count": null,
   "metadata": {},
   "outputs": [],
   "source": [
    "library(\"httr\")\n",
    "library(\"jsonlite\")\n",
    "library(\"ggplot2\")\n",
    "library('RJSplot')"
   ]
  },
  {
   "cell_type": "markdown",
   "metadata": {},
   "source": [
    "## Using API"
   ]
  },
  {
   "cell_type": "code",
   "execution_count": null,
   "metadata": {},
   "outputs": [],
   "source": [
    "base <- \"193.175.238.88/api/\"\n",
    "call_politicians <- paste(base,\"politicians/wikipedia/chobs/politicians/?text_contains=\", search_text, \"&from_date=\",from_date,\"&to_date=\",to_date,\"&aggregate_by=\", aggregation, sep=\"\")\n",
    "politicians = as.data.frame(fromJSON(content(GET(call_politicians), \"text\", encoding=\"UTF-8\"), flatten = TRUE))\n",
    "call_organizations <- paste(base,\"organizations/wikipedia/chobs/organizations/?text_contains=\", search_text, \"&from_date=\",from_date,\"&to_date=\",to_date,\"&aggregate_by=\", aggregation, sep=\"\")\n",
    "organizations = as.data.frame(fromJSON(content(GET(call_organizations), \"text\", encoding=\"UTF-8\"), flatten = TRUE))\n",
    "merged <- merge(politicians, organizations, by = \"labels\")"
   ]
  },
  {
   "cell_type": "code",
   "execution_count": null,
   "metadata": {},
   "outputs": [],
   "source": [
    "#plotting\n",
    "options(repr.plot.width=8, repr.plot.height=4)\n",
    "ggplot(data = merged, mapping = aes(as.Date(labels))) +\n",
    "  geom_line(aes(y = values.x, color=\"Politicians\", group=response_type.x)) +\n",
    "  geom_line(aes(y = values.y, color=\"Organizations\", group=response_type.y)) +\n",
    "  labs(title = \"Wikipedia (Change Objects)\", x = \"\", y = \"Organizations and Politicians\") +\n",
    "  theme(axis.text.x = element_text( size = 7, angle = 60, hjust = 0.5, vjust = 0.5),\n",
    "        axis.text.y = element_text( size = 7), legend.title = element_blank()) +\n",
    "  scale_x_date(date_breaks = \"2 week\")+ scale_y_continuous(labels = scales::number_format(big.mark = \"\"))"
   ]
  }
 ],
 "metadata": {
  "kernelspec": {
   "display_name": "R",
   "language": "R",
   "name": "ir"
  },
  "language_info": {
   "codemirror_mode": "r",
   "file_extension": ".r",
   "mimetype": "text/x-r-source",
   "name": "R",
   "pygments_lexer": "r",
   "version": "3.6.0"
  }
 },
 "nbformat": 4,
 "nbformat_minor": 2
}
