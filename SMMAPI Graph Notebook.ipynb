{
 "cells": [
  {
   "cell_type": "code",
   "execution_count": null,
   "metadata": {},
   "outputs": [],
   "source": [
    "from IPython.display import display, Markdown as md\n",
    "display(md(f\"# Social Media Monitoring\"))\n",
    "display(md(f\"**Search for a Politician**\"))\n",
    "display(md(f\"***The following table contains data on the politicians and their associated social acounts***\"))"
   ]
  },
  {
   "cell_type": "code",
   "execution_count": null,
   "metadata": {},
   "outputs": [],
   "source": [
    "import os\n",
    "from smm_wrapper import SMM\n",
    "import qgrid\n",
    "from ipywidgets import widgets, Output\n",
    "from IPython.display import display, clear_output\n",
    "smm = SMM()\n",
    "\n",
    "politicians_df = smm.dv.politicians_df()\n",
    "qgrid_widget = qgrid.show_grid(politicians)\n",
    "qgrid_widget"
   ]
  },
  {
   "cell_type": "code",
   "execution_count": null,
   "metadata": {},
   "outputs": [],
   "source": [
    "display(md(f\"**Select a politician**\"))\n",
    "def on_button_clicked(b):\n",
    "    global politician\n",
    "    \n",
    "    # use the out widget so the output is overwritten when two or more\n",
    "    # searches are performed\n",
    "    with out:\n",
    "        try:\n",
    "            politician = smm.api.politician_search(politician_id=searchTerm.value)\n",
    "            clear_output()\n",
    "            display('Result found for #: {}. Name and last name: {} {}'.format(politician['politician_id'], \n",
    "                                                                               politician['firstname'], \n",
    "                                                                               politician['name']))\n",
    "\n",
    "        except:\n",
    "            clear_output()\n",
    "            display(md(f'The politician with id *\"{searchTerm.value}\"* was not found. Please enter a number between 1 and 2516'))\n",
    "\n",
    "# create and display the button\n",
    "searchTerm = widgets.Text()\n",
    "button = widgets.Button(description=\"Search\")\n",
    "example = md(\"Please enter a politician id from the table above. Example: *2193 for Angela Merkel*\")\n",
    "display(example, searchTerm, button)\n",
    "\n",
    "# the output widge is used to remove the output after the search field\n",
    "out = Output()\n",
    "display(out)\n",
    "\n",
    "# set the event\n",
    "button.on_click(on_button_clicked)\n",
    "\n",
    "# trigger the event with the default value\n",
    "on_button_clicked(button)"
   ]
  },
  {
   "cell_type": "code",
   "execution_count": null,
   "metadata": {},
   "outputs": [],
   "source": [
    "from bokeh.io import output_file, show\n",
    "from bokeh.plotting import figure\n",
    "output_notebook()\n",
    "import pandas as pd"
   ]
  },
  {
   "cell_type": "code",
   "execution_count": null,
   "metadata": {},
   "outputs": [],
   "source": [
    "filtered_tweets = smm.api.tweets_by(politician_id=politician['politician_id'])\n",
    "display(filtered_tweets['values'])\n",
    "display(filtered_tweets['labels'])"
   ]
  },
  {
   "cell_type": "code",
   "execution_count": null,
   "metadata": {},
   "outputs": [],
   "source": [
    "filtered_tweets = smm.api.tweets_by(politician_id=politician['politician_id'])\n",
    "y = filtered_tweets['values']\n",
    "x = filtered_tweets['labels']\n",
    "\n",
    "p = figure(title=\"twitter example\", plot_height=300, plot_width=600, \n",
    "                   y_range=[min(filtered_tweets['labels']), max(filtered_tweets['labels'])],\n",
    "                   background_fill_color='#efefef')\n",
    "p.line(x, y, legend=\"sample\", line_width=3)\n",
    "show(p)"
   ]
  },
  {
   "cell_type": "code",
   "execution_count": null,
   "metadata": {},
   "outputs": [],
   "source": [
    "from ipywidgets import interact\n",
    "from ipywidgets.widgets import Dropdown\n",
    "\n",
    "interact(listen, begin = Dropdown(options=dates),\n",
    "         end = Dropdown(options=dates, value=dates[-1]),\n",
    "         aggregation=Dropdown(options=['month', 'week', 'day'], value='month'));\n"
   ]
  },
  {
   "cell_type": "code",
   "execution_count": null,
   "metadata": {},
   "outputs": [],
   "source": [
    "from ipywidgets import interact\n",
    "from ipywidgets.widgets import Dropdown"
   ]
  }
 ],
 "metadata": {
  "kernelspec": {
   "display_name": "Python 3",
   "language": "python",
   "name": "python3"
  },
  "language_info": {
   "codemirror_mode": {
    "name": "ipython",
    "version": 3
   },
   "file_extension": ".py",
   "mimetype": "text/x-python",
   "name": "python",
   "nbconvert_exporter": "python",
   "pygments_lexer": "ipython3",
   "version": "3.6.7"
  }
 },
 "nbformat": 4,
 "nbformat_minor": 2
}
