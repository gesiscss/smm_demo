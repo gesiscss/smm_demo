{
 "cells": [
  {
   "cell_type": "code",
   "execution_count": null,
   "metadata": {},
   "outputs": [],
   "source": [
    "from IPython.display import display, Markdown as md\n",
    "display(md(f\"# Social Media Monitoring\"))\n",
    "display(md(f\"**Search for a Politician**\"))\n",
    "display(md(f\"***The following table contains data on the politicians and their associated social acounts***\"))"
   ]
  },
  {
   "cell_type": "code",
   "execution_count": null,
   "metadata": {},
   "outputs": [],
   "source": [
    "import os\n",
    "from smm_wrapper import SMM\n",
    "import qgrid\n",
    "from ipywidgets import widgets, Output\n",
    "from IPython.display import display, clear_output\n",
    "smm = SMM()\n",
    "\n",
    "politicians_df = smm.dv.politicians_df()\n",
    "qgrid_widget = qgrid.show_grid(politicians_df)\n",
    "qgrid_widget"
   ]
  },
  {
   "cell_type": "code",
   "execution_count": null,
   "metadata": {},
   "outputs": [],
   "source": [
    "display(md(f\"**Select a politician**\"))\n",
    "def on_button_clicked(b):\n",
    "    global politician\n",
    "    \n",
    "    # use the out widget so the output is overwritten when two or more\n",
    "    # searches are performed\n",
    "    with out:\n",
    "        try:\n",
    "            politician = smm.api.politician_search(politician_id=searchTerm.value)\n",
    "            clear_output()\n",
    "            display('Result found for #: {}. Name and last name: {} {}'.format(politician['politician_id'], \n",
    "                                                                               politician['firstname'], \n",
    "                                                                               politician['name']))\n",
    "\n",
    "        except:\n",
    "            clear_output()\n",
    "            display(md(f'The politician with id *\"{searchTerm.value}\"* was not found. Please enter a number between 1 and 2516'))\n",
    "\n",
    "# create and display the button\n",
    "searchTerm = widgets.Text()\n",
    "button = widgets.Button(description=\"Search\")\n",
    "example = md(\"Please enter a politician id from the table above. Example: *2193 for Angela Merkel*\")\n",
    "display(example, searchTerm, button)\n",
    "\n",
    "# the output widge is used to remove the output after the search field\n",
    "out = Output()\n",
    "display(out)\n",
    "\n",
    "# set the event\n",
    "button.on_click(on_button_clicked)\n",
    "\n",
    "# trigger the event with the default value\n",
    "on_button_clicked(button)"
   ]
  },
  {
   "cell_type": "code",
   "execution_count": null,
   "metadata": {},
   "outputs": [],
   "source": [
    "from bokeh.io import output_notebook, show\n",
    "from bokeh.plotting import figure, curdoc\n",
    "from bokeh.layouts import column\n",
    "from bokeh.models.widgets import RadioButtonGroup\n",
    "from bokeh.client import push_session\n",
    "output_notebook()\n",
    "import pandas as pd\n",
    "from datetime import datetime"
   ]
  },
  {
   "cell_type": "code",
   "execution_count": null,
   "metadata": {},
   "outputs": [],
   "source": [
    "def modify_agg(doc):\n",
    "    #getting the data from SMM api\n",
    "    def extracting_data(politician_id, agg):\n",
    "        filtered_tweets = smm.api.tweets_by(politician_id=politician_id, aggregate_by=agg)\n",
    "        filtered_replies = smm.api.reply_to(politician_id=politician_id, aggregate_by=agg)\n",
    "        filtered_tweets['labels'] = [datetime.strptime(item, '%Y-%m-%d') for item in filtered_tweets['labels']]\n",
    "        filtered_replies['labels'] = [datetime.strptime(item, '%Y-%m-%d') for item in filtered_replies['labels']]\n",
    "        return(filtered_tweets, filtered_replies)\n",
    "    \n",
    "    #creating the plots\n",
    "    filtered_tweets, filtered_replies = extracting_data(politician['politician_id'], agg='month')\n",
    "    tw_y = filtered_tweets['values']\n",
    "    tw_x = filtered_tweets['labels']\n",
    "    re_y = filtered_replies['values']\n",
    "    re_x = filtered_replies['labels']\n",
    "    output_file(\"example.html\")\n",
    "\n",
    "    p = figure(title=\"Aggregated tweets and replies by Politician ID\", x_axis_type='datetime', plot_height=400, plot_width=700,\n",
    "                       x_range=[min(filtered_tweets['labels']), max(filtered_tweets['labels'])],\n",
    "                       background_fill_color='#efefef', x_axis_label='Datetime', y_axis_label='Tweets')\n",
    "    p.line(tw_x, tw_y, legend=\"number of tweets\", line_width=2, line_color=\"blue\")\n",
    "    p.line(re_x, re_y, legend=\"number of replies\", line_width=1, line_color=\"red\")\n",
    "    p.legend.location = \"top_left\"\n",
    "    p.legend.click_policy=\"hide\"\n",
    "    def callback(attr, old, new):\n",
    "        if new == 0:\n",
    "            agg = 'day'\n",
    "        elif new == 1:\n",
    "            agg = 'week'\n",
    "        else:\n",
    "            agg = 'month'\n",
    "        filtered_tweets, filtered_replies = extracting_data(politician['politician_id'], agg)\n",
    "        \n",
    "    #choosing the aggregation\n",
    "    radio_button_group = RadioButtonGroup(\n",
    "            labels=[\"Daily\", \"Weekly\", \"Monthly\"], active=2)\n",
    "    radio_button_group.on_change('active', callback)\n",
    "    \n",
    "\n",
    "    doc.add_root(column(radio_button_group, p))"
   ]
  },
  {
   "cell_type": "code",
   "execution_count": null,
   "metadata": {},
   "outputs": [],
   "source": [
    "show(modify_agg, notebook_url=\"http://10.6.13.139:8020\")"
   ]
  },
  {
   "cell_type": "code",
   "execution_count": null,
   "metadata": {},
   "outputs": [],
   "source": []
  }
 ],
 "metadata": {
  "kernelspec": {
   "display_name": "Python 3",
   "language": "python",
   "name": "python3"
  },
  "language_info": {
   "codemirror_mode": {
    "name": "ipython",
    "version": 3
   },
   "file_extension": ".py",
   "mimetype": "text/x-python",
   "name": "python",
   "nbconvert_exporter": "python",
   "pygments_lexer": "ipython3",
   "version": "3.6.7"
  }
 },
 "nbformat": 4,
 "nbformat_minor": 2
}
