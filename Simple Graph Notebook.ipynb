{
 "cells": [
  {
   "cell_type": "markdown",
   "metadata": {},
   "source": [
    "# Social Media Monitoring\n",
    "\n",
    "\n",
    "The following table contains data on the politicians and their associated social acounts"
   ]
  },
  {
   "cell_type": "code",
   "execution_count": null,
   "metadata": {},
   "outputs": [],
   "source": [
    "from bokeh.io import output_notebook, show\n",
    "from bokeh.plotting import figure\n",
    "output_notebook()\n",
    "from datetime import datetime\n",
    "import os\n",
    "from smm_wrapper import SMM\n",
    "import qgrid\n",
    "smm = SMM()\n",
    "\n",
    "politicians_df = smm.dv.politicians_df()\n",
    "qgrid_widget = qgrid.show_grid(politicians_df)\n",
    "qgrid_widget"
   ]
  },
  {
   "cell_type": "markdown",
   "metadata": {},
   "source": [
    "Please choose the politician from the table above and input the politician_id in the field below:"
   ]
  },
  {
   "cell_type": "code",
   "execution_count": null,
   "metadata": {},
   "outputs": [],
   "source": [
    "politician_id = 1\n",
    "aggregation = 'month' #aggregation can be by day ('day'), week ('week') or month('month')"
   ]
  },
  {
   "cell_type": "code",
   "execution_count": null,
   "metadata": {},
   "outputs": [],
   "source": [
    "# using api to extract data\n",
    "politician = smm.api.politician_search(politician_id=politician_id)\n",
    "tweets = smm.api.tweets_by(politician_id=politician_id, aggregate_by=aggregation)\n",
    "replies = smm.api.reply_to(politician_id=politician_id, aggregate_by=aggregation)\n",
    "posts = smm.api.posts_by(politician_id=politician_id, aggregate_by=aggregation)\n",
    "comments = smm.api.comments_by(politician_id=politician_id, aggregate_by=aggregation)\n",
    "tweets['labels'] = [datetime.strptime(item, '%Y-%m-%d') for item in tweets['labels']]\n",
    "replies['labels'] = [datetime.strptime(item, '%Y-%m-%d') for item in replies['labels']]\n",
    "posts['labels'] = [datetime.strptime(item, '%Y-%m-%d') for item in posts['labels']]\n",
    "comments['labels'] = [datetime.strptime(item, '%Y-%m-%d') for item in comments['labels']]"
   ]
  },
  {
   "cell_type": "code",
   "execution_count": null,
   "metadata": {},
   "outputs": [],
   "source": [
    "#creating plots\n",
    "#twitter plot\n",
    "t = figure(title=\"Aggregated tweets and replies by Politician ID\", x_axis_type='datetime',\n",
    "           plot_height=400, plot_width=700,\n",
    "           background_fill_color='#efefef', x_axis_label='Date', y_axis_label='Tweets')\n",
    "t.line(tweets['labels'], tweets['values'], legend=\"number of tweets\", line_width=2, line_color=\"blue\")\n",
    "t.line(replies['labels'], replies['values'], legend=\"number of replies\", line_width=1, line_color=\"red\")\n",
    "\n",
    "#facebook posts plot\n",
    "p = figure(title=\"Aggregated facebook posts by Politician ID\", x_axis_type='datetime',\n",
    "           plot_height=400, plot_width=700,\n",
    "           background_fill_color='#efefef', x_axis_label='Date', y_axis_label='Facebook posts')\n",
    "p.line(posts['labels'], posts['values'], legend=\"number of posts\", line_width=2, line_color=\"blue\")\n",
    "\n",
    "#facebook comments plot\n",
    "c = figure(title=\"Aggregated facebook comments by Politician ID\", x_axis_type='datetime',\n",
    "           plot_height=400, plot_width=700,\n",
    "           background_fill_color='#efefef', x_axis_label='Date', y_axis_label='Facebook comments')\n",
    "c.line(comments['labels'], comments['values'], legend=\"number of comments\", line_width=2, line_color=\"green\")\n",
    "show(t)\n",
    "show(p)\n",
    "show(c)"
   ]
  },
  {
   "cell_type": "code",
   "execution_count": null,
   "metadata": {},
   "outputs": [],
   "source": []
  }
 ],
 "metadata": {
  "kernelspec": {
   "display_name": "Python 3",
   "language": "python",
   "name": "python3"
  },
  "language_info": {
   "codemirror_mode": {
    "name": "ipython",
    "version": 3
   },
   "file_extension": ".py",
   "mimetype": "text/x-python",
   "name": "python",
   "nbconvert_exporter": "python",
   "pygments_lexer": "ipython3",
   "version": "3.6.7"
  }
 },
 "nbformat": 4,
 "nbformat_minor": 2
}
