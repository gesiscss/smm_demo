{
 "cells": [
  {
   "cell_type": "markdown",
   "metadata": {},
   "source": [
    "# Social Media Monitoring\n",
    "\n",
    "\n",
    "The following table contains data on the politicians and their associated social acounts"
   ]
  },
  {
   "cell_type": "code",
   "execution_count": null,
   "metadata": {},
   "outputs": [],
   "source": [
    "import os\n",
    "from smm_wrapper import SMM\n",
    "import qgrid\n",
    "smm = SMM()\n",
    "\n",
    "politicians_df = smm.dv.politicians_df()\n",
    "qgrid.show_grid(politicians_df)"
   ]
  },
  {
   "cell_type": "markdown",
   "metadata": {},
   "source": [
    "Please choose a party from the table above and enter its name in the field below:"
   ]
  },
  {
   "cell_type": "code",
   "execution_count": null,
   "metadata": {},
   "outputs": [],
   "source": [
    "party = 'AfD'\n",
    "aggregation = 'month' #aggregation can be by day ('day'), week ('week') or month('month')"
   ]
  },
  {
   "cell_type": "code",
   "execution_count": null,
   "metadata": {},
   "outputs": [],
   "source": [
    "#aggregating tweets data by party affiliation\n",
    "party_tweets = {'party':party,'date':[],'tweets':[], 'replies':[]}\n",
    "\n",
    "for index, row in politicians_df.iterrows():\n",
    "    if row['tw_ids'] is not None and row['affiliation'] == party:\n",
    "        tw = smm.api.tweets_by(twitter_user_id=row['tw_ids'][0], aggregate_by=aggregation)\n",
    "        for i, date in enumerate(tw['labels'], 0):\n",
    "            if date in party_data['date']:\n",
    "                curr_i = party_data['date'].index(date)\n",
    "                party_data['tweets'][curr_i] += tw['values'][i]\n",
    "            else:\n",
    "                party_data['date'].append(date)\n",
    "                party_data['tweets'].append(tw['values'][i])\n",
    "                party_data['replies'].append(0)\n",
    "        for i, date in enumerate(tw_rep['labels'], 0):\n",
    "            if date in party_data['date']:\n",
    "                curr_i = party_data['date'].index(date)\n",
    "                party_data['replies'][curr_i] += tw_rep['values'][i]\n",
    "            else:\n",
    "                party_data['date'].append(date)\n",
    "                party_data['replies'].append(tw_rep['values'][i])"
   ]
  },
  {
   "cell_type": "code",
   "execution_count": null,
   "metadata": {},
   "outputs": [],
   "source": [
    "#aggregating replies data by party affiliation\n",
    "for index, row in politicians_df.iterrows():\n",
    "    if row['tw_ids'] is not None and row['affiliation'] == party:\n",
    "        tw_rep = smm.api.reply_to(twitter_user_id=row['tw_ids'], aggregate_by=aggregation)\n",
    "        print(tw_rep['values'])\n",
    "        for i, date in enumerate(tw_rep['labels'], 0):\n",
    "            if date in party_data['date']:\n",
    "                curr_i = party_data['date'].index(date)\n",
    "                party_data['replies'][curr_i] += tw_rep['values'][i]\n",
    "            else:\n",
    "                party_data['date'].append(date)\n",
    "                party_data['replies'].append(tw_rep['values'][i])\n",
    "                \n",
    "print(party_data)"
   ]
  },
  {
   "cell_type": "code",
   "execution_count": null,
   "metadata": {},
   "outputs": [],
   "source": [
    "#plotting data\n",
    "import plotly\n",
    "from plotly import graph_objs\n",
    "data = sorted(zip(party_data['date'],element['tweets']))\n",
    "data_rep = sorted(zip(party_data['date'],element['replies']))\n",
    "x_tw, y_tw = zip(*data)\n",
    "x_rep, y_rep = zip(*data_rep)\n",
    "trace_tw = [graph_objs.Scatter(x=x_tw, y=y_tw, mode='lines+markers', name=party_data['party'])]\n",
    "trace_rep = [graph_objs.Scatter(x=x_rep, y=y_rep, mode='lines+markers', name=party_data['party'])]\n",
    "\n",
    "layout_tw = graph_objs.Layout(hovermode='closest', xaxis=dict(title='Date'), yaxis=dict(title='Tweets'),showlegend=True)\n",
    "layout_rep = graph_objs.Layout(hovermode='closest', xaxis=dict(title='Date'), yaxis=dict(title='Replies'),showlegend=True)\n",
    "\n",
    "plotly.offline.init_notebook_mode(connected=True)\n",
    "plotly.offline.iplot({\"data\": trace_tw, \"layout\": layout_tw})\n",
    "plotly.offline.iplot({\"data\": trace_rep, \"layout\": layout_rep})"
   ]
  },
  {
   "cell_type": "code",
   "execution_count": null,
   "metadata": {},
   "outputs": [],
   "source": []
  }
 ],
 "metadata": {
  "kernelspec": {
   "display_name": "Python 3",
   "language": "python",
   "name": "python3"
  },
  "language_info": {
   "codemirror_mode": {
    "name": "ipython",
    "version": 3
   },
   "file_extension": ".py",
   "mimetype": "text/x-python",
   "name": "python",
   "nbconvert_exporter": "python",
   "pygments_lexer": "ipython3",
   "version": "3.6.7"
  }
 },
 "nbformat": 4,
 "nbformat_minor": 2
}
