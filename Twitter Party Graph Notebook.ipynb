{
 "cells": [
  {
   "cell_type": "markdown",
   "metadata": {},
   "source": [
    "# Social Media Monitoring\n",
    "\n",
    "\n",
    "The following table contains data on the politicians and their associated social acounts"
   ]
  },
  {
   "cell_type": "code",
   "execution_count": null,
   "metadata": {},
   "outputs": [],
   "source": [
    "import os\n",
    "from smm_wrapper import SMM\n",
    "import qgrid\n",
    "smm = SMM()\n",
    "\n",
    "politicians_df = smm.dv.politicians_df()\n",
    "qgrid.show_grid(politicians_df)"
   ]
  },
  {
   "cell_type": "code",
   "execution_count": null,
   "metadata": {},
   "outputs": [],
   "source": [
    "#from collections import defaultdict \n",
    "#aggregating twitter data by party affiliation\n",
    "party_list = []\n",
    "for name, group in politicians_df.groupby(['affiliation']):\n",
    "    party_list.append({'party':name,'labels':[],'values':[]})\n",
    "\n",
    "def search(party, party_list):\n",
    "    for element in party_list:\n",
    "        if element['party'] == party:\n",
    "            return dict(element)\n",
    "\n",
    "for index, row in politicians_df.iterrows():\n",
    "    if row['tw_ids'] is not None:\n",
    "        tw = smm.api.tweets_by(twitter_user_id=row['tw_ids'][0], aggregate_by='month')\n",
    "        for i, date in enumerate(tw['labels'], 0):\n",
    "            if date in search(row['affiliation'], party_list)['labels']:\n",
    "                curr_i = search(row['affiliation'], party_list)['labels'].index(date)\n",
    "                search(row['affiliation'], party_list)['values'][curr_i] += tw['values'][i]\n",
    "            else:\n",
    "                search(row['affiliation'], party_list)['labels'].append(date)\n",
    "                search(row['affiliation'], party_list)['values'].append(tw['values'][i])"
   ]
  },
  {
   "cell_type": "code",
   "execution_count": null,
   "metadata": {},
   "outputs": [],
   "source": [
    "#plotting data\n",
    "import plotly\n",
    "from plotly import graph_objs\n",
    "trace=[]\n",
    "for element in party_list:\n",
    "    dates = element['labels']\n",
    "    values = element['values']\n",
    "    data = sorted(zip(dates,values))\n",
    "    x, y = zip(*data)\n",
    "    trace.append(graph_objs.Scatter(x=x, y=y, mode='lines+markers', name=element['party']))\n",
    "\n",
    "layout = graph_objs.Layout(hovermode='closest', xaxis=dict(title='Date'), yaxis=dict(title='Tweets'),showlegend=True)\n",
    "\n",
    "plotly.offline.init_notebook_mode(connected=True)\n",
    "plotly.offline.iplot({\"data\": trace, \"layout\": layout})"
   ]
  }
 ],
 "metadata": {
  "kernelspec": {
   "display_name": "Python 3",
   "language": "python",
   "name": "python3"
  },
  "language_info": {
   "codemirror_mode": {
    "name": "ipython",
    "version": 3
   },
   "file_extension": ".py",
   "mimetype": "text/x-python",
   "name": "python",
   "nbconvert_exporter": "python",
   "pygments_lexer": "ipython3",
   "version": "3.6.7"
  }
 },
 "nbformat": 4,
 "nbformat_minor": 2
}
