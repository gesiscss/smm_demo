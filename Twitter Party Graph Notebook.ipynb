{
 "cells": [
  {
   "cell_type": "markdown",
   "metadata": {},
   "source": [
    "# Social Media Monitoring\n",
    "\n",
    "\n",
    "The following table contains data on the politicians and their associated social acounts"
   ]
  },
  {
   "cell_type": "code",
   "execution_count": null,
   "metadata": {},
   "outputs": [],
   "source": [
    "from bokeh.io import output_notebook, show\n",
    "from bokeh.plotting import figure\n",
    "output_notebook()\n",
    "from datetime import datetime\n",
    "import os\n",
    "from smm_wrapper import SMM\n",
    "import qgrid\n",
    "smm = SMM()\n",
    "\n",
    "politicians_df = smm.dv.politicians_df()\n",
    "qgrid_widget = qgrid.show_grid(politicians_df)\n",
    "qgrid_widget"
   ]
  },
  {
   "cell_type": "code",
   "execution_count": null,
   "metadata": {},
   "outputs": [],
   "source": [
    "from collections import defaultdict \n",
    "party_list = []\n",
    "for name, group in politicians_df.groupby(['affiliation']):\n",
    "    party_list.append({'party':name,'labels':[],'values':[]})\n",
    "#print(party_list)"
   ]
  },
  {
   "cell_type": "code",
   "execution_count": null,
   "metadata": {},
   "outputs": [],
   "source": [
    "def search(party, party_list):\n",
    "    for element in party_list:\n",
    "        if element['party'] == party:\n",
    "            return dict(element)\n",
    "\n",
    "for index, row in politicians_df.iterrows():\n",
    "    if row['tw_ids'] is not None:\n",
    "        tw = smm.api.tweets_by(twitter_user_id=row['tw_ids'][0], aggregate_by='month')\n",
    "        for i, date in enumerate(tw['labels'], 0):\n",
    "            if date in search(row['affiliation'], party_list)['labels']:\n",
    "                curr_i = search(row['affiliation'], party_list)['labels'].index(date)\n",
    "                search(row['affiliation'], party_list)['values'][curr_i] += tw['values'][i]\n",
    "            else:\n",
    "                search(row['affiliation'], party_list)['labels'].append(date)\n",
    "                search(row['affiliation'], party_list)['values'].append(tw['values'][i])\n",
    "\n",
    "#print(party_list)"
   ]
  },
  {
   "cell_type": "code",
   "execution_count": null,
   "metadata": {},
   "outputs": [],
   "source": [
    "from datetime import datetime\n",
    "for element in party_list:\n",
    "    dates = element['labels']\n",
    "    values = element['values']\n",
    "    dates = [datetime.strptime(item, '%Y-%m-%d') for item in dates]\n",
    "    print(sorted(zip(dates,values)))\n",
    "    \n"
   ]
  },
  {
   "cell_type": "code",
   "execution_count": null,
   "metadata": {},
   "outputs": [],
   "source": [
    "#fix an error\n",
    "\n",
    "import plotly\n",
    "from plotly import graph_objs\n",
    "dates = party_list[0]['labels']\n",
    "values = party_list[0]['values']\n",
    "data = sorted(zip(dates,values))\n",
    "trace1 = [\n",
    "    graph_objs.Scatter(\n",
    "            data,\n",
    "            mode='lines+markers', name=party_list[0]['party'],\n",
    "            marker=dict(color='blue')\n",
    "        )\n",
    "    \n",
    "]\n",
    "\n",
    "layout = graph_objs.Layout(hovermode='closest',\n",
    "                                   xaxis=dict(title='Date', ticklen=5,\n",
    "                                              zeroline=True, gridwidth=2),\n",
    "                                   yaxis=dict(title='Tweets',\n",
    "                                              ticklen=5, gridwidth=2),\n",
    "                                   legend=dict(x=0.5, y=1.2),\n",
    "                                   showlegend=True)\n",
    "\n",
    "data = trace1\n",
    "\n",
    "plotly.offline.init_notebook_mode(connected=True)\n",
    "plotly.offline.iplot({\"data\": data, \"layout\": layout})"
   ]
  }
 ],
 "metadata": {
  "kernelspec": {
   "display_name": "Python 3",
   "language": "python",
   "name": "python3"
  },
  "language_info": {
   "codemirror_mode": {
    "name": "ipython",
    "version": 3
   },
   "file_extension": ".py",
   "mimetype": "text/x-python",
   "name": "python",
   "nbconvert_exporter": "python",
   "pygments_lexer": "ipython3",
   "version": "3.6.7"
  }
 },
 "nbformat": 4,
 "nbformat_minor": 2
}
