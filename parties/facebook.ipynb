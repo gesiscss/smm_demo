{
 "cells": [
  {
   "cell_type": "markdown",
   "metadata": {},
   "source": [
    "# Social Media Monitoring\n",
    "\n",
    "## Politician List\n",
    "\n",
    "\n",
    "The following table contains data on the politicians and their associated social acounts"
   ]
  },
  {
   "cell_type": "code",
   "execution_count": null,
   "metadata": {},
   "outputs": [],
   "source": [
    "import qgrid\n",
    "from smm_wrapper import SMM\n",
    "qgrid.set_grid_option('maxVisibleRows', 5)\n",
    "\n",
    "# Create an instance to the smm wrapper\n",
    "smm = SMM()\n",
    "\n",
    "# Request the politicians from the API\n",
    "df = smm.dv.get_politicians()\n",
    "\n",
    "# Show the result\n",
    "qgrid.show_grid(df)"
   ]
  },
  {
   "cell_type": "markdown",
   "metadata": {},
   "source": [
    "## Instructions\n",
    "\n",
    "Please choose an `affiliation` party from the table above and enter its name in the field below:"
   ]
  },
  {
   "cell_type": "code",
   "execution_count": null,
   "metadata": {},
   "outputs": [],
   "source": [
    "party = 'CSU'\n",
    "aggregation = 'month' #aggregation can be by day ('day'), week ('week') or month('month')"
   ]
  },
  {
   "cell_type": "code",
   "execution_count": null,
   "metadata": {},
   "outputs": [],
   "source": [
    "#aggregating posts and comments by party affiliation\n",
    "party_fb = {'party':party,'labels':[],'values':[], 'replies':[], 'shares':[], 'reactions':[], 'likes':[],\n",
    "                'comments':[], 'com_replies':[], 'com_likes':[]}\n",
    "fb = []\n",
    "fb_com = []  \n",
    "for index, row in df.iterrows():\n",
    "    if row['fb_ids'] is not None and row['affiliation'] == party:\n",
    "        fb.append(smm.api.posts_by(facebook_user_id=row['fb_ids'][0], aggregate_by=aggregation))\n",
    "        fb_com.append(smm.api.comments_by(facebook_user_id=row['fb_ids'][0], aggregate_by=aggregation))"
   ]
  },
  {
   "cell_type": "code",
   "execution_count": null,
   "metadata": {},
   "outputs": [],
   "source": [
    "for element in fb:\n",
    "    [element.pop(key) for key in ['response_type','aggregated_by']]\n",
    "    for date in element['labels']:\n",
    "        if date in party_fb['labels']:\n",
    "            curr_i_fb = party_fb['labels'].index(date)\n",
    "            curr_i_el = element['labels'].index(date)\n",
    "            for i,v in element.items():\n",
    "                if i == 'labels':\n",
    "                    continue\n",
    "                else:\n",
    "                    party_fb[i][curr_i_fb] += v[curr_i_el]\n",
    "                if i=='likes': break\n",
    "        else:\n",
    "            curr_i = element['labels'].index(date)\n",
    "            for i,v in element.items():\n",
    "                party_fb[i].append(v[curr_i])"
   ]
  },
  {
   "cell_type": "code",
   "execution_count": null,
   "metadata": {},
   "outputs": [],
   "source": [
    "#SORTING\n",
    "import plotly\n",
    "from plotly import graph_objs as go\n",
    "plotly.offline.init_notebook_mode(connected=True)\n",
    "\n",
    "#plot for fb posts\n",
    "plotly.offline.iplot({\n",
    "    \"data\": [go.Scatter(x=party_fb['labels'], y=party_fb['values'], name='Posts'), \n",
    "             go.Scatter(x=party_fb['labels'], y=party_fb['replies'], name='Replies'),\n",
    "            go.Scatter(x=party_fb['labels'], y=party_fb['shares'], name='Shares'),\n",
    "            go.Scatter(x=party_fb['labels'], y=party_fb['reactions'], name='Reactions'),\n",
    "            go.Scatter(x=party_fb['labels'], y=party_fb['likes'], name='Likes')], \n",
    "    \"layout\": go.Layout(hovermode='closest', title='Facebook posts', xaxis={'title':'Date'}, yaxis={'title':'N'})\n",
    "})\n",
    "#plot for fb comments\n",
    "#plotly.offline.iplot({\n",
    "    #\"data\": [go.Scatter(x=comments['labels'], y=comments['values'], name='Comments'), \n",
    "             #go.Scatter(x=comments['labels'], y=comments['replies'], name='Replies'),\n",
    "            #go.Scatter(x=comments['labels'], y=comments['likes'], name='Likes')], \n",
    "    #\"layout\": go.Layout(hovermode='closest', title='Facebook comments', xaxis={'title':'Date'}, yaxis={'title':'N'})\n",
    "#})"
   ]
  }
 ],
 "metadata": {
  "kernelspec": {
   "display_name": "Python 3",
   "language": "python",
   "name": "python3"
  },
  "language_info": {
   "codemirror_mode": {
    "name": "ipython",
    "version": 3
   },
   "file_extension": ".py",
   "mimetype": "text/x-python",
   "name": "python",
   "nbconvert_exporter": "python",
   "pygments_lexer": "ipython3",
   "version": "3.7.3"
  }
 },
 "nbformat": 4,
 "nbformat_minor": 2
}
