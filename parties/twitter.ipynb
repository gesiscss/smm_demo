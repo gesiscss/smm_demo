{
 "cells": [
  {
   "cell_type": "markdown",
   "metadata": {},
   "source": [
    "# Social Media Monitoring\n",
    "\n",
    "## Politician List\n",
    "\n",
    "\n",
    "The following table contains data on the politicians and their associated social acounts"
   ]
  },
  {
   "cell_type": "code",
   "execution_count": null,
   "metadata": {},
   "outputs": [],
   "source": [
    "import qgrid\n",
    "from smm_wrapper import SMM\n",
    "qgrid.set_grid_option('maxVisibleRows', 5)\n",
    "\n",
    "# Create an instance to the smm wrapper\n",
    "smm = SMM()\n",
    "\n",
    "# Request the politicians from the API\n",
    "df = smm.dv.politicians_df()\n",
    "\n",
    "# Show the result\n",
    "qgrid.show_grid(df)"
   ]
  },
  {
   "cell_type": "markdown",
   "metadata": {},
   "source": [
    "## Instructions\n",
    "\n",
    "Please choose an `affiliation` party from the table above and enter its name in the field below:"
   ]
  },
  {
   "cell_type": "code",
   "execution_count": null,
   "metadata": {},
   "outputs": [],
   "source": [
    "party = 'AfD'\n",
    "aggregation = 'month' #aggregation can be by day ('day'), week ('week') or month('month')"
   ]
  },
  {
   "cell_type": "code",
   "execution_count": null,
   "metadata": {},
   "outputs": [],
   "source": [
    "#aggregating tweets and replies by party affiliation\n",
    "party_tweets = {'party':party,'date':[],'tweets':[], 'replies':[]}\n",
    "\n",
    "for index, row in politicians_df.iterrows():\n",
    "    if row['tw_ids'] is not None and row['affiliation'] == party:\n",
    "        tw = smm.api.tweets_by(twitter_user_id=row['tw_ids'][0], aggregate_by=aggregation)\n",
    "        tw_rep = smm.api.reply_to(twitter_user_id=row['tw_ids'][0], aggregate_by=aggregation)\n",
    "        for i, date in enumerate(tw['labels'], 0):\n",
    "            if date in party_data['date']:\n",
    "                party_data['tweets'][party_data['date'].index(date)] += tw['values'][i]\n",
    "            else:\n",
    "                party_data['date'].append(date)\n",
    "                party_data['tweets'].append(tw['values'][i])\n",
    "                party_data['replies'].append(0)\n",
    "        for i, date in enumerate(tw_rep['labels'], 0):\n",
    "            if date in party_data['date']:\n",
    "                party_data['replies'][party_data['date'].index(date)] += tw_rep['values'][i]\n",
    "            else:\n",
    "                party_data['date'].append(date)\n",
    "                party_data['replies'].append(tw_rep['values'][i])"
   ]
  },
  {
   "cell_type": "markdown",
   "metadata": {},
   "source": [
    "## Plotting"
   ]
  },
  {
   "cell_type": "code",
   "execution_count": null,
   "metadata": {},
   "outputs": [],
   "source": [
    "#plotting data\n",
    "import plotly\n",
    "from plotly import graph_objs as go\n",
    "plotly.offline.init_notebook_mode(connected=True)\n",
    "\n",
    "data = sorted(zip(party_data['date'],element['tweets']))\n",
    "data_rep = sorted(zip(party_data['date'],element['replies']))\n",
    "x_tw, y_tw = zip(*data)\n",
    "x_rep, y_rep = zip(*data_rep)\n",
    "\n",
    "plotly.offline.iplot({\n",
    "    \"data\": [go.Scatter(x=x_tw, y=y_tw, name='Tweets'), \n",
    "             go.Scatter(x=x_rep, y=y_rep, name='Replies')], \n",
    "    \"layout\": go.Layout(hovermode='closest', xaxis={'title':'Date'}, yaxis={'title':'N'})\n",
    "})"
   ]
  }
 ],
 "metadata": {
  "kernelspec": {
   "display_name": "Python 3",
   "language": "python",
   "name": "python3"
  },
  "language_info": {
   "codemirror_mode": {
    "name": "ipython",
    "version": 3
   },
   "file_extension": ".py",
   "mimetype": "text/x-python",
   "name": "python",
   "nbconvert_exporter": "python",
   "pygments_lexer": "ipython3",
   "version": "3.7.3"
  }
 },
 "nbformat": 4,
 "nbformat_minor": 2
}
