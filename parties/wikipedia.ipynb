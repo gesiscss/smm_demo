{
 "cells": [
  {
   "cell_type": "markdown",
   "metadata": {},
   "source": [
    "# Social Media Monitoring\n",
    "\n",
    "## Politician List\n",
    "\n",
    "\n",
    "The following table contains data on the politicians and their associated social acounts"
   ]
  },
  {
   "cell_type": "code",
   "execution_count": null,
   "metadata": {},
   "outputs": [],
   "source": [
    "import qgrid\n",
    "from smm_wrapper import SMM\n",
    "qgrid.set_grid_option('maxVisibleRows', 5)\n",
    "\n",
    "# Create an instance to the smm wrapper\n",
    "smm = SMM()\n",
    "\n",
    "# Request the politicians from the API\n",
    "df = smm.dv.get_politicians()\n",
    "\n",
    "# Show the result\n",
    "qgrid.show_grid(df)"
   ]
  },
  {
   "cell_type": "markdown",
   "metadata": {},
   "source": [
    "## Instructions\n",
    "\n",
    "Please choose an `affiliation` party from the table above and enter its name in the field below:"
   ]
  },
  {
   "cell_type": "code",
   "execution_count": null,
   "metadata": {},
   "outputs": [],
   "source": [
    "party = 'AfD'\n",
    "aggregation = 'month' #aggregation can be by day ('day'), week ('week') or month('month')"
   ]
  },
  {
   "cell_type": "code",
   "execution_count": null,
   "metadata": {},
   "outputs": [],
   "source": [
    "import pandas as pd\n",
    "\n",
    "# Filter the accounts by party, and valid ones (the ones that contain wp_ids)\n",
    "party_df = df[(df['affiliation']==party) & (df['wp_ids'].notnull())] \n",
    "\n",
    "# query the Social Media Monitoring API\n",
    "wiki_chobs = pd.concat(smm.dv.wikipedia(wikipedia_page_id=wp_id, aggregate_by=aggregation) \n",
    "               for wp_ids in party_df['wp_ids'] for wp_id in wp_ids)        \n",
    "\n",
    "# aggregate the wikipedia chobs\n",
    "total_wiki_chobs = wiki_chobs.groupby('date').agg({'chobs': 'sum'})"
   ]
  },
  {
   "cell_type": "markdown",
   "metadata": {},
   "source": [
    "## Plotting"
   ]
  },
  {
   "cell_type": "code",
   "execution_count": null,
   "metadata": {},
   "outputs": [],
   "source": [
    "#plotting data\n",
    "import plotly\n",
    "from plotly import graph_objs as go\n",
    "plotly.offline.init_notebook_mode(connected=True)\n",
    "\n",
    "plotly.offline.iplot({\n",
    "    \"data\": [go.Scatter(x=total_wiki_chobs.index.tolist(), y=total_wiki_chobs['chobs'], name='Change objects')],  \n",
    "    \"layout\": go.Layout(hovermode='closest', title='Wikipedia change objects for {} party'.format(party), xaxis={'title':'Date'}, yaxis={'title':'N'})\n",
    "             })"
   ]
  },
  {
   "cell_type": "code",
   "execution_count": null,
   "metadata": {},
   "outputs": [],
   "source": []
  }
 ],
 "metadata": {
  "kernelspec": {
   "display_name": "Python 3",
   "language": "python",
   "name": "python3"
  },
  "language_info": {
   "codemirror_mode": {
    "name": "ipython",
    "version": 3
   },
   "file_extension": ".py",
   "mimetype": "text/x-python",
   "name": "python",
   "nbconvert_exporter": "python",
   "pygments_lexer": "ipython3",
   "version": "3.6.7"
  }
 },
 "nbformat": 4,
 "nbformat_minor": 2
}
