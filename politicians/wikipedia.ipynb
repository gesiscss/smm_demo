{
 "cells": [
  {
   "cell_type": "markdown",
   "metadata": {},
   "source": [
    "# Social Media Monitoring\n",
    "\n",
    "\n",
    "The following table contains data on the politicians and their associated social acounts"
   ]
  },
  {
   "cell_type": "code",
   "execution_count": null,
   "metadata": {},
   "outputs": [],
   "source": [
    "from bokeh.io import output_notebook, show\n",
    "from bokeh.plotting import figure\n",
    "output_notebook()\n",
    "from datetime import datetime\n",
    "import os\n",
    "from smm_wrapper import SMM\n",
    "import qgrid\n",
    "smm = SMM()\n",
    "\n",
    "politicians_df = smm.dv.politicians_df()\n",
    "qgrid_widget = qgrid.show_grid(politicians_df)\n",
    "qgrid_widget"
   ]
  },
  {
   "cell_type": "markdown",
   "metadata": {},
   "source": [
    "Please choose the politician from the table above and input the politician_id in the field below:"
   ]
  },
  {
   "cell_type": "code",
   "execution_count": null,
   "metadata": {},
   "outputs": [],
   "source": [
    "politician_id = 1\n",
    "aggregation = 'month' #aggregation can be by day ('day'), week ('week') or month('month')"
   ]
  },
  {
   "cell_type": "code",
   "execution_count": null,
   "metadata": {},
   "outputs": [],
   "source": [
    "from wikiwho_wrapper import WikiWho\n",
    "ww = WikiWho(lng='en')"
   ]
  },
  {
   "cell_type": "code",
   "execution_count": null,
   "metadata": {},
   "outputs": [],
   "source": [
    "import plotly\n",
    "from plotly import graph_objs\n",
    "trace1 = [\n",
    "    graph_objs.Scatter(\n",
    "            x=posts['labels'], y=posts['values'],\n",
    "            mode='lines+markers', name='Facebook posts',\n",
    "            marker=dict(color='blue')\n",
    "        )]\n",
    "trace2 = [\n",
    "    graph_objs.Scatter(\n",
    "            x=comments['labels'], y=comments['values'],\n",
    "            mode='lines+markers', name='Facebook comments',\n",
    "            marker=dict(color='green')\n",
    "        )]\n",
    "\n",
    "layout = graph_objs.Layout(hovermode='closest',\n",
    "                                   xaxis=dict(title='Date', ticklen=5,\n",
    "                                              zeroline=True, gridwidth=2),\n",
    "                                   yaxis=dict(title='Aggregated number',\n",
    "                                              ticklen=5, gridwidth=2),\n",
    "                                   legend=dict(x=0.5, y=1.2),\n",
    "                                   showlegend=True)\n",
    "\n",
    "data = trace1\n",
    "data_c = trace2\n",
    "\n",
    "plotly.offline.init_notebook_mode(connected=True)\n",
    "plotly.offline.iplot({\"data\": data, \"layout\": layout})\n",
    "plotly.offline.iplot({\"data\": data_c, \"layout\": layout})"
   ]
  }
 ],
 "metadata": {
  "kernelspec": {
   "display_name": "Python 3",
   "language": "python",
   "name": "python3"
  },
  "language_info": {
   "codemirror_mode": {
    "name": "ipython",
    "version": 3
   },
   "file_extension": ".py",
   "mimetype": "text/x-python",
   "name": "python",
   "nbconvert_exporter": "python",
   "pygments_lexer": "ipython3",
   "version": "3.7.3"
  }
 },
 "nbformat": 4,
 "nbformat_minor": 2
}
