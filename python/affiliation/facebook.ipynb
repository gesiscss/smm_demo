{
 "cells": [
  {
   "cell_type": "markdown",
   "metadata": {},
   "source": [
    "# Social Media Monitoring\n",
    "\n",
    "## Politician List\n",
    "\n",
    "\n",
    "The following table contains data on the politicians and their associated social acounts"
   ]
  },
  {
   "cell_type": "code",
   "execution_count": null,
   "metadata": {},
   "outputs": [],
   "source": [
    "import qgrid\n",
    "from smm_wrapper import SMMPoliticians\n",
    "qgrid.set_grid_option('maxVisibleRows', 5)\n",
    "\n",
    "# Create an instance to the smm wrapper\n",
    "smm = SMMPoliticians()\n",
    "\n",
    "# Request the politicians from the API\n",
    "df = smm.dv.get_politicians()\n",
    "\n",
    "# Show the result\n",
    "qgrid.show_grid(df)"
   ]
  },
  {
   "cell_type": "markdown",
   "metadata": {},
   "source": [
    "## Instructions\n",
    "\n",
    "Please choose an `affiliation` party from the table above and enter its name in the field below:"
   ]
  },
  {
   "cell_type": "code",
   "execution_count": null,
   "metadata": {},
   "outputs": [],
   "source": [
    "party = 'AfD'\n",
    "aggregation = 'month' #aggregation can be by day ('day'), week ('week') or month('month')"
   ]
  },
  {
   "cell_type": "code",
   "execution_count": null,
   "metadata": {},
   "outputs": [],
   "source": [
    "import pandas as pd\n",
    "\n",
    "# Filter the accounts by party, and valid ones (the ones that contain fb_ids)\n",
    "party_df = df[(df['affiliation']==party) & (df['fb_ids'].notnull())] \n",
    "\n",
    "# query the Social Media Monitoring API\n",
    "posts_by = pd.concat(smm.dv.posts_by(facebook_user_id=fb_id, from_date='2017-09-01', to_date='2018-12-31', aggregate_by=aggregation) \n",
    "               for fb_ids in party_df['fb_ids'] for fb_id in fb_ids)        \n",
    "comments_by = pd.concat(smm.dv.comments_by(facebook_user_id=fb_id, from_date='2017-09-01', to_date='2018-12-31', aggregate_by=aggregation) \n",
    "               for fb_ids in party_df['fb_ids'] for fb_id in fb_ids) \n",
    "\n",
    "# aggregate the posts\n",
    "total_posts_by = posts_by.groupby('date').agg(\n",
    "    {\n",
    "        'posts': sum,\n",
    "        'replies': sum, \n",
    "        'shares': sum,\n",
    "        'reactions': sum,\n",
    "        'likes': sum\n",
    "    })\n",
    "# aggregate the comments\n",
    "total_comments_by = comments_by.groupby('date').agg(\n",
    "    {\n",
    "        'comments': sum,\n",
    "        'replies': sum,\n",
    "        'likes': sum\n",
    "    })"
   ]
  },
  {
   "cell_type": "markdown",
   "metadata": {},
   "source": [
    "## Plotting"
   ]
  },
  {
   "cell_type": "code",
   "execution_count": null,
   "metadata": {},
   "outputs": [],
   "source": [
    "import plotly\n",
    "from plotly import graph_objs as go\n",
    "plotly.offline.init_notebook_mode(connected=True)\n",
    "\n",
    "#plot for fb posts\n",
    "plotly.offline.iplot({\n",
    "    \"data\": [go.Scatter(x=total_posts_by.index.tolist(), y=total_posts_by['posts'], name='Posts'), \n",
    "             go.Scatter(x=total_posts_by.index.tolist(), y=total_posts_by['replies'], name='Replies'),\n",
    "            go.Scatter(x=total_posts_by.index.tolist(), y=total_posts_by['shares'], name='Shares'),\n",
    "            go.Scatter(x=total_posts_by.index.tolist(), y=total_posts_by['reactions'], name='Reactions'),\n",
    "            go.Scatter(x=total_posts_by.index.tolist(), y=total_posts_by['likes'], name='Likes')], \n",
    "    \"layout\": go.Layout(title='Facebook posts for {} party'.format(party), \n",
    "                        xaxis={'title':''}, yaxis={'title':'Posts'})\n",
    "})\n",
    "#plot for fb comments\n",
    "plotly.offline.iplot({\n",
    "    \"data\": [go.Scatter(x=total_comments_by.index.tolist(), y=total_comments_by['comments'], name='Comments'), \n",
    "             go.Scatter(x=total_comments_by.index.tolist(), y=total_comments_by['replies'], name='Replies'),\n",
    "            go.Scatter(x=total_comments_by.index.tolist(), y=total_comments_by['likes'], name='Likes')], \n",
    "    \"layout\": go.Layout(title='Facebook comments for {} party'.format(party), \n",
    "                        xaxis={ 'title':''}, yaxis={'title':'Comments'})\n",
    "})"
   ]
  }
 ],
 "metadata": {
  "kernelspec": {
   "display_name": "Python 3",
   "language": "python",
   "name": "python3"
  },
  "language_info": {
   "codemirror_mode": {
    "name": "ipython",
    "version": 3
   },
   "file_extension": ".py",
   "mimetype": "text/x-python",
   "name": "python",
   "nbconvert_exporter": "python",
   "pygments_lexer": "ipython3",
   "version": "3.7.3"
  }
 },
 "nbformat": 4,
 "nbformat_minor": 2
}
