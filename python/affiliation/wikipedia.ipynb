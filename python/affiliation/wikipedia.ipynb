{
 "cells": [
  {
   "cell_type": "code",
   "execution_count": null,
   "metadata": {},
   "outputs": [],
   "source": [
    "# Parameters: \n",
    "party = 'AfD'\n",
    "aggregation = 'week' # aggregation can be by day ('day'), week ('week') or month('month')\n",
    "from_date='2017-09-01'\n",
    "to_date='2018-12-31'"
   ]
  },
  {
   "cell_type": "markdown",
   "metadata": {},
   "source": [
    "## Using API"
   ]
  },
  {
   "cell_type": "code",
   "execution_count": null,
   "metadata": {},
   "outputs": [],
   "source": [
    "import pandas as pd\n",
    "from smm_wrapper import SMMPoliticians\n",
    "from wikiwho_wrapper import WikiWho\n",
    "\n",
    "# Create an instance to the smm wrapper\n",
    "smm = SMMPoliticians()\n",
    "\n",
    "#using the api to get the data\n",
    "df = smm.dv.get_politicians()\n",
    "\n",
    "# Filter the accounts by party, and valid ones (the ones that contain wp_ids)\n",
    "party_df = df[(df['affiliation']==party) & (df['wp_ids'].notnull())] \n",
    "\n",
    "# query the Social Media Monitoring API\n",
    "wiki_chobs = pd.concat(smm.dv.wikipedia(wikipedia_page_id=wp_id, from_date=from_date, to_date=to_date, aggregate_by=aggregation) \n",
    "               for wp_ids in party_df['wp_ids'] for wp_id in wp_ids) \n",
    "\n",
    "#using wikiwho to extract conflicts and revisions\n",
    "ww = WikiWho(lng='de')\n",
    "wiki_data = pd.concat(ww.dv.edit_persistence(page_id=wp_id) for wp_ids in party_df['wp_ids'] for wp_id in wp_ids )\n",
    "wiki_data['undos'] = wiki_data['dels'] + wiki_data['reins']\n",
    "wiki_data = wiki_data[['year_month','conflicts','revisions', 'undos']]\n",
    "\n",
    "# aggregate the wikipedia chobs\n",
    "total_wiki_chobs = wiki_chobs.groupby('date').agg({'chobs': 'sum'}).reset_index()"
   ]
  },
  {
   "cell_type": "code",
   "execution_count": null,
   "metadata": {},
   "outputs": [],
   "source": [
    "#aggregating the data from wikiwho and grouping it together with chobs\n",
    "wiki_data = wiki_data.groupby('year_month').agg(\n",
    "    {\n",
    "        'conflicts': 'sum',\n",
    "        'revisions': 'sum',\n",
    "        'undos': 'sum'\n",
    "    }).reset_index()\n",
    "wiki_total = pd.merge(total_wiki_chobs, wiki_data, left_on=total_wiki_chobs['date'], right_on=pd.to_datetime(wiki_data['year_month'])).reset_index()"
   ]
  },
  {
   "cell_type": "markdown",
   "metadata": {},
   "source": [
    "## Plotting"
   ]
  },
  {
   "cell_type": "code",
   "execution_count": null,
   "metadata": {},
   "outputs": [],
   "source": [
    "import plotly\n",
    "from plotly import graph_objs as go\n",
    "plotly.offline.init_notebook_mode(connected=True)\n",
    "\n",
    "plotly.offline.iplot({\n",
    "    \"data\": [go.Scatter(x=wiki_total['date'], y=wiki_total['chobs'], name='Change objects', line_shape='spline'),\n",
    "            go.Scatter(x=wiki_total['date'], y=wiki_total['revisions'], name='Revisions', line_shape='spline')], \n",
    "    \"layout\": go.Layout( title='Wikipedia Activity', xaxis={'title':'Date'}, yaxis={'title':'Revisions and Change Objects'}, showlegend=True)\n",
    "})\n",
    "\n",
    "plotly.offline.iplot({\n",
    "    \"data\": [go.Scatter(x=wiki_total['date'], y=wiki_total['undos'], name='Undos', line_shape='spline'),\n",
    "            go.Scatter(x=wiki_total['date'], y=wiki_total['conflicts'], name='Conflicts', line_shape='spline')], \n",
    "    \"layout\": go.Layout( title='Wikipedia Conflicts', xaxis={'title':'Date'}, yaxis={'title':'Undos and Conflicts'}, showlegend=True)\n",
    "})"
   ]
  }
 ],
 "metadata": {
  "kernelspec": {
   "display_name": "Python 3",
   "language": "python",
   "name": "python3"
  },
  "language_info": {
   "codemirror_mode": {
    "name": "ipython",
    "version": 3
   },
   "file_extension": ".py",
   "mimetype": "text/x-python",
   "name": "python",
   "nbconvert_exporter": "python",
   "pygments_lexer": "ipython3",
   "version": "3.7.3"
  }
 },
 "nbformat": 4,
 "nbformat_minor": 2
}
