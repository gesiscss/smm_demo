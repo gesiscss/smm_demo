{
 "cells": [
  {
   "cell_type": "code",
   "execution_count": null,
   "metadata": {},
   "outputs": [],
   "source": [
    "# Parameters: \n",
    "affiliation = 'AfD'\n",
    "aggregation = 'week' # aggregation can be by day ('day'), week ('week') or month('month')\n",
    "from_date='2017-09-01'\n",
    "to_date='2018-12-31'"
   ]
  },
  {
   "cell_type": "markdown",
   "metadata": {},
   "source": [
    "## using API"
   ]
  },
  {
   "cell_type": "code",
   "execution_count": null,
   "metadata": {},
   "outputs": [],
   "source": [
    "import pandas as pd\n",
    "from smm_wrapper import SMMPoliticians\n",
    "\n",
    "# Create an instance to the smm wrapper\n",
    "smm = SMMPoliticians()\n",
    "\n",
    "#using the api to get the data\n",
    "df = smm.dv.get_politicians()\n",
    "\n",
    "# Filter the accounts by party, and valid ones (the ones that contain tw_ids)\n",
    "party_df = df[(df['affiliation']==affiliation) & (df['tw_ids'].notnull())] \n",
    "\n",
    "# query the Social Media Monitoring API\n",
    "tweets_by = pd.concat(smm.dv.tweets_by(twitter_user_id=tw_id, from_date=from_date, to_date=to_date, aggregate_by=aggregation) \n",
    "               for tw_ids in party_df['tw_ids'] for tw_id in tw_ids)        \n",
    "replies_to = pd.concat(smm.dv.replies_to(twitter_user_id=tw_id, from_date=from_date, to_date=to_date, aggregate_by=aggregation) \n",
    "               for tw_ids in party_df['tw_ids'] for tw_id in tw_ids) \n",
    "\n",
    "# aggregate the replies\n",
    "total_tweets_by = tweets_by.groupby('date').agg({'tweets': 'sum'})\n",
    "total_replies_to = replies_to.groupby('date').agg({'replies': 'sum'})"
   ]
  },
  {
   "cell_type": "markdown",
   "metadata": {},
   "source": [
    "## Plotting"
   ]
  },
  {
   "cell_type": "code",
   "execution_count": null,
   "metadata": {},
   "outputs": [],
   "source": [
    "#plotting data\n",
    "import plotly\n",
    "from plotly import graph_objs as go\n",
    "plotly.offline.init_notebook_mode(connected=True)\n",
    "\n",
    "plotly.offline.iplot({\n",
    "    \"data\": [go.Scatter(x=total_tweets_by.index.tolist(), y=total_tweets_by['tweets'], name='Tweets', line_shape='spline'), \n",
    "             go.Scatter(x=total_replies_to.index.tolist(), y=total_replies_to['replies'], name='Replies', line_shape='spline')], \n",
    "    \"layout\": go.Layout( title='Tweets and replies for {} party'.format(affiliation), xaxis={'title':''}, yaxis={'title':'N'})\n",
    "})"
   ]
  }
 ],
 "metadata": {
  "kernelspec": {
   "display_name": "Python 3",
   "language": "python",
   "name": "python3"
  },
  "language_info": {
   "codemirror_mode": {
    "name": "ipython",
    "version": 3
   },
   "file_extension": ".py",
   "mimetype": "text/x-python",
   "name": "python",
   "nbconvert_exporter": "python",
   "pygments_lexer": "ipython3",
   "version": "3.7.3"
  }
 },
 "nbformat": 4,
 "nbformat_minor": 2
}
