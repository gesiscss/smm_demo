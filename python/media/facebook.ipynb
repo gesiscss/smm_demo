{
 "cells": [
  {
   "cell_type": "markdown",
   "metadata": {},
   "source": [
    "# Social Media Monitoring\n",
    "\n",
    "## Organization List\n",
    "\n",
    "\n",
    "The following table contains data on the organizations and their associated social acounts"
   ]
  },
  {
   "cell_type": "code",
   "execution_count": null,
   "metadata": {},
   "outputs": [],
   "source": [
    "import qgrid\n",
    "from smm_wrapper import SMMOrganizations\n",
    "qgrid.set_grid_option('maxVisibleRows', 5)\n",
    "\n",
    "# Create an instance to the smm wrapper\n",
    "smm = SMMOrganizations()\n",
    "\n",
    "# Request the politicians from the API\n",
    "df = smm.dv.get_organizations()\n",
    "df = df[(df['category']=='media')]\n",
    "# Show the result\n",
    "qgrid.show_grid(df)"
   ]
  },
  {
   "cell_type": "markdown",
   "metadata": {},
   "source": [
    "## Instructions\n",
    "\n",
    "Please choose an `subcategory`, which indicates a type of media, from the table above and enter its name in the field `category` below:"
   ]
  },
  {
   "cell_type": "code",
   "execution_count": null,
   "metadata": {},
   "outputs": [],
   "source": [
    "category = 'Newspaper'\n",
    "aggregation = 'month' #aggregation can be by day ('day'), week ('week') or month('month')"
   ]
  },
  {
   "cell_type": "code",
   "execution_count": null,
   "metadata": {},
   "outputs": [],
   "source": [
    "import pandas as pd\n",
    "\n",
    "# Filter the accounts by party, and valid ones (the ones that contain fb_ids)\n",
    "media_df = df[(df['subcategory'].str.contains(category)) & (df['fb_ids'].notnull())] \n",
    "media_df = media_df[(media_df['fb_ids'].str.len() == 1)]\n",
    "\n",
    "# make sure that accounts are not repeated, e.g. Die Zeit (Online) and Die Zeit (Allgemeine) could\n",
    "# share an account if facebook but not in twitter\n",
    "fbids = set(fb_id for fb_ids in media_df['fb_ids'] for fb_id in fb_ids)\n",
    "\n",
    "# query the Social Media Monitoring API\n",
    "posts_by = pd.concat(smm.dv.posts_by(facebook_user_id=fb_id, from_date='2017-09-01', to_date='2018-12-31', aggregate_by=aggregation) \n",
    "               for fb_id in fbids)        \n",
    "comments_by = pd.concat(smm.dv.comments_by(facebook_user_id=fb_id, from_date='2017-09-01', to_date='2018-12-31', aggregate_by=aggregation) \n",
    "               for fb_id in fbids) \n",
    "\n",
    "# aggregate the posts\n",
    "total_posts_by = posts_by.groupby('date').agg(\n",
    "    {\n",
    "        'posts': sum,\n",
    "        'replies': sum, \n",
    "        'shares': sum,\n",
    "        'reactions': sum,\n",
    "        'likes': sum\n",
    "    })\n",
    "# aggregate the comments\n",
    "total_comments_by = comments_by.groupby('date').agg(\n",
    "    {\n",
    "        'comments': sum,\n",
    "        'replies': sum,\n",
    "        'likes': sum\n",
    "    })"
   ]
  },
  {
   "cell_type": "code",
   "execution_count": null,
   "metadata": {},
   "outputs": [],
   "source": [
    "media_df.head()"
   ]
  },
  {
   "cell_type": "code",
   "execution_count": null,
   "metadata": {},
   "outputs": [],
   "source": [
    "mdf = media_df[media_df['fb_ids'].str.len() == 1].copy()\n",
    "mdf['fbid'] = mdf['fb_ids'].str[0]"
   ]
  },
  {
   "cell_type": "code",
   "execution_count": null,
   "metadata": {},
   "outputs": [],
   "source": [
    "mdf[mdf['fbid'].duplicated(False)]"
   ]
  },
  {
   "cell_type": "code",
   "execution_count": null,
   "metadata": {},
   "outputs": [],
   "source": []
  },
  {
   "cell_type": "markdown",
   "metadata": {},
   "source": [
    "## Plotting"
   ]
  },
  {
   "cell_type": "code",
   "execution_count": null,
   "metadata": {},
   "outputs": [],
   "source": [
    "import plotly\n",
    "from plotly import graph_objs as go\n",
    "plotly.offline.init_notebook_mode(connected=True)\n",
    "\n",
    "#plot for fb posts\n",
    "plotly.offline.iplot({\n",
    "    \"data\": [go.Scatter(x=total_posts_by.index.tolist(), y=total_posts_by['posts'], name='Posts'), \n",
    "             go.Scatter(x=total_posts_by.index.tolist(), y=total_posts_by['replies'], name='Replies'),\n",
    "            go.Scatter(x=total_posts_by.index.tolist(), y=total_posts_by['shares'], name='Shares'),\n",
    "            go.Scatter(x=total_posts_by.index.tolist(), y=total_posts_by['reactions'], name='Reactions'),\n",
    "            go.Scatter(x=total_posts_by.index.tolist(), y=total_posts_by['likes'], name='Likes')], \n",
    "    \"layout\": go.Layout(title='Facebook posts for {}'.format(category), xaxis={'title':''}, yaxis={'title':'N'})\n",
    "})\n",
    "#plot for fb comments\n",
    "plotly.offline.iplot({\n",
    "    \"data\": [go.Scatter(x=total_comments_by.index.tolist(), y=total_comments_by['comments'], name='Comments'), \n",
    "             go.Scatter(x=total_comments_by.index.tolist(), y=total_comments_by['replies'], name='Replies'),\n",
    "            go.Scatter(x=total_comments_by.index.tolist(), y=total_comments_by['likes'], name='Likes')], \n",
    "    \"layout\": go.Layout(title='Facebook comments for {}'.format(category), xaxis={'title':''}, yaxis={'title':'N'})\n",
    "})"
   ]
  },
  {
   "cell_type": "code",
   "execution_count": null,
   "metadata": {},
   "outputs": [],
   "source": [
    "total_posts_by.loc['2017-12-01']"
   ]
  },
  {
   "cell_type": "code",
   "execution_count": null,
   "metadata": {},
   "outputs": [],
   "source": []
  }
 ],
 "metadata": {
  "kernelspec": {
   "display_name": "Python 3",
   "language": "python",
   "name": "python3"
  },
  "language_info": {
   "codemirror_mode": {
    "name": "ipython",
    "version": 3
   },
   "file_extension": ".py",
   "mimetype": "text/x-python",
   "name": "python",
   "nbconvert_exporter": "python",
   "pygments_lexer": "ipython3",
   "version": "3.7.3"
  }
 },
 "nbformat": 4,
 "nbformat_minor": 2
}
