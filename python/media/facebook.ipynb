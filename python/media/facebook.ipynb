{
 "cells": [
  {
   "cell_type": "markdown",
   "metadata": {},
   "source": [
    "# Media Outlets Activity on Facebook aggregated by Media Type\n",
    "\n",
    "The parameters in the cell below can be adjusted to explore other media outlets and time frames.\n",
    "\n",
    "### How to explore other media types?\n",
    "The ***media*** parameter can be use to aggregate media outlets by their type. The column `subcategory` in this [this other notebook](../media.ipynb?autorun=true) show the media outlets that belong each type.\n",
    "\n",
    "***Alternatively***, you can direcly use the [organizations API](http://mediamonitoring.gesis.org/api/organizations/swagger/), or access it with the [SMM Wrapper](https://pypi.org/project/smm-wrapper/).\n",
    "\n",
    "## A. Set Up parameters"
   ]
  },
  {
   "cell_type": "code",
   "execution_count": null,
   "metadata": {},
   "outputs": [],
   "source": [
    "# Parameters: \n",
    "media = 'Individual'\n",
    "from_date = '2017-09-01'\n",
    "to_date = '2018-12-31'\n",
    "aggregation = 'week'"
   ]
  },
  {
   "cell_type": "markdown",
   "metadata": {},
   "source": [
    "## B. Using the SMM Organization API"
   ]
  },
  {
   "cell_type": "code",
   "execution_count": null,
   "metadata": {},
   "outputs": [],
   "source": [
    "import pandas as pd\n",
    "\n",
    "# Create an instance to the smm wrapper\n",
    "from smm_wrapper import SMMOrganizations\n",
    "smm = SMMOrganizations()\n",
    "\n",
    "#using the api to get the data\n",
    "df = smm.dv.get_organizations()\n",
    "df = df[(df['category']=='media')]\n",
    "\n",
    "# Filter the accounts by party, and valid ones (the ones that contain fb_ids)\n",
    "media_df = df[(df['subcategory'].str.contains(media)) & (df['fb_ids'].notnull())] \n",
    "\n",
    "# query the Social Media Monitoring API\n",
    "posts_by = pd.concat(smm.dv.posts_by(_id=politician_id, from_date=from_date, to_date=to_date, aggregate_by=aggregation) \n",
    "               for politician_id in media_df.index)\n",
    "comments_by = pd.concat(smm.dv.comments_by(_id=politician_id, from_date=from_date, to_date=to_date, aggregate_by=aggregation) \n",
    "               for politician_id in media_df.index)\n",
    "\n",
    "# aggregate posts and comments\n",
    "total_posts_by = posts_by.groupby('date')[\n",
    "    'posts', 'replies', 'shares', 'reactions', 'likes'].sum()\n",
    "total_comments_by = comments_by.groupby('date')[\n",
    "    'comments', 'replies', 'likes'].sum()     "
   ]
  },
  {
   "cell_type": "markdown",
   "metadata": {},
   "source": [
    "## C. Plotting\n",
    "### C.1 Plot Facebook Post Activity"
   ]
  },
  {
   "cell_type": "code",
   "execution_count": null,
   "metadata": {},
   "outputs": [],
   "source": [
    "import plotly\n",
    "from plotly import graph_objs as go\n",
    "plotly.offline.init_notebook_mode(connected=True)\n",
    "\n",
    "#plot for facebook posts activity\n",
    "plotly.offline.iplot({\n",
    "    \"data\": [go.Scatter(x=total_posts_by.index.tolist(), y=total_posts_by['posts'], name='Posts', line_shape='spline'), \n",
    "             go.Scatter(x=total_posts_by.index.tolist(), y=total_posts_by['replies'], name='Replies',line_shape='spline'),\n",
    "            go.Scatter(x=total_posts_by.index.tolist(), y=total_posts_by['shares'], name='Shares', line_shape='spline'),\n",
    "            go.Scatter(x=total_posts_by.index.tolist(), y=total_posts_by['reactions'], name='Reactions', line_shape='spline'),\n",
    "            go.Scatter(x=total_posts_by.index.tolist(), y=total_posts_by['likes'], name='Likes', line_shape='spline')], \n",
    "    \"layout\": go.Layout(title='Facebook posts for {}'.format(media), xaxis={'title':''}, yaxis={'title':'N'})\n",
    "})"
   ]
  },
  {
   "cell_type": "markdown",
   "metadata": {},
   "source": [
    "### C.2 Plot Facebook Comment Activity"
   ]
  },
  {
   "cell_type": "code",
   "execution_count": null,
   "metadata": {},
   "outputs": [],
   "source": [
    "# plot for facebook comments activity\n",
    "plotly.offline.iplot({\n",
    "    \"data\": [go.Scatter(x=total_comments_by.index.tolist(), y=total_comments_by['comments'], name='Comments', line_shape='spline'), \n",
    "             go.Scatter(x=total_comments_by.index.tolist(), y=total_comments_by['replies'], name='Replies', line_shape='spline'),\n",
    "            go.Scatter(x=total_comments_by.index.tolist(), y=total_comments_by['likes'], name='Likes', line_shape='spline')], \n",
    "    \"layout\": go.Layout(title='Facebook comments for {}'.format(media), xaxis={'title':''}, yaxis={'title':'N'})\n",
    "})"
   ]
  }
 ],
 "metadata": {
  "kernelspec": {
   "display_name": "Python 3",
   "language": "python",
   "name": "python3"
  },
  "language_info": {
   "codemirror_mode": {
    "name": "ipython",
    "version": 3
   },
   "file_extension": ".py",
   "mimetype": "text/x-python",
   "name": "python",
   "nbconvert_exporter": "python",
   "pygments_lexer": "ipython3",
   "version": "3.7.3"
  }
 },
 "nbformat": 4,
 "nbformat_minor": 2
}
