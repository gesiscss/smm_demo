{
 "cells": [
  {
   "cell_type": "markdown",
   "metadata": {},
   "source": [
    "# Social Media Monitoring\n",
    "\n",
    "## Organization List\n",
    "\n",
    "\n",
    "The following table contains data on the organizations and their associated social acounts"
   ]
  },
  {
   "cell_type": "code",
   "execution_count": null,
   "metadata": {},
   "outputs": [],
   "source": [
    "import qgrid\n",
    "from smm_wrapper import SMMOrganizations\n",
    "from wikiwho_wrapper import WikiWho\n",
    "qgrid.set_grid_option('maxVisibleRows', 5)\n",
    "\n",
    "# Create an instance to the smm wrapper\n",
    "smm = SMMOrganizations()\n",
    "\n",
    "# Request the politicians from the API\n",
    "df = smm.dv.get_organizations()\n",
    "df = df[(df['category']=='media')]\n",
    "# Show the result\n",
    "qgrid.show_grid(df)"
   ]
  },
  {
   "cell_type": "markdown",
   "metadata": {},
   "source": [
    "## Instructions\n",
    "\n",
    "Please choose an `subcategory`, which indicates a type of media, from the table above and enter its name in the field `category` below:"
   ]
  },
  {
   "cell_type": "code",
   "execution_count": null,
   "metadata": {},
   "outputs": [],
   "source": [
    "category = 'TV'\n",
    "aggregation = 'week' #aggregation can be by day ('day'), week ('week') or month('month')"
   ]
  },
  {
   "cell_type": "code",
   "execution_count": null,
   "metadata": {},
   "outputs": [],
   "source": [
    "import pandas as pd\n",
    "\n",
    "# Filter the accounts by party, and valid ones (the ones that contain wp_ids)\n",
    "media_df = df[(df['subcategory'].str.contains(category)) & (df['wp_ids'].notnull())] \n",
    "wp_ids = set(wp_id for wp_ids in media_df['wp_ids'] for wp_id in wp_ids)\n",
    "# query the Social Media Monitoring API\n",
    "wiki_chobs = pd.concat(smm.dv.wikipedia(wikipedia_page_id=wp_id, from_date='2017-09-01', to_date='2018-12-31', aggregate_by=aggregation) \n",
    "               for wp_ids in media_df['wp_ids'] for wp_id in wp_ids)\n",
    "\n",
    "#using wikiwho to extract conflicts and revisions\n",
    "ww = WikiWho(lng='de')\n",
    "wiki_data = pd.concat(ww.dv.edit_persistence(page_id=wp_id) for wp_ids in media_df['wp_ids'] for wp_id in wp_ids )\n",
    "wiki_data['undos'] = wiki_data['dels'] + wiki_data['reins']\n",
    "wiki_data = wiki_data[['year_week','conflicts','revisions', 'undos']]\n",
    "\n",
    "# aggregate the wikipedia chobs\n",
    "total_wiki_chobs = wiki_chobs.groupby('date').agg({'chobs': 'sum'}).reset_index()"
   ]
  },
  {
   "cell_type": "code",
   "execution_count": null,
   "metadata": {},
   "outputs": [],
   "source": [
    "wiki_data.columns"
   ]
  },
  {
   "cell_type": "code",
   "execution_count": null,
   "metadata": {},
   "outputs": [],
   "source": [
    "#aggregating the data from wikiwho and grouping it together with chobs\n",
    "wiki_data = wiki_data.groupby('year_week').agg(\n",
    "    {\n",
    "        'conflicts': 'sum',\n",
    "        'revisions': 'sum',\n",
    "        'undos': 'sum'\n",
    "    }).reset_index()\n",
    "wiki_total = pd.merge(total_wiki_chobs, wiki_data, left_on=total_wiki_chobs['date'], right_on=pd.to_datetime(wiki_data['year_week'])).reset_index()"
   ]
  },
  {
   "cell_type": "markdown",
   "metadata": {},
   "source": [
    "## Plotting"
   ]
  },
  {
   "cell_type": "code",
   "execution_count": null,
   "metadata": {},
   "outputs": [],
   "source": [
    "import plotly\n",
    "from plotly import graph_objs as go\n",
    "plotly.offline.init_notebook_mode(connected=True)\n",
    "\n",
    "plotly.offline.iplot({\n",
    "    \"data\": [go.Scatter(x=wiki_total['date'], y=wiki_total['chobs'], name='Change objects', line_shape='spline'),\n",
    "            go.Scatter(x=wiki_total['date'], y=wiki_total['revisions'], name='Revisions', line_shape='spline')], \n",
    "    \"layout\": go.Layout(title='Wikipedia Activity', xaxis={'title':''}, yaxis={'title':'Revisions and Change Objects'}, showlegend=True)\n",
    "})\n",
    "\n",
    "plotly.offline.iplot({\n",
    "    \"data\": [go.Scatter(x=wiki_total['date'], y=wiki_total['undos'], name='Undos', line_shape='spline'),\n",
    "            go.Scatter(x=wiki_total['date'], y=wiki_total['conflicts'], name='Conflicts', line_shape='spline')], \n",
    "    \"layout\": go.Layout(title='Wikipedia Conflict', xaxis={'title':''}, yaxis={'title':'Undos and conflicts'}, showlegend=True)\n",
    "})"
   ]
  }
 ],
 "metadata": {
  "kernelspec": {
   "display_name": "Python 3",
   "language": "python",
   "name": "python3"
  },
  "language_info": {
   "codemirror_mode": {
    "name": "ipython",
    "version": 3
   },
   "file_extension": ".py",
   "mimetype": "text/x-python",
   "name": "python",
   "nbconvert_exporter": "python",
   "pygments_lexer": "ipython3",
   "version": "3.7.3"
  }
 },
 "nbformat": 4,
 "nbformat_minor": 2
}
