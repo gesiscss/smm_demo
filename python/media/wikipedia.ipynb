{
 "cells": [
  {
   "cell_type": "markdown",
   "metadata": {},
   "source": [
    "# Media Outlets Activity on Wikipedia aggregated by Media Type\n",
    "\n",
    "The parameters in the cell below can be adjusted to explore other media outlets and time frames.\n",
    "\n",
    "### How to explore other media types?\n",
    "The ***media*** parameter can be use to aggregate media outlets by their type. The column `subcategory` in this [this other notebook](../media.ipynb?autorun=true) show the media outlets that belong each type.\n",
    "\n",
    "***Alternatively***, you can direcly use the [organizations API](http://mediamonitoring.gesis.org/api/organizations/swagger/), or access it with the [SMM Wrapper](https://pypi.org/project/smm-wrapper/)."
   ]
  },
  {
   "cell_type": "code",
   "execution_count": null,
   "metadata": {},
   "outputs": [],
   "source": [
    "# Parameters: \n",
    "media = 'TV'\n",
    "aggregation = 'week' # aggregation can be by day ('day'), week ('week') or month('month')\n",
    "from_date='2017-09-01'\n",
    "to_date='2018-12-31'"
   ]
  },
  {
   "cell_type": "markdown",
   "metadata": {},
   "source": [
    "## Using API"
   ]
  },
  {
   "cell_type": "code",
   "execution_count": null,
   "metadata": {},
   "outputs": [],
   "source": [
    "import pandas as pd\n",
    "from smm_wrapper import SMMOrganizations\n",
    "from wikiwho_wrapper import WikiWho\n",
    "\n",
    "# Create an instance to the smm wrapper\n",
    "smm = SMMOrganizations()\n",
    "\n",
    "# Request the politicians from the API\n",
    "df = smm.dv.get_organizations()\n",
    "df = df[(df['category']=='media')]\n",
    "\n",
    "# Filter the accounts by party, and valid ones (the ones that contain wp_ids)\n",
    "media_df = df[(df['subcategory'].str.contains(media)) & (df['wp_ids'].notnull())] \n",
    "wp_ids = set(wp_id for wp_ids in media_df['wp_ids'] for wp_id in wp_ids)\n",
    "# query the Social Media Monitoring API\n",
    "wiki_chobs = pd.concat(smm.dv.wikipedia(wikipedia_page_id=wp_id, from_date=from_date, to_date=to_date, aggregate_by=aggregation) \n",
    "               for wp_ids in media_df['wp_ids'] for wp_id in wp_ids)\n",
    "wiki_chobs = wiki_chobs.groupby('date').agg({'chobs': 'sum'}).reset_index()\n",
    "\n",
    "#using wikiwho to extract conflicts and revisions\n",
    "ww = WikiWho(lng='de')\n",
    "wiki_data = pd.concat(ww.dv.edit_persistence(page_id=wp_id, start=from_date, end=to_date) for wp_ids in media_df['wp_ids'] for wp_id in wp_ids )\n",
    "wiki_data['undos'] = wiki_data['dels'] + wiki_data['reins']\n",
    "wiki_data = wiki_data[['year_month','conflict', 'elegibles', 'revisions', 'undos']]\n",
    "wiki_data['date'] = pd.to_datetime(wiki_data['year_month'])\n",
    "wiki_data = wiki_data.groupby('date').agg({'conflict': 'sum','elegibles':'sum', 'revisions':'sum','undos':'sum' }).reset_index()\n",
    "wiki_data['conflict_score'] = wiki_data['conflict'] / wiki_data['elegibles']\n",
    "wiki_data.fillna(0, inplace=True)"
   ]
  },
  {
   "cell_type": "code",
   "execution_count": null,
   "metadata": {},
   "outputs": [],
   "source": [
    "import requests\n",
    "appended_views = []\n",
    "session = requests.Session()\n",
    "for wp_titles in media_df['wp_titles']:\n",
    "    for wp_title in wp_titles:\n",
    "        try:\n",
    "            \n",
    "            view_url = 'https://wikimedia.org/api/rest_v1/metrics/pageviews/per-article/de.wikipedia.org/all-access/user/{}/daily/{}/{}'.format(wp_title,from_date.replace('-',''),to_date.replace('-',''))\n",
    "            view = pd.DataFrame(session.get(url=view_url).json()['items'])\n",
    "            appended_views.append(view)            \n",
    "          \n",
    "        except:\n",
    "            pass\n",
    "            \n",
    "views = pd.concat(appended_views)\n",
    "views = views[['timestamp', 'views']]\n",
    "views['timestamp']=pd.to_datetime(views['timestamp'], format='%Y%m%d%H')\n",
    "if aggregation  == 'week':    \n",
    "    views = views.groupby([pd.Grouper(key='timestamp', freq='W-SUN')])['views'].sum().reset_index().sort_values('timestamp')\n",
    "    views['timestamp'] = views['timestamp'] - pd.Timedelta(days=6)\n",
    "    \n",
    "elif aggregation  == 'month':    \n",
    "    views = views.groupby([pd.Grouper(key='timestamp', freq='MS')])['views'].sum().reset_index().sort_values('timestamp')"
   ]
  },
  {
   "cell_type": "markdown",
   "metadata": {},
   "source": [
    "## Plotting"
   ]
  },
  {
   "cell_type": "code",
   "execution_count": null,
   "metadata": {},
   "outputs": [],
   "source": [
    "import plotly\n",
    "from plotly import graph_objs as go\n",
    "plotly.offline.init_notebook_mode(connected=True)\n",
    "\n",
    "plotly.offline.iplot({\n",
    "    \"data\": [go.Scatter(x=wiki_chobs['date'], y=wiki_chobs['chobs'], name='Changes', line_shape='spline'),\n",
    "          go.Scatter(x=views['timestamp'], y=views['views'], name='Views', yaxis='y2')], \n",
    "    \"layout\": go.Layout( title='Wikipedia Activity', xaxis={'title':'Date'}, yaxis=dict(\n",
    "        title='Views and Changes'\n",
    "    ),\n",
    "    yaxis2=dict(\n",
    "        title='Views',\n",
    "        \n",
    "        overlaying='y',\n",
    "        side='right'\n",
    "    ), showlegend=True)\n",
    "})\n",
    "\n",
    "plotly.offline.iplot({\n",
    "    \"data\": [go.Scatter(x=wiki_data['date'], y=wiki_data['undos'], name='Undos', line_shape='spline'),\n",
    "            go.Scatter(x=wiki_data['date'], y=wiki_data['conflict_score'], name='Conflict', line_shape='spline', yaxis='y2')], \n",
    "    \"layout\": go.Layout(title='Wikipedia Disagreement', xaxis={'title':''}, yaxis=dict(\n",
    "        title='Undos and Conflict'\n",
    "    ),\n",
    "    yaxis2=dict(\n",
    "        title='Conflict',\n",
    "        \n",
    "        overlaying='y',\n",
    "        side='right'\n",
    "    ), showlegend=True)\n",
    "})\n"
   ]
  }
 ],
 "metadata": {
  "kernelspec": {
   "display_name": "Python 3",
   "language": "python",
   "name": "python3"
  },
  "language_info": {
   "codemirror_mode": {
    "name": "ipython",
    "version": 3
   },
   "file_extension": ".py",
   "mimetype": "text/x-python",
   "name": "python",
   "nbconvert_exporter": "python",
   "pygments_lexer": "ipython3",
   "version": "3.7.3"
  }
 },
 "nbformat": 4,
 "nbformat_minor": 2
}
