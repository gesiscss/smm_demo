{
 "cells": [
  {
   "cell_type": "markdown",
   "metadata": {},
   "source": [
    "# Organization Activity on Facebook\n",
    "\n",
    "The parameters in the cell below can be adjusted to explore other politicians and time frames.\n",
    "\n",
    "### How to explore other organizations?\n",
    "The ***organization_id*** is an internal identifier that connects the different social media accounts. You can [use this other notebook](../organizations.ipynb?autorun=true) to get other the identifiers of other politicians.\n",
    "\n",
    "***Alternatively***, you can direcly use the [organizations API](http://mediamonitoring.gesis.org/api/organizations/swagger/), or access it with the [SMM Wrapper](https://pypi.org/project/smm-wrapper/).\n",
    "\n",
    "## A. Set Up parameters"
   ]
  },
  {
   "cell_type": "code",
   "execution_count": null,
   "metadata": {},
   "outputs": [],
   "source": [
    "# Parameters: \n",
    "organization_id = 219\n",
    "from_date = '2017-09-01'\n",
    "to_date = '2018-12-31'\n",
    "aggregation = 'week'"
   ]
  },
  {
   "cell_type": "markdown",
   "metadata": {},
   "source": [
    "## B. Using the SMM Organization API"
   ]
  },
  {
   "cell_type": "code",
   "execution_count": null,
   "metadata": {},
   "outputs": [],
   "source": [
    "# Create an instance to the smm wrapper\n",
    "from smm_wrapper import SMMOrganizations\n",
    "smm = SMMOrganizations()\n",
    "\n",
    "#using the api to get the data\n",
    "posts = smm.api.posts_by(_id=organization_id, from_date=from_date, to_date=to_date, aggregate_by=aggregation)\n",
    "comments = smm.api.comments_by(_id=organization_id, from_date=from_date, to_date=to_date, aggregate_by=aggregation)"
   ]
  },
  {
   "cell_type": "markdown",
   "metadata": {},
   "source": [
    "## C. Plotting\n",
    "### C.1 Plot Facebook Post Activity"
   ]
  },
  {
   "cell_type": "code",
   "execution_count": null,
   "metadata": {},
   "outputs": [],
   "source": [
    "import plotly\n",
    "from plotly import graph_objs as go\n",
    "plotly.offline.init_notebook_mode(connected=True)\n",
    "\n",
    "#plot for facebook posts activity\n",
    "plotly.offline.iplot({\n",
    "    \"data\": [go.Scatter(x=posts['labels'], y=posts['values'], name='Posts', line_shape='spline'), \n",
    "             go.Scatter(x=posts['labels'], y=posts['replies'], name='Replies', line_shape='spline'),\n",
    "             go.Scatter(x=posts['labels'], y=posts['shares'], name='Shares', line_shape='spline'),\n",
    "             go.Scatter(x=posts['labels'], y=posts['reactions'], name='Reactions', line_shape='spline'),\n",
    "             go.Scatter(x=posts['labels'], y=posts['likes'], name='Likes', line_shape='spline')], \n",
    "    \"layout\": go.Layout(title='Facebook (Posts Activity)', yaxis=dict(title='N'))\n",
    "})"
   ]
  },
  {
   "cell_type": "markdown",
   "metadata": {},
   "source": [
    "### C.2 Plot Facebook Comment Activity"
   ]
  },
  {
   "cell_type": "code",
   "execution_count": null,
   "metadata": {},
   "outputs": [],
   "source": [
    "# plot for facebook comments activity\n",
    "plotly.offline.iplot({\n",
    "    \"data\": [go.Scatter(x=comments['labels'], y=comments['values'], name='Comments', line_shape='spline'), \n",
    "             go.Scatter(x=comments['labels'], y=comments['replies'], name='Replies', line_shape='spline'),\n",
    "             go.Scatter(x=comments['labels'], y=comments['likes'], name='Likes', line_shape='spline')], \n",
    "    \"layout\": go.Layout(title='Facebook (Comments Activity)', yaxis=dict(title='N'))\n",
    "})"
   ]
  }
 ],
 "metadata": {
  "kernelspec": {
   "display_name": "Python 3",
   "language": "python",
   "name": "python3"
  },
  "language_info": {
   "codemirror_mode": {
    "name": "ipython",
    "version": 3
   },
   "file_extension": ".py",
   "mimetype": "text/x-python",
   "name": "python",
   "nbconvert_exporter": "python",
   "pygments_lexer": "ipython3"
  }
 },
 "nbformat": 4,
 "nbformat_minor": 2
}
