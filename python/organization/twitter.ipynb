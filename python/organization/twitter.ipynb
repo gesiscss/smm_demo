{
 "cells": [
  {
   "cell_type": "markdown",
   "metadata": {},
   "source": [
    "# Social Media Monitoring\n",
    "\n",
    "## Organization List\n",
    "\n",
    "\n",
    "The following table contains data on the organizations and their associated social acounts"
   ]
  },
  {
   "cell_type": "code",
   "execution_count": null,
   "metadata": {},
   "outputs": [],
   "source": [
    "import qgrid\n",
    "from smm_wrapper import SMMOrganizations\n",
    "qgrid.set_grid_option('maxVisibleRows', 5)\n",
    "\n",
    "# Create an instance to the smm wrapper\n",
    "smm = SMMOrganizations()\n",
    "\n",
    "# Request the politicians from the API\n",
    "df = smm.dv.get_organizations()\n",
    "\n",
    "# Show the result\n",
    "qgrid.show_grid(df)"
   ]
  },
  {
   "cell_type": "markdown",
   "metadata": {},
   "source": [
    "## Instructions\n",
    "\n",
    "Please choose an organization from the table above and input the `organization_id` and `aggregation` variables in the cell below:"
   ]
  },
  {
   "cell_type": "code",
   "execution_count": null,
   "metadata": {},
   "outputs": [],
   "source": [
    "organization_id = \"440\"\n",
    "aggregation = 'month' # aggregation can be by day ('day'), week ('week') or month('month')\n",
    "\n",
    "# using api to extract data\n",
    "tweets = smm.api.tweets_by(_id=organization_id, from_date='2017-09-01', to_date='2018-12-31', aggregate_by=aggregation)\n",
    "replies = smm.api.replies_to(_id=organization_id, from_date='2017-09-01', to_date='2018-12-31', aggregate_by=aggregation)"
   ]
  },
  {
   "cell_type": "markdown",
   "metadata": {},
   "source": [
    "## Plotting"
   ]
  },
  {
   "cell_type": "code",
   "execution_count": null,
   "metadata": {},
   "outputs": [],
   "source": [
    "import plotly\n",
    "from plotly import graph_objs as go\n",
    "plotly.offline.init_notebook_mode(connected=True)\n",
    "\n",
    "plotly.offline.iplot({\n",
    "    \"data\": [go.Scatter(x=tweets['labels'], y=tweets['values'], name='Tweets'), \n",
    "             go.Scatter(x=replies['labels'], y=replies['values'], name='Replies')], \n",
    "    \"layout\": go.Layout(title='Tweets and replies',  xaxis={'title':''}, yaxis={'title':'N'})\n",
    "})"
   ]
  }
 ],
 "metadata": {
  "kernelspec": {
   "display_name": "Python 3",
   "language": "python",
   "name": "python3"
  },
  "language_info": {
   "codemirror_mode": {
    "name": "ipython",
    "version": 3
   },
   "file_extension": ".py",
   "mimetype": "text/x-python",
   "name": "python",
   "nbconvert_exporter": "python",
   "pygments_lexer": "ipython3",
   "version": "3.7.3"
  }
 },
 "nbformat": 4,
 "nbformat_minor": 2
}
