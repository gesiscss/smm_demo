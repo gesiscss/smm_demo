{
 "cells": [
  {
   "cell_type": "code",
   "execution_count": null,
   "metadata": {},
   "outputs": [],
   "source": [
    "import qgrid\n",
    "import pandas as pd\n",
    "import numpy as np\n",
    "from smm_wrapper import SMMOrganizations\n",
    "qgrid.set_grid_option('maxVisibleRows', 5)\n",
    "\n",
    "# Create an instance to the smm wrapper\n",
    "smm = SMMOrganizations()\n",
    "\n",
    "# Request the politicians from the API\n",
    "df = smm.dv.get_organizations()\n",
    "\n",
    "# Show the result\n",
    "qgrid.show_grid(df)"
   ]
  },
  {
   "cell_type": "code",
   "execution_count": null,
   "metadata": {},
   "outputs": [],
   "source": [
    "pd.set_option('display.float_format', lambda x: '%.0f' % x)\n",
    "duplicate_df=pd.DataFrame(columns=['name', 'category', 'subcategory', 'fb_ids', 'tw_ids', 'wp_ids','wp_titles'])"
   ]
  },
  {
   "cell_type": "code",
   "execution_count": null,
   "metadata": {},
   "outputs": [],
   "source": [
    "def duplicate_finder(lst_col):\n",
    "    global duplicate_df\n",
    "    for row in df.loc[df[lst_col].isnull(), lst_col].index:\n",
    "        df.at[row, lst_col] = []\n",
    "\n",
    "    temp_df = pd.DataFrame({\n",
    "      col:np.repeat(df[col].values, df[lst_col].str.len())\n",
    "      for col in df.columns.drop(lst_col) }\n",
    "    ).assign(**{lst_col:np.concatenate(df[lst_col].values)})[df.columns]  \n",
    "    \n",
    "    temp_df=temp_df[temp_df.duplicated([lst_col], keep=False)]    \n",
    "    duplicate_df = pd.concat([temp_df,duplicate_df])\n",
    "duplicate_finder('fb_ids')\n",
    "duplicate_finder('tw_ids')\n",
    "duplicate_finder('wp_ids')"
   ]
  },
  {
   "cell_type": "code",
   "execution_count": null,
   "metadata": {},
   "outputs": [],
   "source": [
    "duplicate_df"
   ]
  }
 ],
 "metadata": {
  "kernelspec": {
   "display_name": "Python 3",
   "language": "python",
   "name": "python3"
  },
  "language_info": {
   "codemirror_mode": {
    "name": "ipython",
    "version": 3
   },
   "file_extension": ".py",
   "mimetype": "text/x-python",
   "name": "python",
   "nbconvert_exporter": "python",
   "pygments_lexer": "ipython3",
   "version": "3.7.3"
  }
 },
 "nbformat": 4,
 "nbformat_minor": 2
}
