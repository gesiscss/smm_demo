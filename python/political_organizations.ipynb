{
 "cells": [
  {
   "cell_type": "code",
   "execution_count": null,
   "metadata": {},
   "outputs": [],
   "source": [
    "import qgrid\n",
    "from smm_wrapper import SMMOrganizations\n",
    "qgrid.set_grid_option('maxVisibleRows', 5)\n",
    "\n",
    "# Create an instance to the smm wrapper\n",
    "smm = SMMOrganizations()\n",
    "\n",
    "# Request the politicians from the API\n",
    "df = smm.dv.get_organizations()\n",
    "df= df[df.category=='political']\n",
    "# Show the result\n",
    "qgrid.show_grid(df)"
   ]
  }
 ],
 "metadata": {
  "kernelspec": {
   "display_name": "Python 3",
   "language": "python",
   "name": "python3"
  },
  "language_info": {
   "codemirror_mode": {
    "name": "ipython",
    "version": 3
   },
   "file_extension": ".py",
   "mimetype": "text/x-python",
   "name": "python",
   "nbconvert_exporter": "python",
   "pygments_lexer": "ipython3",
   "version": "3.7.3"
  }
 },
 "nbformat": 4,
 "nbformat_minor": 2
}
