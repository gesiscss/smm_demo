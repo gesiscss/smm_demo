{
 "cells": [
  {
   "cell_type": "markdown",
   "metadata": {},
   "source": [
    "# Social Media Monitoring\n",
    "\n",
    "## Politician List\n",
    "\n",
    "\n",
    "The following table contains data on the politicians and their associated social acounts"
   ]
  },
  {
   "cell_type": "code",
   "execution_count": null,
   "metadata": {},
   "outputs": [],
   "source": [
    "import qgrid\n",
    "from smm_wrapper import SMMPoliticians\n",
    "qgrid.set_grid_option('maxVisibleRows', 5)\n",
    "\n",
    "# Create an instance to the smm wrapper\n",
    "smm = SMMPoliticians()\n",
    "\n",
    "# Request the politicians from the API\n",
    "df = smm.dv.get_politicians()\n",
    "\n",
    "# Show the result\n",
    "qgrid.show_grid(df)"
   ]
  },
  {
   "cell_type": "markdown",
   "metadata": {},
   "source": [
    "## Instructions\n",
    "\n",
    "Please choose a politician from the table above and input the `politician_id` and `aggregation` variables in the cell below:"
   ]
  },
  {
   "cell_type": "code",
   "execution_count": null,
   "metadata": {},
   "outputs": [],
   "source": [
    "politician_id = 27\n",
    "aggregation = 'month' #aggregation can be by day ('day'), week ('week') or month('month')\n",
    "\n",
    "# using api to extract data\n",
    "posts = smm.api.posts_by(_id=politician_id, from_date='2017-09-01', to_date='2018-12-31', aggregate_by=aggregation)\n",
    "comments = smm.api.comments_by(_id=politician_id, from_date='2017-09-01', to_date='2018-12-31', aggregate_by=aggregation)"
   ]
  },
  {
   "cell_type": "markdown",
   "metadata": {},
   "source": [
    "## Plotting"
   ]
  },
  {
   "cell_type": "code",
   "execution_count": null,
   "metadata": {},
   "outputs": [],
   "source": [
    "import plotly\n",
    "from plotly import graph_objs as go\n",
    "plotly.offline.init_notebook_mode(connected=True)\n",
    "\n",
    "#plot for fb posts\n",
    "plotly.offline.iplot({\n",
    "    \"data\": [go.Scatter(x=posts['labels'], y=posts['values'], name='Posts'), \n",
    "             go.Scatter(x=posts['labels'], y=posts['replies'], name='Replies'),\n",
    "            go.Scatter(x=posts['labels'], y=posts['shares'], name='Shares'),\n",
    "            go.Scatter(x=posts['labels'], y=posts['reactions'], name='Reactions'),\n",
    "            go.Scatter(x=posts['labels'], y=posts['likes'], name='Likes')], \n",
    "    \"layout\": go.Layout(hovermode='closest', title='Facebook posts', xaxis={'title':'Date'}, yaxis={'title':'N'})\n",
    "})\n",
    "\n",
    "#plot for fb comments\n",
    "plotly.offline.iplot({\n",
    "    \"data\": [go.Scatter(x=comments['labels'], y=comments['values'], name='Comments'), \n",
    "             go.Scatter(x=comments['labels'], y=comments['replies'], name='Replies'),\n",
    "            go.Scatter(x=comments['labels'], y=comments['likes'], name='Likes')], \n",
    "    \"layout\": go.Layout(hovermode='closest', title='Facebook comments', xaxis={'title':'Date'}, yaxis={'title':'N'})\n",
    "})"
   ]
  },
  {
   "cell_type": "code",
   "execution_count": null,
   "metadata": {},
   "outputs": [],
   "source": [
    "all_tweets = smm.api.tweets_by(text_contains='ahahaha')\n",
    "#tweets_by_politician = smm.api.tweets_by(_id='2')\n",
    "tweets_by_twitter = smm.api.tweets_by(twitter_user_id='123')\n",
    "#twitter, aggregated replies\n",
    "all_replies = smm.api.replies_to(text_contains='jnljkn')\n",
    "#replies_by_politician = smm.api.replies_to(_id='2')\n",
    "replies_by_twitter_id = smm.api.replies_to(twitter_user_id='123')\n",
    "#twitter, general public\n",
    "general_tweets = smm.api.general_tweets(text_contains='sdfgsdf')\n",
    "general_tweets_id = smm.api.general_tweets(twitter_user_id='123', text_contains='lökm')\n",
    "#facebook, aggregated posts\n",
    "all_posts = smm.api.posts_by(text_contains='asdf')\n",
    "posts_by_politician = smm.api.posts_by(_id='5')\n",
    "posts_by_facebook_id = smm.api.posts_by(facebook_user_id='123')\n",
    "#facebook, aggregated comments\n",
    "all_comments = smm.api.comments_by(text_contains='sdfg')\n",
    "comments_by_politician = smm.api.comments_by(_id='5')\n",
    "comments_by_facebook_id = smm.api.comments_by(facebook_user_id='123')\n",
    "#wikipedia\n",
    "all_chobs = smm.api.wikipedia()\n",
    "#chobs_by_politician = smm.api.wikipedia(_id='241')\n",
    "chobs_by_wikipage = smm.api.wikipedia(wikipedia_page_id='47')"
   ]
  },
  {
   "cell_type": "code",
   "execution_count": null,
   "metadata": {},
   "outputs": [],
   "source": []
  }
 ],
 "metadata": {
  "kernelspec": {
   "display_name": "Python 3",
   "language": "python",
   "name": "python3"
  },
  "language_info": {
   "codemirror_mode": {
    "name": "ipython",
    "version": 3
   },
   "file_extension": ".py",
   "mimetype": "text/x-python",
   "name": "python",
   "nbconvert_exporter": "python",
   "pygments_lexer": "ipython3",
   "version": "3.6.7"
  }
 },
 "nbformat": 4,
 "nbformat_minor": 2
}
