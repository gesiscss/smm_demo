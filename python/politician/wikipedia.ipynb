{
 "cells": [
  {
   "cell_type": "code",
   "execution_count": null,
   "metadata": {},
   "outputs": [],
   "source": [
    "# Parameters: \n",
    "politician_id = 240\n",
    "aggregation = 'month' # aggregation can be by day ('day'), week ('week') or month('month')\n",
    "from_date='2017-09-01'\n",
    "to_date='2018-12-31'"
   ]
  },
  {
   "cell_type": "markdown",
   "metadata": {},
   "source": [
    "## Using API"
   ]
  },
  {
   "cell_type": "code",
   "execution_count": null,
   "metadata": {},
   "outputs": [],
   "source": [
    "from smm_wrapper import SMMPoliticians\n",
    "from wikiwho_wrapper import WikiWho\n",
    "\n",
    "# Create an instance to the smm wrapper\n",
    "smm = SMMPoliticians()\n",
    "\n",
    "# Request the politicians from the API\n",
    "df = smm.dv.get_politicians()\n"
   ]
  },
  {
   "cell_type": "code",
   "execution_count": null,
   "metadata": {},
   "outputs": [],
   "source": [
    "import pandas as pd\n",
    "\n",
    "\n",
    "#using the api to get the data\n",
    "wiki_chobs = smm.dv.wikipedia(_id=politician_id, from_date=from_date, to_date=to_date, aggregate_by=aggregation)\n",
    "wiki_chobs = wiki_chobs.groupby('date').agg({'chobs': 'sum'}).reset_index()\n",
    "wiki_ids = df.loc[df.index == politician_id, 'wp_ids'].iloc[0]\n",
    "\n",
    "#using wikiwho to extract conflicts and revisions\n",
    "ww = WikiWho(lng='de')\n",
    "wiki_data = pd.concat(ww.dv.edit_persistence(page_id=wiki_id, start=from_date, end=to_date) for wiki_id in wiki_ids)\n",
    "wiki_data['undos'] = wiki_data['dels'] + wiki_data['reins']\n",
    "wiki_data = wiki_data[['year_month','conflicts','revisions', 'undos']]\n",
    "wiki_data['date'] = pd.to_datetime(wiki_data['year_month'])\n",
    "wiki_data = wiki_data.groupby('date')['conflicts', 'revisions', 'undos'].sum().reset_index()\n",
    "\n",
    "#using wikipedia and wikimedia to extract views\n",
    "import wikipedia\n",
    "import requests\n",
    "wikipedia.set_lang('de')\n",
    "session = requests.Session()\n",
    "wiki_title = wikipedia.page(pageid=df.loc[df.index == politician_id, 'wp_ids'].iloc[0]).title\n",
    "url = 'https://wikimedia.org/api/rest_v1/metrics/pageviews/per-article/de.wikipedia.org/all-access/all-agents/{}/{}ly/{}/{}'.format(wiki_title, aggregation,from_date.replace('-',''),to_date.replace('-',''))\n",
    "views = pd.DataFrame(session.get(url=url).json()['items'])\n",
    "views = views[['timestamp', 'views']]\n",
    "views['timestamp']=pd.to_datetime(views['timestamp'], format='%Y%m%d%H')\n",
    "if aggregation  == 'week':    \n",
    "    views['timestamp'] = pd.to_datetime(views['timestamp']) - pd.to_timedelta(7, unit='d')\n",
    "    views = views.groupby([pd.Grouper(key='timestamp', freq='W-MON')])['views'].sum().reset_index().sort_values('timestamp')\n",
    "    \n",
    "if aggregation  == 'month':    \n",
    "    views['timestamp'] = pd.to_datetime(views['timestamp']) - pd.to_timedelta(7, unit='d')\n",
    "    views = views.groupby([pd.Grouper(key='timestamp', freq='MS')])['views'].sum().reset_index().sort_values('timestamp')\n"
   ]
  },
  {
   "cell_type": "markdown",
   "metadata": {},
   "source": [
    "## Plotting"
   ]
  },
  {
   "cell_type": "code",
   "execution_count": null,
   "metadata": {},
   "outputs": [],
   "source": [
    "import plotly\n",
    "from plotly import graph_objs as go\n",
    "plotly.offline.init_notebook_mode(connected=True)\n",
    "\n",
    "plotly.offline.iplot({\n",
    "    \"data\": [go.Scatter(x=wiki_chobs['date'], y=wiki_chobs['chobs'], name='Change objects', line_shape='spline'),\n",
    "            go.Scatter(x=wiki_data['date'], y=wiki_data['revisions'], name='Revisions', line_shape='spline'),\n",
    "             go.Scatter(x=views['timestamp'], y=views['views'], name='Views', yaxis='y2')],\n",
    "    \"layout\": go.Layout(title='Wikipedia Activity', xaxis={'title':''},  yaxis=dict(\n",
    "        title='Revisions and Change Objects'\n",
    "    ),\n",
    "    yaxis2=dict(\n",
    "        title='Views',\n",
    "        \n",
    "        overlaying='y',\n",
    "        side='right'\n",
    "    ), showlegend=True)\n",
    "})\n",
    "\n",
    "plotly.offline.iplot({\n",
    "    \"data\": [go.Scatter(x=wiki_data['date'], y=wiki_data['undos'], name='Undos', line_shape='spline'),\n",
    "            go.Scatter(x=wiki_data['date'], y=wiki_data['conflicts'], name='Conflicts', line_shape='spline')], \n",
    "    \"layout\": go.Layout( title='Wikipedia Conflicts', xaxis={'title':''}, yaxis={'title':'undos and conflicts'}, showlegend=True)\n",
    "})"
   ]
  }
 ],
 "metadata": {
  "kernelspec": {
   "display_name": "Python 3",
   "language": "python",
   "name": "python3"
  },
  "language_info": {
   "codemirror_mode": {
    "name": "ipython",
    "version": 3
   },
   "file_extension": ".py",
   "mimetype": "text/x-python",
   "name": "python",
   "nbconvert_exporter": "python",
   "pygments_lexer": "ipython3",
   "version": "3.7.3"
  }
 },
 "nbformat": 4,
 "nbformat_minor": 2
}
