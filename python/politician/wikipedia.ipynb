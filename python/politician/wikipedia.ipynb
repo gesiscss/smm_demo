{
 "cells": [
  {
   "cell_type": "markdown",
   "metadata": {},
   "source": [
    "# Politician Activity on Wikipedia\n",
    "\n",
    "The parameters in the cell below can be adjusted to explore otherPoliticians and time frames.\n",
    "\n",
    "### How to explore other politicians?\n",
    "The ***politician_ID*** is an internal identifier that connects the different social media accounts. You can [use this other notebook](../Politicians.ipynb?autorun=true) to get other the identifiers of other politicians.\n",
    "\n",
    "***Alternatively***, you can direcly use the [Politicians API](http://mediamonitoring.gesis.org/api/Politicians/swagger/), or access it with the [SMM Wrapper](https://pypi.org/project/smm-wrapper/).\n",
    "\n",
    "## A. Set Up parameters"
   ]
  },
  {
   "cell_type": "code",
   "execution_count": null,
   "metadata": {},
   "outputs": [],
   "source": [
    "# Parameters: \n",
    "politician_id = 1928\n",
    "from_date = '2017-09-01'\n",
    "to_date = '2018-12-31'\n",
    "aggregation = 'week'"
   ]
  },
  {
   "cell_type": "markdown",
   "metadata": {},
   "source": [
    "## B. Using APIs\n",
    "### B.1 Using the SMM Politician API"
   ]
  },
  {
   "cell_type": "code",
   "execution_count": null,
   "metadata": {},
   "outputs": [],
   "source": [
    "from smm_wrapper import SMMPoliticians\n",
    "\n",
    "# create an instance to the smm wrapper\n",
    "smm = SMMPoliticians()\n",
    "\n",
    "# request the politician from the API\n",
    "politician = smm.dv.get_one(politician_id)\n",
    "\n",
    "# using the api to get the change objects\n",
    "wiki_chobs = smm.dv.wikipedia(_id=politician_id, from_date=from_date, to_date=to_date, aggregate_by=aggregation)\n",
    "wiki_chobs = wiki_chobs.groupby('date').agg({'chobs': 'sum'}).reset_index()"
   ]
  },
  {
   "cell_type": "markdown",
   "metadata": {},
   "source": [
    "### B.2 Using the Wikiwho API"
   ]
  },
  {
   "cell_type": "code",
   "execution_count": null,
   "metadata": {},
   "outputs": [],
   "source": [
    "from wikiwho_wrapper import WikiWho\n",
    "import pandas as pd\n",
    "\n",
    "#using wikiwho to extract conflicts and revisions\n",
    "ww = WikiWho(lng='de')\n",
    "wiki_data = pd.concat(ww.dv.edit_persistence(page_id=wiki_id, start=from_date, end=to_date) \n",
    "                      for wiki_id in politician['wp_ids'])\n",
    "wiki_data['undos'] = wiki_data['dels'] + wiki_data['reins']\n",
    "wiki_data['date'] = pd.to_datetime(wiki_data['year_month'])\n",
    "wiki_data = wiki_data.groupby('date')['conflict','elegibles','undos'].sum().reset_index()\n",
    "wiki_data['conflict_score'] = wiki_data['conflict'] / wiki_data['elegibles']\n",
    "wiki_data.fillna(0, inplace=True)"
   ]
  },
  {
   "cell_type": "markdown",
   "metadata": {},
   "source": [
    "### B.3 Using the Wikimedia API"
   ]
  },
  {
   "cell_type": "code",
   "execution_count": null,
   "metadata": {},
   "outputs": [],
   "source": [
    "import requests\n",
    "\n",
    "# using wikimedia to extract views\n",
    "session = requests.Session()\n",
    "vurl = \"https://wikimedia.org/api/rest_v1/metrics/pageviews/per-article/de.wikipedia.org/all-access/user/{wp_title}/daily/\" + f\"{from_date.replace('-','')}/{to_date.replace('-','')}\"\n",
    "views = pd.concat([pd.DataFrame(session.get(url=vurl.format(wp_title=wp_title)).json()['items']) \n",
    "           for wp_title in politician['wp_titles']])\n",
    "views['timestamp']=pd.to_datetime(views['timestamp'], format='%Y%m%d%H')\n",
    "\n",
    "# weekly or monthly aggregation of the data\n",
    "if aggregation  == 'week':    \n",
    "    views = views.groupby([pd.Grouper(key='timestamp', freq='W-SUN')])['views'].sum().reset_index().sort_values('timestamp')\n",
    "    views['timestamp'] = views['timestamp'] - pd.Timedelta(days=6)\n",
    "    \n",
    "elif aggregation  == 'month':    \n",
    "    views = views.groupby([pd.Grouper(key='timestamp', freq='MS')])['views'].sum().reset_index().sort_values('timestamp')"
   ]
  },
  {
   "cell_type": "markdown",
   "metadata": {},
   "source": [
    "## C. Plotting\n",
    "### C.1 Plot Wikipedia Activity"
   ]
  },
  {
   "cell_type": "code",
   "execution_count": null,
   "metadata": {},
   "outputs": [],
   "source": [
    "import plotly\n",
    "from plotly import graph_objs as go\n",
    "plotly.offline.init_notebook_mode(connected=True)\n",
    "\n",
    "plotly.offline.iplot({\n",
    "    \"data\": [go.Scatter(x=views['timestamp'], y=views['views'], name='Views', line_shape='spline'),\n",
    "             go.Scatter(x=wiki_chobs['date'], y=wiki_chobs['chobs'], name='Changes', yaxis='y2', line_shape='spline')], \n",
    "    \"layout\": go.Layout( title='Wikipedia Activity', yaxis=dict(title='Views'),\n",
    "    yaxis2=dict(title='Changes', overlaying='y', side='right'))\n",
    "})"
   ]
  },
  {
   "cell_type": "markdown",
   "metadata": {},
   "source": [
    "### C.2 Plot Wikipedia Disagreement"
   ]
  },
  {
   "cell_type": "code",
   "execution_count": null,
   "metadata": {},
   "outputs": [],
   "source": [
    "plotly.offline.iplot({\n",
    "    \"data\": [go.Scatter(x=wiki_data['date'], y=wiki_data['undos'], name='Undos', line_shape='spline'),\n",
    "            go.Scatter(x=wiki_data['date'], y=wiki_data['conflict_score'], name='Conflict', line_shape='spline', yaxis='y2')], \n",
    "    \"layout\": go.Layout(title='Wikipedia Disagreement', yaxis=dict(title='Undos'),\n",
    "    yaxis2=dict(title='Conflict', overlaying='y',side='right'))\n",
    "})"
   ]
  }
 ],
 "metadata": {
  "kernelspec": {
   "display_name": "Python 3",
   "language": "python",
   "name": "python3"
  },
  "language_info": {
   "codemirror_mode": {
    "name": "ipython",
    "version": 3
   },
   "file_extension": ".py",
   "mimetype": "text/x-python",
   "name": "python",
   "nbconvert_exporter": "python",
   "pygments_lexer": "ipython3"
  }
 },
 "nbformat": 4,
 "nbformat_minor": 2
}
