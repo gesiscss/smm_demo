{
 "cells": [
  {
   "cell_type": "markdown",
   "metadata": {},
   "source": [
    "# Social Media Monitoring\n",
    "\n",
    "## Politician List\n",
    "\n",
    "\n",
    "The following table contains data on the politicians and their associated social acounts"
   ]
  },
  {
   "cell_type": "code",
   "execution_count": null,
   "metadata": {},
   "outputs": [],
   "source": [
    "import qgrid\n",
    "from smm_wrapper import SMMPoliticians\n",
    "from wikiwho_wrapper import WikiWho\n",
    "\n",
    "qgrid.set_grid_option('maxVisibleRows', 5)\n",
    "\n",
    "# Create an instance to the smm wrapper\n",
    "smm = SMMPoliticians()\n",
    "\n",
    "# Request the politicians from the API\n",
    "df = smm.dv.get_politicians()\n",
    "\n",
    "# Show the result\n",
    "qgrid.show_grid(df)"
   ]
  },
  {
   "cell_type": "markdown",
   "metadata": {},
   "source": [
    "## Instructions\n",
    "\n",
    "Please choose a politician from the table above and input the `politician_id` and `aggregation` variables in the cell below:"
   ]
  },
  {
   "cell_type": "code",
   "execution_count": null,
   "metadata": {},
   "outputs": [],
   "source": [
    "import pandas as pd\n",
    "\n",
    "politician_id = 240\n",
    "aggregation = 'month' #aggregation can be by day ('day'), week ('week') or month('month')\n",
    "\n",
    "# using api to extract data\n",
    "wiki_chobs = smm.dv.wikipedia(_id=politician_id, from_date='2017-09-01', to_date='2018-12-31', aggregate_by=aggregation)\n",
    "wiki_ids = df.loc[df.index == politician_id, 'wp_ids'].iloc[0]\n",
    "\n",
    "#using wikiwho to extract conflicts and revisions\n",
    "ww = WikiWho(lng='de')\n",
    "wiki_data = pd.concat(ww.dv.edit_persistence(page_id=wiki_id) for wiki_id in wiki_ids)\n",
    "wiki_data['undos'] = wiki_data['dels'] + wiki_data['reins']\n",
    "wiki_data = wiki_data[['year_month','conflicts','revisions', 'undos']]\n",
    "\n",
    "#using wikipedia and wikimedia to extract views\n",
    "import wikipedia\n",
    "import requests\n",
    "wikipedia.set_lang('de')\n",
    "session = requests.Session()\n",
    "wiki_title = wikipedia.page(pageid=df.loc[df.index == politician_id, 'wp_ids'].iloc[0]).title\n",
    "url = 'https://wikimedia.org/api/rest_v1/metrics/pageviews/per-article/de.wikipedia.org/all-access/all-agents/{}/{}ly/20171101/20181101'.format(wiki_title, aggregation)\n",
    "views = pd.DataFrame(session.get(url=url).json()['items'])\n",
    "views = views[['timestamp', 'views']]"
   ]
  },
  {
   "cell_type": "code",
   "execution_count": null,
   "metadata": {},
   "outputs": [],
   "source": [
    "#aggregating the data from wikiwho and grouping it together with chobs\n",
    "wiki_data = wiki_data.groupby('year_month').agg(\n",
    "    {\n",
    "        'conflicts': 'sum',\n",
    "        'revisions': 'sum',\n",
    "        'undos': 'sum'\n",
    "    }).reset_index()\n",
    "wiki_data = pd.merge(wiki_data, views, left_on=pd.to_datetime(wiki_data['year_month']), right_on=pd.to_datetime(views['timestamp'], format='%Y%m%d%H')).reset_index()\n",
    "wiki_total = pd.merge(wiki_chobs, wiki_data.drop(columns=['key_0','timestamp']), left_on=wiki_chobs['date'], right_on=wiki_data['key_0']).set_index('_id')"
   ]
  },
  {
   "cell_type": "markdown",
   "metadata": {},
   "source": [
    "## Plotting"
   ]
  },
  {
   "cell_type": "code",
   "execution_count": null,
   "metadata": {},
   "outputs": [],
   "source": [
    "import plotly\n",
    "from plotly import graph_objs as go\n",
    "plotly.offline.init_notebook_mode(connected=True)\n",
    "\n",
    "plotly.offline.iplot({\n",
    "    \"data\": [go.Scatter(x=wiki_total['date'], y=wiki_total['chobs'], name='Change objects'),\n",
    "            go.Scatter(x=wiki_total['date'], y=wiki_total['revisions'], name='Revisions'),\n",
    "            go.Scatter(x=wiki_total['date'], y=wiki_total['views'], name='Views', yaxis='y2')], \n",
    "    \"layout\": go.Layout(title='Wikipedia Activity', xaxis={'title':''},  yaxis=dict(\n",
    "        title='Revisions and Change Objects'\n",
    "    ),\n",
    "    yaxis2=dict(\n",
    "        title='Views',\n",
    "        \n",
    "        overlaying='y',\n",
    "        side='right'\n",
    "    ), showlegend=True)\n",
    "})\n",
    "\n",
    "plotly.offline.iplot({\n",
    "    \"data\": [go.Scatter(x=wiki_total['date'], y=wiki_total['undos'], name='Undos'),\n",
    "            go.Scatter(x=wiki_total['date'], y=wiki_total['conflicts'], name='Conflicts')], \n",
    "    \"layout\": go.Layout(title='Wikipedia Conflicts', xaxis={'title':''}, yaxis={'title':'undos and conflicts'}, showlegend=True)\n",
    "})"
   ]
  }
 ],
 "metadata": {
  "kernelspec": {
   "display_name": "Python 3",
   "language": "python",
   "name": "python3"
  },
  "language_info": {
   "codemirror_mode": {
    "name": "ipython",
    "version": 3
   },
   "file_extension": ".py",
   "mimetype": "text/x-python",
   "name": "python",
   "nbconvert_exporter": "python",
   "pygments_lexer": "ipython3",
   "version": "3.7.3"
  }
 },
 "nbformat": 4,
 "nbformat_minor": 2
}
