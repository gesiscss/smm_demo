{
 "cells": [
  {
   "cell_type": "code",
   "execution_count": null,
   "metadata": {},
   "outputs": [],
   "source": [
    "import qgrid\n",
    "import pandas as pd\n",
    "import numpy as np\n",
    "from smm_wrapper import SMMPoliticians\n",
    "qgrid.set_grid_option('maxVisibleRows', 5)\n",
    "\n",
    "# Create an instance to the smm wrapper\n",
    "smm = SMMPoliticians()\n",
    "\n",
    "# Request the politicians from the API\n",
    "df = smm.dv.get_politicians()\n",
    "\n",
    "# Show the result\n",
    "qgrid.show_grid(df)"
   ]
  },
  {
   "cell_type": "code",
   "execution_count": null,
   "metadata": {},
   "outputs": [],
   "source": [
    "pd.set_option('display.float_format', lambda x: '%.0f' % x)"
   ]
  },
  {
   "cell_type": "code",
   "execution_count": null,
   "metadata": {},
   "outputs": [],
   "source": [
    "lst_col = 'fb_ids'\n",
    "for row in df.loc[df.fb_ids.isnull(), lst_col].index:\n",
    "    df.at[row, lst_col] = []\n",
    "\n",
    "r1 = pd.DataFrame({\n",
    "  col:np.repeat(df[col].values, df[lst_col].str.len())\n",
    "  for col in df.columns.drop(lst_col) }\n",
    ").assign(**{lst_col:np.concatenate(df[lst_col].values)})[df.columns]"
   ]
  },
  {
   "cell_type": "code",
   "execution_count": null,
   "metadata": {},
   "outputs": [],
   "source": [
    "lst_col = 'tw_ids'\n",
    "for row in df.loc[df[lst_col].isnull(), lst_col].index:\n",
    "    df.at[row, lst_col] = []\n",
    "\n",
    "r2 = pd.DataFrame({\n",
    "  col:np.repeat(df[col].values, df[lst_col].str.len())\n",
    "  for col in df.columns.drop(lst_col) }\n",
    ").assign(**{lst_col:np.concatenate(df[lst_col].values)})[df.columns]"
   ]
  },
  {
   "cell_type": "code",
   "execution_count": null,
   "metadata": {},
   "outputs": [],
   "source": [
    "lst_col = 'wp_ids'\n",
    "for row in df.loc[df[lst_col].isnull(), lst_col].index:\n",
    "    df.at[row, lst_col] = []\n",
    "\n",
    "r3 = pd.DataFrame({\n",
    "  col:np.repeat(df[col].values, df[lst_col].str.len())\n",
    "  for col in df.columns.drop(lst_col) }\n",
    ").assign(**{lst_col:np.concatenate(df[lst_col].values)})[df.columns]"
   ]
  },
  {
   "cell_type": "code",
   "execution_count": null,
   "metadata": {},
   "outputs": [],
   "source": [
    "frames = [r1, r2, r3]\n",
    "df_result= pd.concat(frames)"
   ]
  },
  {
   "cell_type": "code",
   "execution_count": null,
   "metadata": {},
   "outputs": [],
   "source": [
    "df_result.info()"
   ]
  },
  {
   "cell_type": "code",
   "execution_count": null,
   "metadata": {},
   "outputs": [],
   "source": [
    "df_result"
   ]
  },
  {
   "cell_type": "code",
   "execution_count": null,
   "metadata": {},
   "outputs": [],
   "source": [
    "duplicates = df_result[df_result.duplicated()]"
   ]
  },
  {
   "cell_type": "code",
   "execution_count": null,
   "metadata": {},
   "outputs": [],
   "source": []
  }
 ],
 "metadata": {
  "kernelspec": {
   "display_name": "Python 3",
   "language": "python",
   "name": "python3"
  },
  "language_info": {
   "codemirror_mode": {
    "name": "ipython",
    "version": 3
   },
   "file_extension": ".py",
   "mimetype": "text/x-python",
   "name": "python",
   "nbconvert_exporter": "python",
   "pygments_lexer": "ipython3",
   "version": "3.7.3"
  }
 },
 "nbformat": 4,
 "nbformat_minor": 2
}
