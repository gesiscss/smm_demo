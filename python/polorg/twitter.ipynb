{
 "cells": [
  {
   "cell_type": "markdown",
   "metadata": {},
   "source": [
    "# Political Organizations Activity on Twitter aggregated by Party\n",
    "\n",
    "The parameters in the cell below can be adjusted to explore other political parties and time frames.\n",
    "\n",
    "### How to explore other political parties?\n",
    "The ***organization*** parameter can be use to aggregate organizations by their party. The column `subcategory` in this [this other notebook](../political_organizations.ipynb?autorun=true) show the organizations that belong each party.\n",
    "\n",
    "***Alternatively***, you can direcly use the [organizations API](http://mediamonitoring.gesis.org/api/organizations/swagger/), or access it with the [SMM Wrapper](https://pypi.org/project/smm-wrapper/).\n",
    "\n",
    "## A. Set Up parameters"
   ]
  },
  {
   "cell_type": "code",
   "execution_count": null,
   "metadata": {},
   "outputs": [],
   "source": [
    "# Parameters: \n",
    "organization = 'csu'\n",
    "from_date = '2017-09-01'\n",
    "to_date = '2018-12-31'\n",
    "aggregation = 'week'"
   ]
  },
  {
   "cell_type": "markdown",
   "metadata": {},
   "source": [
    "## B. Using the SMM Politician API"
   ]
  },
  {
   "cell_type": "code",
   "execution_count": null,
   "metadata": {},
   "outputs": [],
   "source": [
    "import pandas as pd\n",
    "\n",
    "# create an instance to the smm wrapper\n",
    "from smm_wrapper import SMMOrganizations\n",
    "smm = SMMOrganizations()\n",
    "\n",
    "# using the api to get the data\n",
    "df = smm.dv.get_organizations()\n",
    "df = df[(df['category']=='political')]\n",
    "\n",
    "# filter the accounts by party, and valid ones (the ones that contain tw_ids)\n",
    "party_df = df[(df['subcategory']==organization) & (df['tw_ids'].notnull())] \n",
    "\n",
    "# query the Social Media Monitoring API\n",
    "tweets_by = pd.concat(smm.dv.tweets_by(_id=organization_id, from_date=from_date, to_date=to_date, aggregate_by=aggregation) \n",
    "               for organization_id in party_df.index)\n",
    "replies_to = pd.concat(smm.dv.replies_to(_id=organization_id, from_date=from_date, to_date=to_date, aggregate_by=aggregation) \n",
    "               for organization_id in party_df.index)\n",
    "\n",
    "# aggregate the replies\n",
    "total_tweets_by = tweets_by.groupby('date').agg({'tweets': 'sum'})\n",
    "total_replies_to = replies_to.groupby('date').agg({'replies': 'sum'})"
   ]
  },
  {
   "cell_type": "markdown",
   "metadata": {},
   "source": [
    "## C. Plotting"
   ]
  },
  {
   "cell_type": "code",
   "execution_count": null,
   "metadata": {},
   "outputs": [],
   "source": [
    "#plotting data\n",
    "import plotly\n",
    "from plotly import graph_objs as go\n",
    "plotly.offline.init_notebook_mode(connected=True)\n",
    "\n",
    "plotly.offline.iplot({\n",
    "    \"data\": [go.Scatter(x=total_tweets_by.index, y=total_tweets_by['tweets'], name='Tweets', line_shape='spline'), \n",
    "             go.Scatter(x=total_replies_to.index, y=total_replies_to['replies'], name='Replies', line_shape='spline')], \n",
    "    \"layout\": go.Layout( title='Twitter (Tweets and Replies)', yaxis=dict(title='N'))\n",
    "})"
   ]
  }
 ],
 "metadata": {
  "kernelspec": {
   "display_name": "Python 3",
   "language": "python",
   "name": "python3"
  },
  "language_info": {
   "codemirror_mode": {
    "name": "ipython",
    "version": 3
   },
   "file_extension": ".py",
   "mimetype": "text/x-python",
   "name": "python",
   "nbconvert_exporter": "python",
   "pygments_lexer": "ipython3"
  }
 },
 "nbformat": 4,
 "nbformat_minor": 2
}
