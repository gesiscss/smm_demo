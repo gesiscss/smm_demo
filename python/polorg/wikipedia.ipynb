{
 "cells": [
  {
   "cell_type": "markdown",
   "metadata": {},
   "source": [
    "# Social Media Monitoring\n",
    "\n",
    "## Organization List\n",
    "\n",
    "\n",
    "The following table contains data on the organizations and their associated social acounts"
   ]
  },
  {
   "cell_type": "code",
   "execution_count": null,
   "metadata": {},
   "outputs": [],
   "source": [
    "import qgrid\n",
    "from smm_wrapper import SMM\n",
    "from wikiwho_wrapper import WikiWho\n",
    "qgrid.set_grid_option('maxVisibleRows', 5)\n",
    "\n",
    "# Create an instance to the smm wrapper\n",
    "smm = SMM(unit = \"organizations\")\n",
    "\n",
    "# Request the politicians from the API\n",
    "df = smm.dv.get_organizations()\n",
    "df = df[(df['category']=='political')]\n",
    "# Show the result\n",
    "qgrid.show_grid(df)"
   ]
  },
  {
   "cell_type": "markdown",
   "metadata": {},
   "source": [
    "## Instructions\n",
    "\n",
    "Please choose an `subcategory`, which indicates a political party, from the table above and enter its name in the field below:"
   ]
  },
  {
   "cell_type": "code",
   "execution_count": null,
   "metadata": {},
   "outputs": [],
   "source": [
    "party = 'afd'\n",
    "aggregation = 'month' #aggregation can be by day ('day'), week ('week') or month('month')"
   ]
  },
  {
   "cell_type": "code",
   "execution_count": null,
   "metadata": {},
   "outputs": [],
   "source": [
    "import pandas as pd\n",
    "\n",
    "# Filter the accounts by party, and valid ones (the ones that contain wp_ids)\n",
    "party_df = df[(df['subcategory']==party) & (df['wp_ids'].notnull())] \n",
    "\n",
    "# query the Social Media Monitoring API\n",
    "wiki_chobs = pd.concat(smm.dv.wikipedia(wikipedia_page_id=wp_id, aggregate_by=aggregation) \n",
    "               for wp_ids in party_df['wp_ids'] for wp_id in wp_ids) \n",
    "\n",
    "#using wikiwho to extract conflicts and revisions\n",
    "ww = WikiWho(lng='de')\n",
    "wiki_data = pd.concat(ww.dv.edit_persistence(page_id=wp_id) for wp_ids in party_df['wp_ids'] for wp_id in wp_ids )\n",
    "wiki_data['undos'] = wiki_data['dels'] + wiki_data['reins']\n",
    "wiki_data = wiki_data[['year_month','conflicts','revisions', 'undos']]\n",
    "\n",
    "# aggregate the wikipedia chobs\n",
    "total_wiki_chobs = wiki_chobs.groupby('date').agg({'chobs': 'sum'}).reset_index()"
   ]
  },
  {
   "cell_type": "code",
   "execution_count": null,
   "metadata": {},
   "outputs": [],
   "source": [
    "#aggregating the data from wikiwho and grouping it together with chobs\n",
    "wiki_data = wiki_data.groupby('year_month').agg(\n",
    "    {\n",
    "        'conflicts': 'sum',\n",
    "        'revisions': 'sum',\n",
    "        'undos': 'sum'\n",
    "    }).reset_index()\n",
    "wiki_total = pd.merge(total_wiki_chobs, wiki_data, left_on=total_wiki_chobs['date'], right_on=pd.to_datetime(wiki_data['year_month'])).reset_index()"
   ]
  },
  {
   "cell_type": "markdown",
   "metadata": {},
   "source": [
    "## Plotting"
   ]
  },
  {
   "cell_type": "code",
   "execution_count": null,
   "metadata": {},
   "outputs": [],
   "source": [
    "import plotly\n",
    "from plotly import graph_objs as go\n",
    "plotly.offline.init_notebook_mode(connected=True)\n",
    "\n",
    "plotly.offline.iplot({\n",
    "    \"data\": [go.Scatter(x=wiki_total['date'], y=wiki_total['chobs'], name='Change objects'),\n",
    "            go.Scatter(x=wiki_total['date'], y=wiki_total['revisions'], name='Revisions')], \n",
    "    \"layout\": go.Layout(hovermode='closest', title='Wikipedia (chobs and revisions)', xaxis={'title':'Date'}, yaxis={'title':'N'}, showlegend=True)\n",
    "})\n",
    "\n",
    "plotly.offline.iplot({\n",
    "    \"data\": [go.Scatter(x=wiki_total['date'], y=wiki_total['undos'], name='Undos'),\n",
    "            go.Scatter(x=wiki_total['date'], y=wiki_total['conflicts'], name='Conflicts')], \n",
    "    \"layout\": go.Layout(hovermode='closest', title='Wikipedia (undos and conflicts)', xaxis={'title':'Date'}, yaxis={'title':'N'}, showlegend=True)\n",
    "})"
   ]
  },
  {
   "cell_type": "code",
   "execution_count": null,
   "metadata": {},
   "outputs": [],
   "source": []
  }
 ],
 "metadata": {
  "kernelspec": {
   "display_name": "Python 3",
   "language": "python",
   "name": "python3"
  },
  "language_info": {
   "codemirror_mode": {
    "name": "ipython",
    "version": 3
   },
   "file_extension": ".py",
   "mimetype": "text/x-python",
   "name": "python",
   "nbconvert_exporter": "python",
   "pygments_lexer": "ipython3",
   "version": "3.6.7"
  }
 },
 "nbformat": 4,
 "nbformat_minor": 2
}
