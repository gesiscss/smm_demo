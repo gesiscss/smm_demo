{
 "cells": [
  {
   "cell_type": "markdown",
   "metadata": {},
   "source": [
    "# Social Media Monitoring\n",
    "\n",
    "\n",
    "\n",
    "The following plot shows the number of facebook posts and comments that contain the searched text:"
   ]
  },
  {
   "cell_type": "code",
   "execution_count": null,
   "metadata": {},
   "outputs": [],
   "source": [
    "from smm_wrapper import SMMPoliticians, SMMOrganizations\n",
    "\n",
    "# Create an instance to the smm wrapper\n",
    "smm = SMMPoliticians() #instance for politicians\n",
    "smm_o = SMMOrganizations() # instance for organizations"
   ]
  },
  {
   "cell_type": "markdown",
   "metadata": {},
   "source": [
    "## Instructions\n",
    "\n",
    "Please input the text which you would like to search by in the field `contained_text` below and choose `aggregation`:"
   ]
  },
  {
   "cell_type": "code",
   "execution_count": null,
   "metadata": {},
   "outputs": [],
   "source": [
    "contained_text = 'wahlen'\n",
    "aggregation = 'month' # aggregation can be by day ('day'), week ('week') or month('month')\n",
    "\n",
    "# using api to extract data\n",
    "#politicians\n",
    "posts_politicians = smm.api.posts_by(text_contains = contained_text, from_date='2017-09-01', to_date='2018-12-31', aggregate_by=aggregation)\n",
    "comments_politicians = smm.api.comments_by(text_contains = contained_text, from_date='2017-09-01', to_date='2018-12-31', aggregate_by=aggregation)\n",
    "#organizations\n",
    "posts_organizations = smm_o.api.posts_by(text_contains = contained_text, from_date='2017-09-01', to_date='2018-12-31', aggregate_by=aggregation)\n",
    "comments_organizations = smm_o.api.comments_by(text_contains = contained_text, from_date='2017-09-01', to_date='2018-12-31', aggregate_by=aggregation)"
   ]
  },
  {
   "cell_type": "markdown",
   "metadata": {},
   "source": [
    "## Plotting"
   ]
  },
  {
   "cell_type": "code",
   "execution_count": null,
   "metadata": {},
   "outputs": [],
   "source": [
    "import plotly\n",
    "from plotly import graph_objs as go\n",
    "plotly.offline.init_notebook_mode(connected=True)\n",
    "\n",
    "plotly.offline.iplot({\n",
    "    \"data\": [go.Scatter(x=posts_politicians['labels'], y=posts_politicians['values'], name='Politicians'),\n",
    "            go.Scatter(x=posts_organizations['labels'], y=posts_organizations['values'], name='Organizations')], \n",
    "    \"layout\": go.Layout(hovermode='closest', title = 'Facebook posts containing \\'{}\\''.format(contained_text), \n",
    "                        xaxis={'title':'Date'}, yaxis={'title':'N'})\n",
    "})\n",
    "plotly.offline.iplot({\n",
    "    \"data\": [go.Scatter(x=comments_politicians['labels'], y=comments_politicians['values'], name='Politicians'),\n",
    "            go.Scatter(x=comments_organizations['labels'], y=comments_organizations['values'], name='Organizations')], \n",
    "    \"layout\": go.Layout(hovermode='closest', title = 'Facebook comments containing \\'{}\\''.format(contained_text), \n",
    "                        xaxis={'title':'Date'}, yaxis={'title':'N'})\n",
    "})"
   ]
  },
  {
   "cell_type": "code",
   "execution_count": null,
   "metadata": {},
   "outputs": [],
   "source": []
  }
 ],
 "metadata": {
  "kernelspec": {
   "display_name": "Python 3",
   "language": "python",
   "name": "python3"
  },
  "language_info": {
   "codemirror_mode": {
    "name": "ipython",
    "version": 3
   },
   "file_extension": ".py",
   "mimetype": "text/x-python",
   "name": "python",
   "nbconvert_exporter": "python",
   "pygments_lexer": "ipython3",
   "version": "3.7.3"
  }
 },
 "nbformat": 4,
 "nbformat_minor": 2
}
