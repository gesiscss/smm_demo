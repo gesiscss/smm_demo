{
 "cells": [
  {
   "cell_type": "code",
   "execution_count": null,
   "metadata": {},
   "outputs": [],
   "source": [
    "# Parameters: \n",
    "contained_text = 'wahlen'\n",
    "aggregation = 'week' # aggregation can be by day ('day'), week ('week') or month('month')\n",
    "from_date='2017-09-01'\n",
    "to_date='2018-12-31'"
   ]
  },
  {
   "cell_type": "markdown",
   "metadata": {},
   "source": [
    "## Using API"
   ]
  },
  {
   "cell_type": "code",
   "execution_count": null,
   "metadata": {},
   "outputs": [],
   "source": [
    "from smm_wrapper import SMMPoliticians, SMMOrganizations\n",
    "\n",
    "# Create an instance to the smm wrapper\n",
    "smm = SMMPoliticians() #instance for politicians\n",
    "smm_o = SMMOrganizations() # instance for organizations\n",
    "\n",
    "#using the api to get the data\n",
    "#politicians\n",
    "posts_politicians = smm.api.posts_by(text_contains = contained_text, from_date=from_date, to_date=to_date, aggregate_by=aggregation)\n",
    "comments_politicians = smm.api.comments_by(text_contains = contained_text, from_date=from_date, to_date=to_date, aggregate_by=aggregation)\n",
    "#organizations\n",
    "posts_organizations = smm_o.api.posts_by(text_contains = contained_text, from_date=from_date, to_date=to_date, aggregate_by=aggregation)\n",
    "comments_organizations = smm_o.api.comments_by(text_contains = contained_text, from_date=from_date, to_date=to_date, aggregate_by=aggregation)"
   ]
  },
  {
   "cell_type": "markdown",
   "metadata": {},
   "source": [
    "## Plotting"
   ]
  },
  {
   "cell_type": "code",
   "execution_count": null,
   "metadata": {},
   "outputs": [],
   "source": [
    "import plotly\n",
    "from plotly import graph_objs as go\n",
    "plotly.offline.init_notebook_mode(connected=True)\n",
    "\n",
    "plotly.offline.iplot({\n",
    "    \"data\": [go.Scatter(x=posts_politicians['labels'], y=posts_politicians['values'], name='Politicians', line_shape='spline'),\n",
    "            go.Scatter(x=posts_organizations['labels'], y=posts_organizations['values'], name='Organizations', line_shape='spline')], \n",
    "    \"layout\": go.Layout(hovermode='closest', title = 'Facebook posts containing \\'{}\\''.format(contained_text), \n",
    "                        xaxis={'title':''}, yaxis={'title':'Posts'})\n",
    "})\n",
    "plotly.offline.iplot({\n",
    "    \"data\": [go.Scatter(x=comments_politicians['labels'], y=comments_politicians['values'], name='Politicians', line_shape='spline'),\n",
    "            go.Scatter(x=comments_organizations['labels'], y=comments_organizations['values'], name='Organizations', line_shape='spline')], \n",
    "    \"layout\": go.Layout(title = 'Facebook comments containing \\'{}\\''.format(contained_text), \n",
    "                        xaxis={'title':''}, yaxis={'title':'Comments'})\n",
    "})"
   ]
  }
 ],
 "metadata": {
  "kernelspec": {
   "display_name": "Python 3",
   "language": "python",
   "name": "python3"
  },
  "language_info": {
   "codemirror_mode": {
    "name": "ipython",
    "version": 3
   },
   "file_extension": ".py",
   "mimetype": "text/x-python",
   "name": "python",
   "nbconvert_exporter": "python",
   "pygments_lexer": "ipython3",
   "version": "3.7.3"
  }
 },
 "nbformat": 4,
 "nbformat_minor": 2
}
