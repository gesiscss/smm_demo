{
 "cells": [
  {
   "cell_type": "markdown",
   "metadata": {},
   "source": [
    "# Social Media Monitoring\n",
    "\n",
    "\n",
    "\n",
    "The following plot shows the number of tweets that contain the searched text:"
   ]
  },
  {
   "cell_type": "code",
   "execution_count": null,
   "metadata": {},
   "outputs": [],
   "source": [
    "from smm_wrapper import SMMPoliticians, SMMOrganizations\n",
    "\n",
    "# Create an instance to the smm wrapper\n",
    "smm = SMMPoliticians() #instance for politicians\n",
    "smm_o = SMMOrganizations() # instance for organizations"
   ]
  },
  {
   "cell_type": "markdown",
   "metadata": {},
   "source": [
    "## Instructions\n",
    "\n",
    "Please input the text which you would like to search by in the field `contained_text` below and choose `aggregation`:"
   ]
  },
  {
   "cell_type": "code",
   "execution_count": null,
   "metadata": {},
   "outputs": [],
   "source": [
    "contained_text = 'wahlen'\n",
    "aggregation = 'week' # aggregation can be by day ('day'), week ('week') or month('month')\n",
    "\n",
    "# using api to extract data\n",
    "tweets_politicians = smm.api.tweets_by(text_contains = contained_text, from_date='2017-09-01', to_date='2018-12-31', aggregate_by=aggregation)\n",
    "tweets_organizations = smm_o.api.tweets_by(text_contains = contained_text, from_date='2017-09-01', to_date='2018-12-31', aggregate_by=aggregation)\n",
    "general_tweets = smm.api.general_tweets(text_contains = contained_text, from_date='2017-09-01', to_date='2018-12-31', aggregate_by=aggregation)"
   ]
  },
  {
   "cell_type": "markdown",
   "metadata": {},
   "source": [
    "## Plotting"
   ]
  },
  {
   "cell_type": "code",
   "execution_count": null,
   "metadata": {},
   "outputs": [],
   "source": [
    "import plotly\n",
    "from plotly import graph_objs as go\n",
    "plotly.offline.init_notebook_mode(connected=True)\n",
    "\n",
    "plotly.offline.iplot({\n",
    "    \"data\": [go.Scatter(x=tweets_politicians['labels'], y=tweets_politicians['values'], name='Politicians', line_shape='spline'),\n",
    "            go.Scatter(x=tweets_organizations['labels'], y=tweets_organizations['values'], name='Organizations', line_shape='spline'),\n",
    "            go.Scatter(x=general_tweets['labels'], y=general_tweets['values'], name='General political tweets')], \n",
    "    \"layout\": go.Layout(title = 'Tweets containing \\'{}\\''.format(contained_text), \n",
    "                        xaxis={'title':''}, yaxis={'title':'Tweets'})\n",
    "})"
   ]
  }
 ],
 "metadata": {
  "kernelspec": {
   "display_name": "Python 3",
   "language": "python",
   "name": "python3"
  },
  "language_info": {
   "codemirror_mode": {
    "name": "ipython",
    "version": 3
   },
   "file_extension": ".py",
   "mimetype": "text/x-python",
   "name": "python",
   "nbconvert_exporter": "python",
   "pygments_lexer": "ipython3",
   "version": "3.6.7"
  }
 },
 "nbformat": 4,
 "nbformat_minor": 2
}
