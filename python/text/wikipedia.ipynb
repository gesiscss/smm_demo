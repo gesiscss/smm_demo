{
 "cells": [
  {
   "cell_type": "markdown",
   "metadata": {},
   "source": [
    "# Full text search on Wikipedia Changes\n",
    "\n",
    "The parameters in the cell below can be adjusted to search for other texts and time frames. \n",
    "\n",
    "### How to further explore the text?\n",
    "\n",
    " You an use the symbols `+` (i.e. *AND*), `|` (i.e. *OR*), `-`  (*NOT*), `()` (to aggregate operators) and `\"\"` (to search for consecutive tokens). For example, `\"deutschland ist\" + (afd | csu) -die` would search for all texts containing (1) *deutschland ist*, (2) either *afd* or *csu*, but not  *die*.\n",
    "\n",
    "***Alternatively***, you can direcly use the [politicians API](http://mediamonitoring.gesis.org/api/politicians/swagger/) or [organizations API](http://mediamonitoring.gesis.org/api/organizations/swagger/), or access them with the [SMM Wrapper](https://pypi.org/project/smm-wrapper/).\n",
    "\n",
    "## A. Set Up parameters"
   ]
  },
  {
   "cell_type": "code",
   "execution_count": null,
   "metadata": {},
   "outputs": [],
   "source": [
    "# Parameters: \n",
    "search_text = 'steuer'\n",
    "from_date = '2017-09-01'\n",
    "to_date = '2018-12-31'\n",
    "aggregation = 'week'"
   ]
  },
  {
   "cell_type": "markdown",
   "metadata": {},
   "source": [
    "## B. Using the SMM API (Politicians and Organizations)"
   ]
  },
  {
   "cell_type": "code",
   "execution_count": null,
   "metadata": {},
   "outputs": [],
   "source": [
    "from smm_wrapper import SMMPoliticians, SMMOrganizations\n",
    "\n",
    "# Create an instance to the smm wrapper\n",
    "smm = SMMPoliticians() #instance for politicians\n",
    "smm_o = SMMOrganizations() # instance for organizations\n",
    "\n",
    "# using api to extract data\n",
    "wiki_politicians = smm.api.wikipedia(text_contains = search_text, from_date=from_date, to_date=to_date, aggregate_by=aggregation)\n",
    "wiki_organizations = smm_o.api.wikipedia(text_contains = search_text, from_date=from_date, to_date=to_date, aggregate_by=aggregation)"
   ]
  },
  {
   "cell_type": "markdown",
   "metadata": {},
   "source": [
    "## C. Plotting"
   ]
  },
  {
   "cell_type": "code",
   "execution_count": null,
   "metadata": {},
   "outputs": [],
   "source": [
    "import plotly\n",
    "from plotly import graph_objs as go\n",
    "plotly.offline.init_notebook_mode(connected=True)\n",
    "\n",
    "plotly.offline.iplot({\n",
    "    \"data\": [go.Scatter(x=wiki_politicians['labels'], y=wiki_politicians['values'], name='Politicians', line_shape='spline'),\n",
    "            go.Scatter(x=wiki_organizations['labels'], y=wiki_organizations['values'], name='Organizations', line_shape='spline')], \n",
    "    \"layout\": go.Layout(title = 'Wikipedia Changes containing \\'{}\\''.format(search_text), \n",
    "                        yaxis={'title':'N'})\n",
    "})"
   ]
  }
 ],
 "metadata": {
  "kernelspec": {
   "display_name": "Python 3",
   "language": "python",
   "name": "python3"
  },
  "language_info": {
   "codemirror_mode": {
    "name": "ipython",
    "version": 3
   },
   "file_extension": ".py",
   "mimetype": "text/x-python",
   "name": "python",
   "nbconvert_exporter": "python",
   "pygments_lexer": "ipython3"
  }
 },
 "nbformat": 4,
 "nbformat_minor": 2
}
